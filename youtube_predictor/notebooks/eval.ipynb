{
 "cells": [
  {
   "cell_type": "markdown",
   "id": "628dae81-2ba7-471e-969d-bbd66e3ae574",
   "metadata": {},
   "source": [
    "# YouTube popularity predictor (Part 3): Model evaluation\n",
    "\n",
    "In the previous notebook I showed how the title and description of a YouTube video can be combined with its category identifier and the name of the channel to generate features for machine learning models. We first tokenised the text information using byte-pair encoding, then further processed them into tf-idf vectors: the tokenised text was converted to numerical vectors containing a frequency count of each token in each sample, weighted by the frequency of the token in the corpus of training texts. We looked at linear regression and five classification models: multinomial naive Bayes, K-nearest neighbours, support vector machine, logistic regression, and the perceptron algorithm. Due to the features numbering in the millions, which is hundreds of times larger than the training data, it was necessary to apply statistical regularisation and perform hyperparameter tuning for each of the models. Once the models were built, I then further tried to improve on their accuracy by using two techniques: probability calibration and stacking.\n",
    "\n",
    "In this notebook I'll evaluate all of the models on the test data and see how they perform compared to the previous cross-validation scores. The test data has so far been unseen: none of it was used to build the models. Let's first load the test data:"
   ]
  },
  {
   "cell_type": "code",
   "execution_count": 1,
   "id": "5f32136e-be41-415d-aec9-a6fbd9d1acbc",
   "metadata": {},
   "outputs": [
    {
     "data": {
      "text/html": [
       "<div>\n",
       "<style scoped>\n",
       "    .dataframe tbody tr th:only-of-type {\n",
       "        vertical-align: middle;\n",
       "    }\n",
       "\n",
       "    .dataframe tbody tr th {\n",
       "        vertical-align: top;\n",
       "    }\n",
       "\n",
       "    .dataframe thead th {\n",
       "        text-align: right;\n",
       "    }\n",
       "</style>\n",
       "<table border=\"1\" class=\"dataframe\">\n",
       "  <thead>\n",
       "    <tr style=\"text-align: right;\">\n",
       "      <th></th>\n",
       "      <th>channel_title</th>\n",
       "      <th>video_category</th>\n",
       "      <th>video_title</th>\n",
       "      <th>video_description</th>\n",
       "      <th>months</th>\n",
       "      <th>video_view_count</th>\n",
       "      <th>label</th>\n",
       "    </tr>\n",
       "  </thead>\n",
       "  <tbody>\n",
       "    <tr>\n",
       "      <th>0</th>\n",
       "      <td>RG LECTURES</td>\n",
       "      <td>27</td>\n",
       "      <td>MHTCET FULL REVISION ONE SHOT ALL FORMULAS - P...</td>\n",
       "      <td>MHTCET PHYSICS FULL COMPLETE ONE SHOT REVISION...</td>\n",
       "      <td>11</td>\n",
       "      <td>5.238984</td>\n",
       "      <td>1</td>\n",
       "    </tr>\n",
       "    <tr>\n",
       "      <th>1</th>\n",
       "      <td>FuTechs</td>\n",
       "      <td>28</td>\n",
       "      <td>Tony Robbin and Robot conversation Relationshi...</td>\n",
       "      <td>Speaker :Anthony Jay Robbins (né Mahavoric, bo...</td>\n",
       "      <td>10</td>\n",
       "      <td>4.364063</td>\n",
       "      <td>0</td>\n",
       "    </tr>\n",
       "    <tr>\n",
       "      <th>2</th>\n",
       "      <td>That Chemist</td>\n",
       "      <td>27</td>\n",
       "      <td>Nobel Prize in Chemistry 2022 (Recap)</td>\n",
       "      <td>The Nobel Prize in Chemistry for 2022 has been...</td>\n",
       "      <td>18</td>\n",
       "      <td>4.484656</td>\n",
       "      <td>0</td>\n",
       "    </tr>\n",
       "    <tr>\n",
       "      <th>3</th>\n",
       "      <td>SCIENCE FUN For Everyone!</td>\n",
       "      <td>27</td>\n",
       "      <td>Friction Fun Friction Science Experiment</td>\n",
       "      <td>Have fun exploring friction with this easy sci...</td>\n",
       "      <td>36</td>\n",
       "      <td>4.503437</td>\n",
       "      <td>0</td>\n",
       "    </tr>\n",
       "    <tr>\n",
       "      <th>4</th>\n",
       "      <td>Michigan Medicine</td>\n",
       "      <td>26</td>\n",
       "      <td>Deconstructing the Legitimization of Acupunctu...</td>\n",
       "      <td>Rick Harris, PhD\\nAssociate Professor, Anesthe...</td>\n",
       "      <td>57</td>\n",
       "      <td>4.632467</td>\n",
       "      <td>0</td>\n",
       "    </tr>\n",
       "    <tr>\n",
       "      <th>...</th>\n",
       "      <td>...</td>\n",
       "      <td>...</td>\n",
       "      <td>...</td>\n",
       "      <td>...</td>\n",
       "      <td>...</td>\n",
       "      <td>...</td>\n",
       "      <td>...</td>\n",
       "    </tr>\n",
       "    <tr>\n",
       "      <th>6328</th>\n",
       "      <td>CARB ACADEMY</td>\n",
       "      <td>27</td>\n",
       "      <td>Class 8th Maths Chapter 1 l NCERT EXERCISE-1.1...</td>\n",
       "      <td>Class 8th Maths Chapter 1 l NCERT EXERCISE-1.1...</td>\n",
       "      <td>16</td>\n",
       "      <td>5.496467</td>\n",
       "      <td>1</td>\n",
       "    </tr>\n",
       "    <tr>\n",
       "      <th>6329</th>\n",
       "      <td>Rafael Verdonck's World</td>\n",
       "      <td>22</td>\n",
       "      <td>Science World #7   Will Strangelets destroy th...</td>\n",
       "      <td>Will the universe be destroyed by a tiny eleme...</td>\n",
       "      <td>70</td>\n",
       "      <td>3.183270</td>\n",
       "      <td>0</td>\n",
       "    </tr>\n",
       "    <tr>\n",
       "      <th>6330</th>\n",
       "      <td>Trik Matematika mesi</td>\n",
       "      <td>27</td>\n",
       "      <td>deret angka matematika #shorts #maths</td>\n",
       "      <td>NaN</td>\n",
       "      <td>19</td>\n",
       "      <td>5.764919</td>\n",
       "      <td>1</td>\n",
       "    </tr>\n",
       "    <tr>\n",
       "      <th>6331</th>\n",
       "      <td>edureka!</td>\n",
       "      <td>27</td>\n",
       "      <td>Statistics And Probability Tutorial | Statisti...</td>\n",
       "      <td>🔥 Data Science Certification using R (Use Code...</td>\n",
       "      <td>59</td>\n",
       "      <td>5.561255</td>\n",
       "      <td>1</td>\n",
       "    </tr>\n",
       "    <tr>\n",
       "      <th>6332</th>\n",
       "      <td>TNPSC Students</td>\n",
       "      <td>22</td>\n",
       "      <td>10th science new book lesson 13 in Tamil/ உயிர...</td>\n",
       "      <td>உயிரினங்களின் அமைப்பு நிலைகள்  \\n\\n\\nPart I:ht...</td>\n",
       "      <td>48</td>\n",
       "      <td>3.983671</td>\n",
       "      <td>0</td>\n",
       "    </tr>\n",
       "  </tbody>\n",
       "</table>\n",
       "<p>6333 rows × 7 columns</p>\n",
       "</div>"
      ],
      "text/plain": [
       "                  channel_title  video_category  \\\n",
       "0                   RG LECTURES              27   \n",
       "1                       FuTechs              28   \n",
       "2                  That Chemist              27   \n",
       "3     SCIENCE FUN For Everyone!              27   \n",
       "4             Michigan Medicine              26   \n",
       "...                         ...             ...   \n",
       "6328               CARB ACADEMY              27   \n",
       "6329    Rafael Verdonck's World              22   \n",
       "6330       Trik Matematika mesi              27   \n",
       "6331                   edureka!              27   \n",
       "6332             TNPSC Students              22   \n",
       "\n",
       "                                            video_title  \\\n",
       "0     MHTCET FULL REVISION ONE SHOT ALL FORMULAS - P...   \n",
       "1     Tony Robbin and Robot conversation Relationshi...   \n",
       "2                 Nobel Prize in Chemistry 2022 (Recap)   \n",
       "3              Friction Fun Friction Science Experiment   \n",
       "4     Deconstructing the Legitimization of Acupunctu...   \n",
       "...                                                 ...   \n",
       "6328  Class 8th Maths Chapter 1 l NCERT EXERCISE-1.1...   \n",
       "6329  Science World #7   Will Strangelets destroy th...   \n",
       "6330              deret angka matematika #shorts #maths   \n",
       "6331  Statistics And Probability Tutorial | Statisti...   \n",
       "6332  10th science new book lesson 13 in Tamil/ உயிர...   \n",
       "\n",
       "                                      video_description  months  \\\n",
       "0     MHTCET PHYSICS FULL COMPLETE ONE SHOT REVISION...      11   \n",
       "1     Speaker :Anthony Jay Robbins (né Mahavoric, bo...      10   \n",
       "2     The Nobel Prize in Chemistry for 2022 has been...      18   \n",
       "3     Have fun exploring friction with this easy sci...      36   \n",
       "4     Rick Harris, PhD\\nAssociate Professor, Anesthe...      57   \n",
       "...                                                 ...     ...   \n",
       "6328  Class 8th Maths Chapter 1 l NCERT EXERCISE-1.1...      16   \n",
       "6329  Will the universe be destroyed by a tiny eleme...      70   \n",
       "6330                                                NaN      19   \n",
       "6331  🔥 Data Science Certification using R (Use Code...      59   \n",
       "6332  உயிரினங்களின் அமைப்பு நிலைகள்  \\n\\n\\nPart I:ht...      48   \n",
       "\n",
       "      video_view_count  label  \n",
       "0             5.238984      1  \n",
       "1             4.364063      0  \n",
       "2             4.484656      0  \n",
       "3             4.503437      0  \n",
       "4             4.632467      0  \n",
       "...                ...    ...  \n",
       "6328          5.496467      1  \n",
       "6329          3.183270      0  \n",
       "6330          5.764919      1  \n",
       "6331          5.561255      1  \n",
       "6332          3.983671      0  \n",
       "\n",
       "[6333 rows x 7 columns]"
      ]
     },
     "execution_count": 1,
     "metadata": {},
     "output_type": "execute_result"
    }
   ],
   "source": [
    "import pandas as pd\n",
    "import numpy as np\n",
    "from tqdm import tqdm\n",
    "import gcsfs\n",
    "\n",
    "test = pd.read_csv('gs://yt_popularity_predictor/data/test.csv')\n",
    "test"
   ]
  },
  {
   "cell_type": "markdown",
   "id": "e88c112f-fae7-46f8-a8e6-9e9b8ece8344",
   "metadata": {},
   "source": [
    "The models generated in the previous notebook accept features in the form of tf-idf vectors and the one-hot encoded video categories. In order to use the models on the test data, we will build a pipeline which performs tokenisation and tf-idf vectorisation on the text and combines them with the one-hot encoded video categories before passing them to the models. The one-hot encoder, tokenisers and vectorisers have already been saved and just need to be loaded."
   ]
  },
  {
   "cell_type": "code",
   "execution_count": 3,
   "id": "478c5efb-a8a5-4566-a525-2df6aedb9570",
   "metadata": {},
   "outputs": [],
   "source": [
    "from transformers import PreTrainedTokenizerFast\n",
    "\n",
    "tokenizers_trained_uncased = {}\n",
    "\n",
    "for field in ['channel_title', 'video_title', 'video_description']:\n",
    "    tokenizers_trained_uncased[field] = PreTrainedTokenizerFast(tokenizer_file=f\"tokenizers/BPE_tokenizer_{field}_uncased.json\")\n",
    "\n",
    "def tokenize(text, field, cased=True):\n",
    "    if cased == False:\n",
    "        return [str(t) for t in tokenizers_trained_uncased[field](text.lower())['input_ids']]\n",
    "\n",
    "def tokenizer_decode(tokenized, field, cased=True):\n",
    "    if cased == False:\n",
    "        return tokenizers_trained_uncased[field].decode([int(t) for t in tokenized])"
   ]
  },
  {
   "cell_type": "code",
   "execution_count": 4,
   "id": "8fd89357-5fcb-42b3-8c77-2f138a2d5630",
   "metadata": {},
   "outputs": [
    {
     "name": "stderr",
     "output_type": "stream",
     "text": [
      "/home/tommy/.venv/lib/python3.12/site-packages/sklearn/base.py:376: InconsistentVersionWarning: Trying to unpickle estimator OneHotEncoder from version 1.2.2 when using version 1.4.2. This might lead to breaking code or invalid results. Use at your own risk. For more info please refer to:\n",
      "https://scikit-learn.org/stable/model_persistence.html#security-maintainability-limitations\n",
      "  warnings.warn(\n"
     ]
    }
   ],
   "source": [
    "import joblib\n",
    "\n",
    "gcs = gcsfs.GCSFileSystem()\n",
    "\n",
    "with gcs.open('yt_popularity_predictor/models/video_category_encoder.joblib', 'rb') as f:\n",
    "    video_category_encoder = joblib.load(f)"
   ]
  },
  {
   "cell_type": "code",
   "execution_count": 5,
   "id": "367532d9-afe3-4b7d-ac31-789445ca348c",
   "metadata": {},
   "outputs": [
    {
     "name": "stderr",
     "output_type": "stream",
     "text": [
      "/home/tommy/.venv/lib/python3.12/site-packages/sklearn/base.py:376: InconsistentVersionWarning: Trying to unpickle estimator TfidfTransformer from version 1.2.2 when using version 1.4.2. This might lead to breaking code or invalid results. Use at your own risk. For more info please refer to:\n",
      "https://scikit-learn.org/stable/model_persistence.html#security-maintainability-limitations\n",
      "  warnings.warn(\n",
      "/home/tommy/.venv/lib/python3.12/site-packages/sklearn/base.py:376: InconsistentVersionWarning: Trying to unpickle estimator TfidfVectorizer from version 1.2.2 when using version 1.4.2. This might lead to breaking code or invalid results. Use at your own risk. For more info please refer to:\n",
      "https://scikit-learn.org/stable/model_persistence.html#security-maintainability-limitations\n",
      "  warnings.warn(\n"
     ]
    }
   ],
   "source": [
    "def dummy(x):\n",
    "    return x\n",
    "\n",
    "params_fixed = {'vectorizer_type': [], 'ngram_range': []}\n",
    "vectorizers = []\n",
    "\n",
    "for ngram_range in [(1,3)]:\n",
    "    for sublinear_tf in [False,True]:\n",
    "        for use_idf in [False,True]:\n",
    "            if use_idf == False and sublinear_tf == False:\n",
    "                params_fixed['vectorizer_type'].append('TF')\n",
    "            elif use_idf == False and sublinear_tf == True:\n",
    "                params_fixed['vectorizer_type'].append('log(TF)')\n",
    "            elif use_idf == True and sublinear_tf == False:\n",
    "                params_fixed['vectorizer_type'].append('TF-IDF')\n",
    "            elif use_idf == True and sublinear_tf == True:\n",
    "                params_fixed['vectorizer_type'].append('log(TF)-IDF')\n",
    "            params_fixed['ngram_range'].append(ngram_range)\n",
    "\n",
    "            with gcs.open(f\"yt_popularity_predictor/vectorizers/channel_title_{params_fixed['vectorizer_type'][-1]}_{params_fixed['ngram_range'][-1]}.joblib\", 'rb') as f:\n",
    "                vectorizer_channel_title = joblib.load(f)\n",
    "            with gcs.open(f\"yt_popularity_predictor/vectorizers/video_title_{params_fixed['vectorizer_type'][-1]}_{params_fixed['ngram_range'][-1]}.joblib\", 'rb') as f:\n",
    "                vectorizer_video_title = joblib.load(f)\n",
    "            with gcs.open(f\"yt_popularity_predictor/vectorizers/video_description_{params_fixed['vectorizer_type'][-1]}_{params_fixed['ngram_range'][-1]}.joblib\", 'rb') as f:\n",
    "                vectorizer_video_description = joblib.load(f)\n",
    "\n",
    "            vectorizers.append({'channel_title': vectorizer_channel_title,\n",
    "                                'video_title': vectorizer_video_title,\n",
    "                                'video_description': vectorizer_video_description})"
   ]
  },
  {
   "cell_type": "markdown",
   "id": "69b5e275-8025-4526-813b-1a8e1a00ef0a",
   "metadata": {},
   "source": [
    "I'll define a preprocessor that combines all the steps required to transform the raw features in the csv file to input data for the built models."
   ]
  },
  {
   "cell_type": "code",
   "execution_count": 13,
   "id": "a46f48b5-96f9-4d68-8792-ecb6c267eef2",
   "metadata": {},
   "outputs": [],
   "source": [
    "from sklearn.pipeline import Pipeline, FunctionTransformer\n",
    "from scipy.sparse import csr_matrix, hstack\n",
    "\n",
    "def preprocessor(df, vectorizer):\n",
    "    X_tokenized = {field: df[field].apply(lambda text: tokenize(text, field, cased=False)) for field in ['channel_title', 'video_title', 'video_description']}\n",
    "    X_vectorized = {field: vectorizer[field].transform(X_tokenized[field]) for field in X_tokenized}\n",
    "    X_category = video_category_encoder.transform(df[['video_category']]).toarray()\n",
    "    return hstack([X_category, X_vectorized['channel_title'], X_vectorized['video_title'], X_vectorized['video_description']])"
   ]
  },
  {
   "cell_type": "markdown",
   "id": "e0a8b64b-c290-4ca5-a4e8-88b91032ddd8",
   "metadata": {},
   "source": [
    "## Loading the classification models\n",
    "\n",
    "We are now ready to load the trained models. We have four base classifiers: multinomial naive Bayes, support vector machine, logistic regression and perceptron. In addition, we have probability calibrated versions of each of these classifiers, and two stacking classifiers that combine the predictions of the five base models using two different metaclassifiers, logistic regression and Gaussian naive Bayes."
   ]
  },
  {
   "cell_type": "code",
   "execution_count": 7,
   "id": "44b4edf0-e433-4629-ac62-701d2ffa2175",
   "metadata": {},
   "outputs": [
    {
     "name": "stderr",
     "output_type": "stream",
     "text": [
      "/home/tommy/.venv/lib/python3.12/site-packages/sklearn/base.py:376: InconsistentVersionWarning: Trying to unpickle estimator MultinomialNB from version 1.2.2 when using version 1.4.2. This might lead to breaking code or invalid results. Use at your own risk. For more info please refer to:\n",
      "https://scikit-learn.org/stable/model_persistence.html#security-maintainability-limitations\n",
      "  warnings.warn(\n"
     ]
    },
    {
     "name": "stdout",
     "output_type": "stream",
     "text": [
      "Loaded model:  mnB_TF_(1, 3)\n",
      "Loaded model:  mnB_TF-IDF_(1, 3)\n",
      "Loaded model:  mnB_log(TF)_(1, 3)\n",
      "Loaded model:  mnB_log(TF)-IDF_(1, 3)\n"
     ]
    },
    {
     "name": "stderr",
     "output_type": "stream",
     "text": [
      "/home/tommy/.venv/lib/python3.12/site-packages/sklearn/base.py:376: InconsistentVersionWarning: Trying to unpickle estimator _SigmoidCalibration from version 1.2.2 when using version 1.4.2. This might lead to breaking code or invalid results. Use at your own risk. For more info please refer to:\n",
      "https://scikit-learn.org/stable/model_persistence.html#security-maintainability-limitations\n",
      "  warnings.warn(\n",
      "/home/tommy/.venv/lib/python3.12/site-packages/sklearn/base.py:376: InconsistentVersionWarning: Trying to unpickle estimator CalibratedClassifierCV from version 1.2.2 when using version 1.4.2. This might lead to breaking code or invalid results. Use at your own risk. For more info please refer to:\n",
      "https://scikit-learn.org/stable/model_persistence.html#security-maintainability-limitations\n",
      "  warnings.warn(\n"
     ]
    },
    {
     "name": "stdout",
     "output_type": "stream",
     "text": [
      "Loaded model:  mnB_TF_(1, 3)_calibrated\n",
      "Loaded model:  mnB_TF-IDF_(1, 3)_calibrated\n",
      "Loaded model:  mnB_log(TF)_(1, 3)_calibrated\n",
      "Loaded model:  mnB_log(TF)-IDF_(1, 3)_calibrated\n"
     ]
    },
    {
     "name": "stderr",
     "output_type": "stream",
     "text": [
      "/home/tommy/.venv/lib/python3.12/site-packages/sklearn/base.py:376: InconsistentVersionWarning: Trying to unpickle estimator SGDClassifier from version 1.2.2 when using version 1.4.2. This might lead to breaking code or invalid results. Use at your own risk. For more info please refer to:\n",
      "https://scikit-learn.org/stable/model_persistence.html#security-maintainability-limitations\n",
      "  warnings.warn(\n"
     ]
    },
    {
     "name": "stdout",
     "output_type": "stream",
     "text": [
      "Loaded model:  svm_TF_(1, 3)\n",
      "Loaded model:  svm_TF-IDF_(1, 3)\n",
      "Loaded model:  svm_log(TF)_(1, 3)\n",
      "Loaded model:  svm_log(TF)-IDF_(1, 3)\n",
      "Loaded model:  svm_TF_(1, 3)_calibrated\n",
      "Loaded model:  svm_TF-IDF_(1, 3)_calibrated\n",
      "Loaded model:  svm_log(TF)_(1, 3)_calibrated\n",
      "Loaded model:  svm_log(TF)-IDF_(1, 3)_calibrated\n",
      "Loaded model:  logreg_TF_(1, 3)\n",
      "Loaded model:  logreg_TF-IDF_(1, 3)\n",
      "Loaded model:  logreg_log(TF)_(1, 3)\n",
      "Loaded model:  logreg_log(TF)-IDF_(1, 3)\n",
      "Loaded model:  logreg_TF_(1, 3)_calibrated\n",
      "Loaded model:  logreg_TF-IDF_(1, 3)_calibrated\n",
      "Loaded model:  logreg_log(TF)_(1, 3)_calibrated\n",
      "Loaded model:  logreg_log(TF)-IDF_(1, 3)_calibrated\n",
      "Loaded model:  perceptron_TF_(1, 3)\n",
      "Loaded model:  perceptron_TF-IDF_(1, 3)\n",
      "Loaded model:  perceptron_log(TF)_(1, 3)\n",
      "Loaded model:  perceptron_log(TF)-IDF_(1, 3)\n",
      "Loaded model:  perceptron_TF_(1, 3)_calibrated\n",
      "Loaded model:  perceptron_TF-IDF_(1, 3)_calibrated\n",
      "Loaded model:  perceptron_log(TF)_(1, 3)_calibrated\n",
      "Loaded model:  perceptron_log(TF)-IDF_(1, 3)_calibrated\n",
      "CPU times: user 43.8 s, sys: 24 s, total: 1min 7s\n",
      "Wall time: 24min 1s\n"
     ]
    }
   ],
   "source": [
    "%%time\n",
    "\n",
    "models = {}\n",
    "pipes = {}\n",
    "\n",
    "for est in ['mnB', 'svm', 'logreg', 'perceptron']:\n",
    "    for cal in ['', '_calibrated']:\n",
    "        for n in range(len(params_fixed['vectorizer_type'])):\n",
    "            model_name = f\"{est}_{params_fixed['vectorizer_type'][n]}_{params_fixed['ngram_range'][n]}{cal}\"\n",
    "            with gcs.open(f\"yt_popularity_predictor/models/{model_name}.joblib\") as f:\n",
    "                model = joblib.load(f)\n",
    "                print(\"Loaded model: \", model_name)\n",
    "            models[model_name] = model\n",
    "            pipes[model_name] = Pipeline([('preprocessor', FunctionTransformer(lambda x: preprocessor(x, vectorizers[n]))), (est, model)])"
   ]
  },
  {
   "cell_type": "code",
   "execution_count": 8,
   "id": "bf09d24d-b416-4304-8c90-086b38b86482",
   "metadata": {},
   "outputs": [
    {
     "name": "stderr",
     "output_type": "stream",
     "text": [
      "/home/tommy/.venv/lib/python3.12/site-packages/sklearn/base.py:376: InconsistentVersionWarning: Trying to unpickle estimator LogisticRegression from version 1.2.2 when using version 1.4.2. This might lead to breaking code or invalid results. Use at your own risk. For more info please refer to:\n",
      "https://scikit-learn.org/stable/model_persistence.html#security-maintainability-limitations\n",
      "  warnings.warn(\n",
      "/home/tommy/.venv/lib/python3.12/site-packages/sklearn/base.py:376: InconsistentVersionWarning: Trying to unpickle estimator LabelEncoder from version 1.2.2 when using version 1.4.2. This might lead to breaking code or invalid results. Use at your own risk. For more info please refer to:\n",
      "https://scikit-learn.org/stable/model_persistence.html#security-maintainability-limitations\n",
      "  warnings.warn(\n",
      "/home/tommy/.venv/lib/python3.12/site-packages/sklearn/base.py:376: InconsistentVersionWarning: Trying to unpickle estimator StackingClassifier from version 1.2.2 when using version 1.4.2. This might lead to breaking code or invalid results. Use at your own risk. For more info please refer to:\n",
      "https://scikit-learn.org/stable/model_persistence.html#security-maintainability-limitations\n",
      "  warnings.warn(\n",
      "/home/tommy/.venv/lib/python3.12/site-packages/sklearn/base.py:376: InconsistentVersionWarning: Trying to unpickle estimator GaussianNB from version 1.2.2 when using version 1.4.2. This might lead to breaking code or invalid results. Use at your own risk. For more info please refer to:\n",
      "https://scikit-learn.org/stable/model_persistence.html#security-maintainability-limitations\n",
      "  warnings.warn(\n"
     ]
    },
    {
     "name": "stdout",
     "output_type": "stream",
     "text": [
      "CPU times: user 19.5 s, sys: 12.2 s, total: 31.7 s\n",
      "Wall time: 10min 22s\n"
     ]
    }
   ],
   "source": [
    "%%time\n",
    "\n",
    "for model_name in ['stacking_logreg', 'stacking_gnb']:\n",
    "    with gcs.open(f\"yt_popularity_predictor/models/{model_name}.joblib\") as f:\n",
    "        model = joblib.load(f)\n",
    "    models[model_name] = model\n",
    "    pipes[model_name] = Pipeline([('preprocessor', FunctionTransformer(lambda x: preprocessor(x, vectorizers[n]))), (est, model)])"
   ]
  },
  {
   "cell_type": "code",
   "execution_count": 88,
   "id": "0666ad84-bc58-413d-9cd6-bb216654a548",
   "metadata": {},
   "outputs": [
    {
     "data": {
      "text/plain": [
       "608"
      ]
     },
     "execution_count": 88,
     "metadata": {},
     "output_type": "execute_result"
    }
   ],
   "source": [
    "models['stacking_logreg'].estimators_[2].n_features_in_"
   ]
  },
  {
   "cell_type": "code",
   "execution_count": 67,
   "id": "5ca9aa47-2757-4d91-bf25-4524aed832bc",
   "metadata": {},
   "outputs": [],
   "source": [
    "model_names = list(models.keys())"
   ]
  },
  {
   "cell_type": "markdown",
   "id": "73454be4-beb2-47a0-afc9-95726820cc84",
   "metadata": {},
   "source": [
    "Let's now calculate the model predictions:"
   ]
  },
  {
   "cell_type": "code",
   "execution_count": 9,
   "id": "7d9880af-2218-4480-bf35-208d5a2c6e93",
   "metadata": {},
   "outputs": [],
   "source": [
    "test.fillna('', inplace=True)"
   ]
  },
  {
   "cell_type": "code",
   "execution_count": 72,
   "id": "d8c19de1-577a-43e8-a8c7-127da90263b8",
   "metadata": {},
   "outputs": [
    {
     "name": "stderr",
     "output_type": "stream",
     "text": [
      "  0%|                                                    | 0/34 [00:00<?, ?it/s]"
     ]
    },
    {
     "name": "stdout",
     "output_type": "stream",
     "text": [
      "Running model:  mnB_TF_(1, 3)\n",
      "Got predictions\n",
      "Trying to get probas\n"
     ]
    },
    {
     "name": "stderr",
     "output_type": "stream",
     "text": [
      "  3%|█▎                                          | 1/34 [00:09<04:57,  9.03s/it]"
     ]
    },
    {
     "name": "stdout",
     "output_type": "stream",
     "text": [
      "Got probas\n",
      "Running model:  mnB_TF-IDF_(1, 3)\n",
      "Got predictions\n",
      "Trying to get probas\n"
     ]
    },
    {
     "name": "stderr",
     "output_type": "stream",
     "text": [
      "  6%|██▌                                         | 2/34 [00:18<04:49,  9.03s/it]"
     ]
    },
    {
     "name": "stdout",
     "output_type": "stream",
     "text": [
      "Got probas\n",
      "Running model:  mnB_log(TF)_(1, 3)\n",
      "Got predictions\n",
      "Trying to get probas\n"
     ]
    },
    {
     "name": "stderr",
     "output_type": "stream",
     "text": [
      "  9%|███▉                                        | 3/34 [00:27<04:40,  9.06s/it]"
     ]
    },
    {
     "name": "stdout",
     "output_type": "stream",
     "text": [
      "Got probas\n",
      "Running model:  mnB_log(TF)-IDF_(1, 3)\n",
      "Got predictions\n",
      "Trying to get probas\n"
     ]
    },
    {
     "name": "stderr",
     "output_type": "stream",
     "text": [
      " 12%|█████▏                                      | 4/34 [00:36<04:30,  9.01s/it]"
     ]
    },
    {
     "name": "stdout",
     "output_type": "stream",
     "text": [
      "Got probas\n",
      "Running model:  mnB_TF_(1, 3)_calibrated\n",
      "Got predictions\n",
      "Trying to get probas\n"
     ]
    },
    {
     "name": "stderr",
     "output_type": "stream",
     "text": [
      " 15%|██████▍                                     | 5/34 [00:46<04:39,  9.64s/it]"
     ]
    },
    {
     "name": "stdout",
     "output_type": "stream",
     "text": [
      "Got probas\n",
      "Running model:  mnB_TF-IDF_(1, 3)_calibrated\n",
      "Got predictions\n",
      "Trying to get probas\n"
     ]
    },
    {
     "name": "stderr",
     "output_type": "stream",
     "text": [
      " 18%|███████▊                                    | 6/34 [00:57<04:42, 10.08s/it]"
     ]
    },
    {
     "name": "stdout",
     "output_type": "stream",
     "text": [
      "Got probas\n",
      "Running model:  mnB_log(TF)_(1, 3)_calibrated\n",
      "Got predictions\n",
      "Trying to get probas\n"
     ]
    },
    {
     "name": "stderr",
     "output_type": "stream",
     "text": [
      " 21%|█████████                                   | 7/34 [01:08<04:38, 10.33s/it]"
     ]
    },
    {
     "name": "stdout",
     "output_type": "stream",
     "text": [
      "Got probas\n",
      "Running model:  mnB_log(TF)-IDF_(1, 3)_calibrated\n",
      "Got predictions\n",
      "Trying to get probas\n"
     ]
    },
    {
     "name": "stderr",
     "output_type": "stream",
     "text": [
      " 24%|██████████▎                                 | 8/34 [01:19<04:31, 10.46s/it]"
     ]
    },
    {
     "name": "stdout",
     "output_type": "stream",
     "text": [
      "Got probas\n",
      "Running model:  svm_TF_(1, 3)\n"
     ]
    },
    {
     "name": "stderr",
     "output_type": "stream",
     "text": [
      " 26%|███████████▋                                | 9/34 [01:23<03:34,  8.59s/it]"
     ]
    },
    {
     "name": "stdout",
     "output_type": "stream",
     "text": [
      "Got predictions\n",
      "Running model:  svm_TF-IDF_(1, 3)\n"
     ]
    },
    {
     "name": "stderr",
     "output_type": "stream",
     "text": [
      " 29%|████████████▋                              | 10/34 [01:28<02:56,  7.35s/it]"
     ]
    },
    {
     "name": "stdout",
     "output_type": "stream",
     "text": [
      "Got predictions\n",
      "Running model:  svm_log(TF)_(1, 3)\n"
     ]
    },
    {
     "name": "stderr",
     "output_type": "stream",
     "text": [
      " 32%|█████████████▉                             | 11/34 [01:32<02:28,  6.46s/it]"
     ]
    },
    {
     "name": "stdout",
     "output_type": "stream",
     "text": [
      "Got predictions\n",
      "Running model:  svm_log(TF)-IDF_(1, 3)\n"
     ]
    },
    {
     "name": "stderr",
     "output_type": "stream",
     "text": [
      " 35%|███████████████▏                           | 12/34 [01:37<02:09,  5.86s/it]"
     ]
    },
    {
     "name": "stdout",
     "output_type": "stream",
     "text": [
      "Got predictions\n",
      "Running model:  svm_TF_(1, 3)_calibrated\n"
     ]
    },
    {
     "name": "stderr",
     "output_type": "stream",
     "text": [
      " 38%|████████████████▍                          | 13/34 [01:42<01:59,  5.68s/it]"
     ]
    },
    {
     "name": "stdout",
     "output_type": "stream",
     "text": [
      "Got predictions\n",
      "Running model:  svm_TF-IDF_(1, 3)_calibrated\n"
     ]
    },
    {
     "name": "stderr",
     "output_type": "stream",
     "text": [
      " 41%|█████████████████▋                         | 14/34 [01:47<01:50,  5.52s/it]"
     ]
    },
    {
     "name": "stdout",
     "output_type": "stream",
     "text": [
      "Got predictions\n",
      "Running model:  svm_log(TF)_(1, 3)_calibrated\n"
     ]
    },
    {
     "name": "stderr",
     "output_type": "stream",
     "text": [
      " 44%|██████████████████▉                        | 15/34 [01:54<01:49,  5.75s/it]"
     ]
    },
    {
     "name": "stdout",
     "output_type": "stream",
     "text": [
      "Got predictions\n",
      "Running model:  svm_log(TF)-IDF_(1, 3)_calibrated\n"
     ]
    },
    {
     "name": "stderr",
     "output_type": "stream",
     "text": [
      " 47%|████████████████████▏                      | 16/34 [02:01<01:50,  6.13s/it]"
     ]
    },
    {
     "name": "stdout",
     "output_type": "stream",
     "text": [
      "Got predictions\n",
      "Running model:  logreg_TF_(1, 3)\n",
      "Got predictions\n",
      "Trying to get probas\n"
     ]
    },
    {
     "name": "stderr",
     "output_type": "stream",
     "text": [
      " 50%|█████████████████████▌                     | 17/34 [02:10<02:02,  7.21s/it]"
     ]
    },
    {
     "name": "stdout",
     "output_type": "stream",
     "text": [
      "Got probas\n",
      "Running model:  logreg_TF-IDF_(1, 3)\n",
      "Got predictions\n",
      "Trying to get probas\n"
     ]
    },
    {
     "name": "stderr",
     "output_type": "stream",
     "text": [
      " 53%|██████████████████████▊                    | 18/34 [02:19<02:04,  7.76s/it]"
     ]
    },
    {
     "name": "stdout",
     "output_type": "stream",
     "text": [
      "Got probas\n",
      "Running model:  logreg_log(TF)_(1, 3)\n",
      "Got predictions\n",
      "Trying to get probas\n"
     ]
    },
    {
     "name": "stderr",
     "output_type": "stream",
     "text": [
      " 56%|████████████████████████                   | 19/34 [02:28<02:01,  8.11s/it]"
     ]
    },
    {
     "name": "stdout",
     "output_type": "stream",
     "text": [
      "Got probas\n",
      "Running model:  logreg_log(TF)-IDF_(1, 3)\n",
      "Got predictions\n",
      "Trying to get probas\n"
     ]
    },
    {
     "name": "stderr",
     "output_type": "stream",
     "text": [
      " 59%|█████████████████████████▎                 | 20/34 [02:37<01:57,  8.38s/it]"
     ]
    },
    {
     "name": "stdout",
     "output_type": "stream",
     "text": [
      "Got probas\n",
      "Running model:  logreg_TF_(1, 3)_calibrated\n",
      "Got predictions\n",
      "Trying to get probas\n"
     ]
    },
    {
     "name": "stderr",
     "output_type": "stream",
     "text": [
      " 62%|██████████████████████████▌                | 21/34 [02:48<01:56,  8.97s/it]"
     ]
    },
    {
     "name": "stdout",
     "output_type": "stream",
     "text": [
      "Got probas\n",
      "Running model:  logreg_TF-IDF_(1, 3)_calibrated\n",
      "Got predictions\n",
      "Trying to get probas\n"
     ]
    },
    {
     "name": "stderr",
     "output_type": "stream",
     "text": [
      " 65%|███████████████████████████▊               | 22/34 [02:58<01:52,  9.39s/it]"
     ]
    },
    {
     "name": "stdout",
     "output_type": "stream",
     "text": [
      "Got probas\n",
      "Running model:  logreg_log(TF)_(1, 3)_calibrated\n",
      "Got predictions\n",
      "Trying to get probas\n"
     ]
    },
    {
     "name": "stderr",
     "output_type": "stream",
     "text": [
      " 68%|█████████████████████████████              | 23/34 [03:09<01:49,  9.97s/it]"
     ]
    },
    {
     "name": "stdout",
     "output_type": "stream",
     "text": [
      "Got probas\n",
      "Running model:  logreg_log(TF)-IDF_(1, 3)_calibrated\n",
      "Got predictions\n",
      "Trying to get probas\n"
     ]
    },
    {
     "name": "stderr",
     "output_type": "stream",
     "text": [
      " 71%|██████████████████████████████▎            | 24/34 [03:21<01:45, 10.55s/it]"
     ]
    },
    {
     "name": "stdout",
     "output_type": "stream",
     "text": [
      "Got probas\n",
      "Running model:  perceptron_TF_(1, 3)\n"
     ]
    },
    {
     "name": "stderr",
     "output_type": "stream",
     "text": [
      " 74%|███████████████████████████████▌           | 25/34 [03:26<01:18,  8.73s/it]"
     ]
    },
    {
     "name": "stdout",
     "output_type": "stream",
     "text": [
      "Got predictions\n",
      "Running model:  perceptron_TF-IDF_(1, 3)\n"
     ]
    },
    {
     "name": "stderr",
     "output_type": "stream",
     "text": [
      " 76%|████████████████████████████████▉          | 26/34 [03:30<00:59,  7.44s/it]"
     ]
    },
    {
     "name": "stdout",
     "output_type": "stream",
     "text": [
      "Got predictions\n",
      "Running model:  perceptron_log(TF)_(1, 3)\n"
     ]
    },
    {
     "name": "stderr",
     "output_type": "stream",
     "text": [
      " 79%|██████████████████████████████████▏        | 27/34 [03:34<00:45,  6.46s/it]"
     ]
    },
    {
     "name": "stdout",
     "output_type": "stream",
     "text": [
      "Got predictions\n",
      "Running model:  perceptron_log(TF)-IDF_(1, 3)\n"
     ]
    },
    {
     "name": "stderr",
     "output_type": "stream",
     "text": [
      " 82%|███████████████████████████████████▍       | 28/34 [03:39<00:34,  5.80s/it]"
     ]
    },
    {
     "name": "stdout",
     "output_type": "stream",
     "text": [
      "Got predictions\n",
      "Running model:  perceptron_TF_(1, 3)_calibrated\n"
     ]
    },
    {
     "name": "stderr",
     "output_type": "stream",
     "text": [
      " 85%|████████████████████████████████████▋      | 29/34 [03:43<00:27,  5.51s/it]"
     ]
    },
    {
     "name": "stdout",
     "output_type": "stream",
     "text": [
      "Got predictions\n",
      "Running model:  perceptron_TF-IDF_(1, 3)_calibrated\n"
     ]
    },
    {
     "name": "stderr",
     "output_type": "stream",
     "text": [
      " 88%|█████████████████████████████████████▉     | 30/34 [03:48<00:21,  5.31s/it]"
     ]
    },
    {
     "name": "stdout",
     "output_type": "stream",
     "text": [
      "Got predictions\n",
      "Running model:  perceptron_log(TF)_(1, 3)_calibrated\n"
     ]
    },
    {
     "name": "stderr",
     "output_type": "stream",
     "text": [
      " 91%|███████████████████████████████████████▏   | 31/34 [03:53<00:15,  5.17s/it]"
     ]
    },
    {
     "name": "stdout",
     "output_type": "stream",
     "text": [
      "Got predictions\n",
      "Running model:  perceptron_log(TF)-IDF_(1, 3)_calibrated\n"
     ]
    },
    {
     "name": "stderr",
     "output_type": "stream",
     "text": [
      " 94%|████████████████████████████████████████▍  | 32/34 [03:58<00:10,  5.10s/it]"
     ]
    },
    {
     "name": "stdout",
     "output_type": "stream",
     "text": [
      "Got predictions\n",
      "Running model:  stacking_logreg\n"
     ]
    },
    {
     "name": "stderr",
     "output_type": "stream",
     "text": [
      " 94%|████████████████████████████████████████▍  | 32/34 [04:02<00:15,  7.58s/it]\n"
     ]
    },
    {
     "ename": "ValueError",
     "evalue": "X has 3508784 features, but MultinomialNB is expecting 608 features as input.",
     "output_type": "error",
     "traceback": [
      "\u001b[0;31m---------------------------------------------------------------------------\u001b[0m",
      "\u001b[0;31mValueError\u001b[0m                                Traceback (most recent call last)",
      "Cell \u001b[0;32mIn[72], line 6\u001b[0m\n\u001b[1;32m      4\u001b[0m \u001b[38;5;28;01mfor\u001b[39;00m model_name \u001b[38;5;129;01min\u001b[39;00m tqdm(model_names):\n\u001b[1;32m      5\u001b[0m     \u001b[38;5;28mprint\u001b[39m(\u001b[38;5;124m\"\u001b[39m\u001b[38;5;124mRunning model: \u001b[39m\u001b[38;5;124m\"\u001b[39m, model_name)\n\u001b[0;32m----> 6\u001b[0m     y_preds[model_name] \u001b[38;5;241m=\u001b[39m \u001b[43mpipes\u001b[49m\u001b[43m[\u001b[49m\u001b[43mmodel_name\u001b[49m\u001b[43m]\u001b[49m\u001b[38;5;241;43m.\u001b[39;49m\u001b[43mpredict\u001b[49m\u001b[43m(\u001b[49m\u001b[43mtest\u001b[49m\u001b[43m)\u001b[49m\n\u001b[1;32m      7\u001b[0m     \u001b[38;5;28mprint\u001b[39m(\u001b[38;5;124m\"\u001b[39m\u001b[38;5;124mGot predictions\u001b[39m\u001b[38;5;124m\"\u001b[39m)\n\u001b[1;32m      8\u001b[0m     \u001b[38;5;28;01mif\u001b[39;00m model_name[:\u001b[38;5;241m3\u001b[39m] \u001b[38;5;129;01mnot\u001b[39;00m \u001b[38;5;129;01min\u001b[39;00m [\u001b[38;5;124m'\u001b[39m\u001b[38;5;124mper\u001b[39m\u001b[38;5;124m'\u001b[39m, \u001b[38;5;124m'\u001b[39m\u001b[38;5;124msvm\u001b[39m\u001b[38;5;124m'\u001b[39m]:\n",
      "File \u001b[0;32m~/.venv/lib/python3.12/site-packages/sklearn/pipeline.py:603\u001b[0m, in \u001b[0;36mPipeline.predict\u001b[0;34m(self, X, **params)\u001b[0m\n\u001b[1;32m    601\u001b[0m     \u001b[38;5;28;01mfor\u001b[39;00m _, name, transform \u001b[38;5;129;01min\u001b[39;00m \u001b[38;5;28mself\u001b[39m\u001b[38;5;241m.\u001b[39m_iter(with_final\u001b[38;5;241m=\u001b[39m\u001b[38;5;28;01mFalse\u001b[39;00m):\n\u001b[1;32m    602\u001b[0m         Xt \u001b[38;5;241m=\u001b[39m transform\u001b[38;5;241m.\u001b[39mtransform(Xt)\n\u001b[0;32m--> 603\u001b[0m     \u001b[38;5;28;01mreturn\u001b[39;00m \u001b[38;5;28;43mself\u001b[39;49m\u001b[38;5;241;43m.\u001b[39;49m\u001b[43msteps\u001b[49m\u001b[43m[\u001b[49m\u001b[38;5;241;43m-\u001b[39;49m\u001b[38;5;241;43m1\u001b[39;49m\u001b[43m]\u001b[49m\u001b[43m[\u001b[49m\u001b[38;5;241;43m1\u001b[39;49m\u001b[43m]\u001b[49m\u001b[38;5;241;43m.\u001b[39;49m\u001b[43mpredict\u001b[49m\u001b[43m(\u001b[49m\u001b[43mXt\u001b[49m\u001b[43m,\u001b[49m\u001b[43m \u001b[49m\u001b[38;5;241;43m*\u001b[39;49m\u001b[38;5;241;43m*\u001b[39;49m\u001b[43mparams\u001b[49m\u001b[43m)\u001b[49m\n\u001b[1;32m    605\u001b[0m \u001b[38;5;66;03m# metadata routing enabled\u001b[39;00m\n\u001b[1;32m    606\u001b[0m routed_params \u001b[38;5;241m=\u001b[39m process_routing(\u001b[38;5;28mself\u001b[39m, \u001b[38;5;124m\"\u001b[39m\u001b[38;5;124mpredict\u001b[39m\u001b[38;5;124m\"\u001b[39m, \u001b[38;5;241m*\u001b[39m\u001b[38;5;241m*\u001b[39mparams)\n",
      "File \u001b[0;32m~/.venv/lib/python3.12/site-packages/sklearn/ensemble/_stacking.py:692\u001b[0m, in \u001b[0;36mStackingClassifier.predict\u001b[0;34m(self, X, **predict_params)\u001b[0m\n\u001b[1;32m    671\u001b[0m \u001b[38;5;129m@available_if\u001b[39m(_estimator_has(\u001b[38;5;124m\"\u001b[39m\u001b[38;5;124mpredict\u001b[39m\u001b[38;5;124m\"\u001b[39m))\n\u001b[1;32m    672\u001b[0m \u001b[38;5;28;01mdef\u001b[39;00m \u001b[38;5;21mpredict\u001b[39m(\u001b[38;5;28mself\u001b[39m, X, \u001b[38;5;241m*\u001b[39m\u001b[38;5;241m*\u001b[39mpredict_params):\n\u001b[1;32m    673\u001b[0m \u001b[38;5;250m    \u001b[39m\u001b[38;5;124;03m\"\"\"Predict target for X.\u001b[39;00m\n\u001b[1;32m    674\u001b[0m \n\u001b[1;32m    675\u001b[0m \u001b[38;5;124;03m    Parameters\u001b[39;00m\n\u001b[0;32m   (...)\u001b[0m\n\u001b[1;32m    690\u001b[0m \u001b[38;5;124;03m        Predicted targets.\u001b[39;00m\n\u001b[1;32m    691\u001b[0m \u001b[38;5;124;03m    \"\"\"\u001b[39;00m\n\u001b[0;32m--> 692\u001b[0m     y_pred \u001b[38;5;241m=\u001b[39m \u001b[38;5;28;43msuper\u001b[39;49m\u001b[43m(\u001b[49m\u001b[43m)\u001b[49m\u001b[38;5;241;43m.\u001b[39;49m\u001b[43mpredict\u001b[49m\u001b[43m(\u001b[49m\u001b[43mX\u001b[49m\u001b[43m,\u001b[49m\u001b[43m \u001b[49m\u001b[38;5;241;43m*\u001b[39;49m\u001b[38;5;241;43m*\u001b[39;49m\u001b[43mpredict_params\u001b[49m\u001b[43m)\u001b[49m\n\u001b[1;32m    693\u001b[0m     \u001b[38;5;28;01mif\u001b[39;00m \u001b[38;5;28misinstance\u001b[39m(\u001b[38;5;28mself\u001b[39m\u001b[38;5;241m.\u001b[39m_label_encoder, \u001b[38;5;28mlist\u001b[39m):\n\u001b[1;32m    694\u001b[0m         \u001b[38;5;66;03m# Handle the multilabel-indicator case\u001b[39;00m\n\u001b[1;32m    695\u001b[0m         y_pred \u001b[38;5;241m=\u001b[39m np\u001b[38;5;241m.\u001b[39marray(\n\u001b[1;32m    696\u001b[0m             [\n\u001b[1;32m    697\u001b[0m                 \u001b[38;5;28mself\u001b[39m\u001b[38;5;241m.\u001b[39m_label_encoder[target_idx]\u001b[38;5;241m.\u001b[39minverse_transform(target)\n\u001b[1;32m    698\u001b[0m                 \u001b[38;5;28;01mfor\u001b[39;00m target_idx, target \u001b[38;5;129;01min\u001b[39;00m \u001b[38;5;28menumerate\u001b[39m(y_pred\u001b[38;5;241m.\u001b[39mT)\n\u001b[1;32m    699\u001b[0m             ]\n\u001b[1;32m    700\u001b[0m         )\u001b[38;5;241m.\u001b[39mT\n",
      "File \u001b[0;32m~/.venv/lib/python3.12/site-packages/sklearn/ensemble/_stacking.py:379\u001b[0m, in \u001b[0;36m_BaseStacking.predict\u001b[0;34m(self, X, **predict_params)\u001b[0m\n\u001b[1;32m    358\u001b[0m \u001b[38;5;250m\u001b[39m\u001b[38;5;124;03m\"\"\"Predict target for X.\u001b[39;00m\n\u001b[1;32m    359\u001b[0m \n\u001b[1;32m    360\u001b[0m \u001b[38;5;124;03mParameters\u001b[39;00m\n\u001b[0;32m   (...)\u001b[0m\n\u001b[1;32m    375\u001b[0m \u001b[38;5;124;03m    Predicted targets.\u001b[39;00m\n\u001b[1;32m    376\u001b[0m \u001b[38;5;124;03m\"\"\"\u001b[39;00m\n\u001b[1;32m    378\u001b[0m check_is_fitted(\u001b[38;5;28mself\u001b[39m)\n\u001b[0;32m--> 379\u001b[0m \u001b[38;5;28;01mreturn\u001b[39;00m \u001b[38;5;28mself\u001b[39m\u001b[38;5;241m.\u001b[39mfinal_estimator_\u001b[38;5;241m.\u001b[39mpredict(\u001b[38;5;28;43mself\u001b[39;49m\u001b[38;5;241;43m.\u001b[39;49m\u001b[43mtransform\u001b[49m\u001b[43m(\u001b[49m\u001b[43mX\u001b[49m\u001b[43m)\u001b[49m, \u001b[38;5;241m*\u001b[39m\u001b[38;5;241m*\u001b[39mpredict_params)\n",
      "File \u001b[0;32m~/.venv/lib/python3.12/site-packages/sklearn/utils/_set_output.py:295\u001b[0m, in \u001b[0;36m_wrap_method_output.<locals>.wrapped\u001b[0;34m(self, X, *args, **kwargs)\u001b[0m\n\u001b[1;32m    293\u001b[0m \u001b[38;5;129m@wraps\u001b[39m(f)\n\u001b[1;32m    294\u001b[0m \u001b[38;5;28;01mdef\u001b[39;00m \u001b[38;5;21mwrapped\u001b[39m(\u001b[38;5;28mself\u001b[39m, X, \u001b[38;5;241m*\u001b[39margs, \u001b[38;5;241m*\u001b[39m\u001b[38;5;241m*\u001b[39mkwargs):\n\u001b[0;32m--> 295\u001b[0m     data_to_wrap \u001b[38;5;241m=\u001b[39m \u001b[43mf\u001b[49m\u001b[43m(\u001b[49m\u001b[38;5;28;43mself\u001b[39;49m\u001b[43m,\u001b[49m\u001b[43m \u001b[49m\u001b[43mX\u001b[49m\u001b[43m,\u001b[49m\u001b[43m \u001b[49m\u001b[38;5;241;43m*\u001b[39;49m\u001b[43margs\u001b[49m\u001b[43m,\u001b[49m\u001b[43m \u001b[49m\u001b[38;5;241;43m*\u001b[39;49m\u001b[38;5;241;43m*\u001b[39;49m\u001b[43mkwargs\u001b[49m\u001b[43m)\u001b[49m\n\u001b[1;32m    296\u001b[0m     \u001b[38;5;28;01mif\u001b[39;00m \u001b[38;5;28misinstance\u001b[39m(data_to_wrap, \u001b[38;5;28mtuple\u001b[39m):\n\u001b[1;32m    297\u001b[0m         \u001b[38;5;66;03m# only wrap the first output for cross decomposition\u001b[39;00m\n\u001b[1;32m    298\u001b[0m         return_tuple \u001b[38;5;241m=\u001b[39m (\n\u001b[1;32m    299\u001b[0m             _wrap_data_with_container(method, data_to_wrap[\u001b[38;5;241m0\u001b[39m], X, \u001b[38;5;28mself\u001b[39m),\n\u001b[1;32m    300\u001b[0m             \u001b[38;5;241m*\u001b[39mdata_to_wrap[\u001b[38;5;241m1\u001b[39m:],\n\u001b[1;32m    301\u001b[0m         )\n",
      "File \u001b[0;32m~/.venv/lib/python3.12/site-packages/sklearn/ensemble/_stacking.py:763\u001b[0m, in \u001b[0;36mStackingClassifier.transform\u001b[0;34m(self, X)\u001b[0m\n\u001b[1;32m    748\u001b[0m \u001b[38;5;28;01mdef\u001b[39;00m \u001b[38;5;21mtransform\u001b[39m(\u001b[38;5;28mself\u001b[39m, X):\n\u001b[1;32m    749\u001b[0m \u001b[38;5;250m    \u001b[39m\u001b[38;5;124;03m\"\"\"Return class labels or probabilities for X for each estimator.\u001b[39;00m\n\u001b[1;32m    750\u001b[0m \n\u001b[1;32m    751\u001b[0m \u001b[38;5;124;03m    Parameters\u001b[39;00m\n\u001b[0;32m   (...)\u001b[0m\n\u001b[1;32m    761\u001b[0m \u001b[38;5;124;03m        Prediction outputs for each estimator.\u001b[39;00m\n\u001b[1;32m    762\u001b[0m \u001b[38;5;124;03m    \"\"\"\u001b[39;00m\n\u001b[0;32m--> 763\u001b[0m     \u001b[38;5;28;01mreturn\u001b[39;00m \u001b[38;5;28;43mself\u001b[39;49m\u001b[38;5;241;43m.\u001b[39;49m\u001b[43m_transform\u001b[49m\u001b[43m(\u001b[49m\u001b[43mX\u001b[49m\u001b[43m)\u001b[49m\n",
      "File \u001b[0;32m~/.venv/lib/python3.12/site-packages/sklearn/ensemble/_stacking.py:304\u001b[0m, in \u001b[0;36m_BaseStacking._transform\u001b[0;34m(self, X)\u001b[0m\n\u001b[1;32m    301\u001b[0m \u001b[38;5;250m\u001b[39m\u001b[38;5;124;03m\"\"\"Concatenate and return the predictions of the estimators.\"\"\"\u001b[39;00m\n\u001b[1;32m    302\u001b[0m check_is_fitted(\u001b[38;5;28mself\u001b[39m)\n\u001b[1;32m    303\u001b[0m predictions \u001b[38;5;241m=\u001b[39m [\n\u001b[0;32m--> 304\u001b[0m     \u001b[38;5;28;43mgetattr\u001b[39;49m\u001b[43m(\u001b[49m\u001b[43mest\u001b[49m\u001b[43m,\u001b[49m\u001b[43m \u001b[49m\u001b[43mmeth\u001b[49m\u001b[43m)\u001b[49m\u001b[43m(\u001b[49m\u001b[43mX\u001b[49m\u001b[43m)\u001b[49m\n\u001b[1;32m    305\u001b[0m     \u001b[38;5;28;01mfor\u001b[39;00m est, meth \u001b[38;5;129;01min\u001b[39;00m \u001b[38;5;28mzip\u001b[39m(\u001b[38;5;28mself\u001b[39m\u001b[38;5;241m.\u001b[39mestimators_, \u001b[38;5;28mself\u001b[39m\u001b[38;5;241m.\u001b[39mstack_method_)\n\u001b[1;32m    306\u001b[0m     \u001b[38;5;28;01mif\u001b[39;00m est \u001b[38;5;241m!=\u001b[39m \u001b[38;5;124m\"\u001b[39m\u001b[38;5;124mdrop\u001b[39m\u001b[38;5;124m\"\u001b[39m\n\u001b[1;32m    307\u001b[0m ]\n\u001b[1;32m    308\u001b[0m \u001b[38;5;28;01mreturn\u001b[39;00m \u001b[38;5;28mself\u001b[39m\u001b[38;5;241m.\u001b[39m_concatenate_predictions(X, predictions)\n",
      "File \u001b[0;32m~/.venv/lib/python3.12/site-packages/sklearn/naive_bayes.py:144\u001b[0m, in \u001b[0;36m_BaseNB.predict_proba\u001b[0;34m(self, X)\u001b[0m\n\u001b[1;32m    128\u001b[0m \u001b[38;5;28;01mdef\u001b[39;00m \u001b[38;5;21mpredict_proba\u001b[39m(\u001b[38;5;28mself\u001b[39m, X):\n\u001b[1;32m    129\u001b[0m \u001b[38;5;250m    \u001b[39m\u001b[38;5;124;03m\"\"\"\u001b[39;00m\n\u001b[1;32m    130\u001b[0m \u001b[38;5;124;03m    Return probability estimates for the test vector X.\u001b[39;00m\n\u001b[1;32m    131\u001b[0m \n\u001b[0;32m   (...)\u001b[0m\n\u001b[1;32m    142\u001b[0m \u001b[38;5;124;03m        order, as they appear in the attribute :term:`classes_`.\u001b[39;00m\n\u001b[1;32m    143\u001b[0m \u001b[38;5;124;03m    \"\"\"\u001b[39;00m\n\u001b[0;32m--> 144\u001b[0m     \u001b[38;5;28;01mreturn\u001b[39;00m np\u001b[38;5;241m.\u001b[39mexp(\u001b[38;5;28;43mself\u001b[39;49m\u001b[38;5;241;43m.\u001b[39;49m\u001b[43mpredict_log_proba\u001b[49m\u001b[43m(\u001b[49m\u001b[43mX\u001b[49m\u001b[43m)\u001b[49m)\n",
      "File \u001b[0;32m~/.venv/lib/python3.12/site-packages/sklearn/naive_bayes.py:122\u001b[0m, in \u001b[0;36m_BaseNB.predict_log_proba\u001b[0;34m(self, X)\u001b[0m\n\u001b[1;32m    106\u001b[0m \u001b[38;5;250m\u001b[39m\u001b[38;5;124;03m\"\"\"\u001b[39;00m\n\u001b[1;32m    107\u001b[0m \u001b[38;5;124;03mReturn log-probability estimates for the test vector X.\u001b[39;00m\n\u001b[1;32m    108\u001b[0m \n\u001b[0;32m   (...)\u001b[0m\n\u001b[1;32m    119\u001b[0m \u001b[38;5;124;03m    order, as they appear in the attribute :term:`classes_`.\u001b[39;00m\n\u001b[1;32m    120\u001b[0m \u001b[38;5;124;03m\"\"\"\u001b[39;00m\n\u001b[1;32m    121\u001b[0m check_is_fitted(\u001b[38;5;28mself\u001b[39m)\n\u001b[0;32m--> 122\u001b[0m X \u001b[38;5;241m=\u001b[39m \u001b[38;5;28;43mself\u001b[39;49m\u001b[38;5;241;43m.\u001b[39;49m\u001b[43m_check_X\u001b[49m\u001b[43m(\u001b[49m\u001b[43mX\u001b[49m\u001b[43m)\u001b[49m\n\u001b[1;32m    123\u001b[0m jll \u001b[38;5;241m=\u001b[39m \u001b[38;5;28mself\u001b[39m\u001b[38;5;241m.\u001b[39m_joint_log_likelihood(X)\n\u001b[1;32m    124\u001b[0m \u001b[38;5;66;03m# normalize by P(x) = P(f_1, ..., f_n)\u001b[39;00m\n",
      "File \u001b[0;32m~/.venv/lib/python3.12/site-packages/sklearn/naive_bayes.py:574\u001b[0m, in \u001b[0;36m_BaseDiscreteNB._check_X\u001b[0;34m(self, X)\u001b[0m\n\u001b[1;32m    572\u001b[0m \u001b[38;5;28;01mdef\u001b[39;00m \u001b[38;5;21m_check_X\u001b[39m(\u001b[38;5;28mself\u001b[39m, X):\n\u001b[1;32m    573\u001b[0m \u001b[38;5;250m    \u001b[39m\u001b[38;5;124;03m\"\"\"Validate X, used only in predict* methods.\"\"\"\u001b[39;00m\n\u001b[0;32m--> 574\u001b[0m     \u001b[38;5;28;01mreturn\u001b[39;00m \u001b[38;5;28;43mself\u001b[39;49m\u001b[38;5;241;43m.\u001b[39;49m\u001b[43m_validate_data\u001b[49m\u001b[43m(\u001b[49m\u001b[43mX\u001b[49m\u001b[43m,\u001b[49m\u001b[43m \u001b[49m\u001b[43maccept_sparse\u001b[49m\u001b[38;5;241;43m=\u001b[39;49m\u001b[38;5;124;43m\"\u001b[39;49m\u001b[38;5;124;43mcsr\u001b[39;49m\u001b[38;5;124;43m\"\u001b[39;49m\u001b[43m,\u001b[49m\u001b[43m \u001b[49m\u001b[43mreset\u001b[49m\u001b[38;5;241;43m=\u001b[39;49m\u001b[38;5;28;43;01mFalse\u001b[39;49;00m\u001b[43m)\u001b[49m\n",
      "File \u001b[0;32m~/.venv/lib/python3.12/site-packages/sklearn/base.py:654\u001b[0m, in \u001b[0;36mBaseEstimator._validate_data\u001b[0;34m(self, X, y, reset, validate_separately, cast_to_ndarray, **check_params)\u001b[0m\n\u001b[1;32m    651\u001b[0m     out \u001b[38;5;241m=\u001b[39m X, y\n\u001b[1;32m    653\u001b[0m \u001b[38;5;28;01mif\u001b[39;00m \u001b[38;5;129;01mnot\u001b[39;00m no_val_X \u001b[38;5;129;01mand\u001b[39;00m check_params\u001b[38;5;241m.\u001b[39mget(\u001b[38;5;124m\"\u001b[39m\u001b[38;5;124mensure_2d\u001b[39m\u001b[38;5;124m\"\u001b[39m, \u001b[38;5;28;01mTrue\u001b[39;00m):\n\u001b[0;32m--> 654\u001b[0m     \u001b[38;5;28;43mself\u001b[39;49m\u001b[38;5;241;43m.\u001b[39;49m\u001b[43m_check_n_features\u001b[49m\u001b[43m(\u001b[49m\u001b[43mX\u001b[49m\u001b[43m,\u001b[49m\u001b[43m \u001b[49m\u001b[43mreset\u001b[49m\u001b[38;5;241;43m=\u001b[39;49m\u001b[43mreset\u001b[49m\u001b[43m)\u001b[49m\n\u001b[1;32m    656\u001b[0m \u001b[38;5;28;01mreturn\u001b[39;00m out\n",
      "File \u001b[0;32m~/.venv/lib/python3.12/site-packages/sklearn/base.py:443\u001b[0m, in \u001b[0;36mBaseEstimator._check_n_features\u001b[0;34m(self, X, reset)\u001b[0m\n\u001b[1;32m    440\u001b[0m     \u001b[38;5;28;01mreturn\u001b[39;00m\n\u001b[1;32m    442\u001b[0m \u001b[38;5;28;01mif\u001b[39;00m n_features \u001b[38;5;241m!=\u001b[39m \u001b[38;5;28mself\u001b[39m\u001b[38;5;241m.\u001b[39mn_features_in_:\n\u001b[0;32m--> 443\u001b[0m     \u001b[38;5;28;01mraise\u001b[39;00m \u001b[38;5;167;01mValueError\u001b[39;00m(\n\u001b[1;32m    444\u001b[0m         \u001b[38;5;124mf\u001b[39m\u001b[38;5;124m\"\u001b[39m\u001b[38;5;124mX has \u001b[39m\u001b[38;5;132;01m{\u001b[39;00mn_features\u001b[38;5;132;01m}\u001b[39;00m\u001b[38;5;124m features, but \u001b[39m\u001b[38;5;132;01m{\u001b[39;00m\u001b[38;5;28mself\u001b[39m\u001b[38;5;241m.\u001b[39m\u001b[38;5;18m__class__\u001b[39m\u001b[38;5;241m.\u001b[39m\u001b[38;5;18m__name__\u001b[39m\u001b[38;5;132;01m}\u001b[39;00m\u001b[38;5;124m \u001b[39m\u001b[38;5;124m\"\u001b[39m\n\u001b[1;32m    445\u001b[0m         \u001b[38;5;124mf\u001b[39m\u001b[38;5;124m\"\u001b[39m\u001b[38;5;124mis expecting \u001b[39m\u001b[38;5;132;01m{\u001b[39;00m\u001b[38;5;28mself\u001b[39m\u001b[38;5;241m.\u001b[39mn_features_in_\u001b[38;5;132;01m}\u001b[39;00m\u001b[38;5;124m features as input.\u001b[39m\u001b[38;5;124m\"\u001b[39m\n\u001b[1;32m    446\u001b[0m     )\n",
      "\u001b[0;31mValueError\u001b[0m: X has 3508784 features, but MultinomialNB is expecting 608 features as input."
     ]
    }
   ],
   "source": [
    "y_preds = {}\n",
    "y_probas = {}\n",
    "\n",
    "for model_name in tqdm(model_names):\n",
    "    print(\"Running model: \", model_name)\n",
    "    y_preds[model_name] = pipes[model_name].predict(test)\n",
    "    print(\"Got predictions\")\n",
    "    if (model_name[:3] not in ['per', 'svm']) or (model_name[-10:] == 'calibrated'):\n",
    "        print(\"Trying to get probas\")\n",
    "        y_probas[model_name] =  pipes[model_name].predict_proba(test)\n",
    "        print(\"Got probas\")"
   ]
  },
  {
   "cell_type": "code",
   "execution_count": 76,
   "id": "14dea30e-c1c8-481f-827a-784d4b061916",
   "metadata": {},
   "outputs": [
    {
     "data": {
      "text/html": [
       "<style>#sk-container-id-7 {\n",
       "  /* Definition of color scheme common for light and dark mode */\n",
       "  --sklearn-color-text: black;\n",
       "  --sklearn-color-line: gray;\n",
       "  /* Definition of color scheme for unfitted estimators */\n",
       "  --sklearn-color-unfitted-level-0: #fff5e6;\n",
       "  --sklearn-color-unfitted-level-1: #f6e4d2;\n",
       "  --sklearn-color-unfitted-level-2: #ffe0b3;\n",
       "  --sklearn-color-unfitted-level-3: chocolate;\n",
       "  /* Definition of color scheme for fitted estimators */\n",
       "  --sklearn-color-fitted-level-0: #f0f8ff;\n",
       "  --sklearn-color-fitted-level-1: #d4ebff;\n",
       "  --sklearn-color-fitted-level-2: #b3dbfd;\n",
       "  --sklearn-color-fitted-level-3: cornflowerblue;\n",
       "\n",
       "  /* Specific color for light theme */\n",
       "  --sklearn-color-text-on-default-background: var(--sg-text-color, var(--theme-code-foreground, var(--jp-content-font-color1, black)));\n",
       "  --sklearn-color-background: var(--sg-background-color, var(--theme-background, var(--jp-layout-color0, white)));\n",
       "  --sklearn-color-border-box: var(--sg-text-color, var(--theme-code-foreground, var(--jp-content-font-color1, black)));\n",
       "  --sklearn-color-icon: #696969;\n",
       "\n",
       "  @media (prefers-color-scheme: dark) {\n",
       "    /* Redefinition of color scheme for dark theme */\n",
       "    --sklearn-color-text-on-default-background: var(--sg-text-color, var(--theme-code-foreground, var(--jp-content-font-color1, white)));\n",
       "    --sklearn-color-background: var(--sg-background-color, var(--theme-background, var(--jp-layout-color0, #111)));\n",
       "    --sklearn-color-border-box: var(--sg-text-color, var(--theme-code-foreground, var(--jp-content-font-color1, white)));\n",
       "    --sklearn-color-icon: #878787;\n",
       "  }\n",
       "}\n",
       "\n",
       "#sk-container-id-7 {\n",
       "  color: var(--sklearn-color-text);\n",
       "}\n",
       "\n",
       "#sk-container-id-7 pre {\n",
       "  padding: 0;\n",
       "}\n",
       "\n",
       "#sk-container-id-7 input.sk-hidden--visually {\n",
       "  border: 0;\n",
       "  clip: rect(1px 1px 1px 1px);\n",
       "  clip: rect(1px, 1px, 1px, 1px);\n",
       "  height: 1px;\n",
       "  margin: -1px;\n",
       "  overflow: hidden;\n",
       "  padding: 0;\n",
       "  position: absolute;\n",
       "  width: 1px;\n",
       "}\n",
       "\n",
       "#sk-container-id-7 div.sk-dashed-wrapped {\n",
       "  border: 1px dashed var(--sklearn-color-line);\n",
       "  margin: 0 0.4em 0.5em 0.4em;\n",
       "  box-sizing: border-box;\n",
       "  padding-bottom: 0.4em;\n",
       "  background-color: var(--sklearn-color-background);\n",
       "}\n",
       "\n",
       "#sk-container-id-7 div.sk-container {\n",
       "  /* jupyter's `normalize.less` sets `[hidden] { display: none; }`\n",
       "     but bootstrap.min.css set `[hidden] { display: none !important; }`\n",
       "     so we also need the `!important` here to be able to override the\n",
       "     default hidden behavior on the sphinx rendered scikit-learn.org.\n",
       "     See: https://github.com/scikit-learn/scikit-learn/issues/21755 */\n",
       "  display: inline-block !important;\n",
       "  position: relative;\n",
       "}\n",
       "\n",
       "#sk-container-id-7 div.sk-text-repr-fallback {\n",
       "  display: none;\n",
       "}\n",
       "\n",
       "div.sk-parallel-item,\n",
       "div.sk-serial,\n",
       "div.sk-item {\n",
       "  /* draw centered vertical line to link estimators */\n",
       "  background-image: linear-gradient(var(--sklearn-color-text-on-default-background), var(--sklearn-color-text-on-default-background));\n",
       "  background-size: 2px 100%;\n",
       "  background-repeat: no-repeat;\n",
       "  background-position: center center;\n",
       "}\n",
       "\n",
       "/* Parallel-specific style estimator block */\n",
       "\n",
       "#sk-container-id-7 div.sk-parallel-item::after {\n",
       "  content: \"\";\n",
       "  width: 100%;\n",
       "  border-bottom: 2px solid var(--sklearn-color-text-on-default-background);\n",
       "  flex-grow: 1;\n",
       "}\n",
       "\n",
       "#sk-container-id-7 div.sk-parallel {\n",
       "  display: flex;\n",
       "  align-items: stretch;\n",
       "  justify-content: center;\n",
       "  background-color: var(--sklearn-color-background);\n",
       "  position: relative;\n",
       "}\n",
       "\n",
       "#sk-container-id-7 div.sk-parallel-item {\n",
       "  display: flex;\n",
       "  flex-direction: column;\n",
       "}\n",
       "\n",
       "#sk-container-id-7 div.sk-parallel-item:first-child::after {\n",
       "  align-self: flex-end;\n",
       "  width: 50%;\n",
       "}\n",
       "\n",
       "#sk-container-id-7 div.sk-parallel-item:last-child::after {\n",
       "  align-self: flex-start;\n",
       "  width: 50%;\n",
       "}\n",
       "\n",
       "#sk-container-id-7 div.sk-parallel-item:only-child::after {\n",
       "  width: 0;\n",
       "}\n",
       "\n",
       "/* Serial-specific style estimator block */\n",
       "\n",
       "#sk-container-id-7 div.sk-serial {\n",
       "  display: flex;\n",
       "  flex-direction: column;\n",
       "  align-items: center;\n",
       "  background-color: var(--sklearn-color-background);\n",
       "  padding-right: 1em;\n",
       "  padding-left: 1em;\n",
       "}\n",
       "\n",
       "\n",
       "/* Toggleable style: style used for estimator/Pipeline/ColumnTransformer box that is\n",
       "clickable and can be expanded/collapsed.\n",
       "- Pipeline and ColumnTransformer use this feature and define the default style\n",
       "- Estimators will overwrite some part of the style using the `sk-estimator` class\n",
       "*/\n",
       "\n",
       "/* Pipeline and ColumnTransformer style (default) */\n",
       "\n",
       "#sk-container-id-7 div.sk-toggleable {\n",
       "  /* Default theme specific background. It is overwritten whether we have a\n",
       "  specific estimator or a Pipeline/ColumnTransformer */\n",
       "  background-color: var(--sklearn-color-background);\n",
       "}\n",
       "\n",
       "/* Toggleable label */\n",
       "#sk-container-id-7 label.sk-toggleable__label {\n",
       "  cursor: pointer;\n",
       "  display: block;\n",
       "  width: 100%;\n",
       "  margin-bottom: 0;\n",
       "  padding: 0.5em;\n",
       "  box-sizing: border-box;\n",
       "  text-align: center;\n",
       "}\n",
       "\n",
       "#sk-container-id-7 label.sk-toggleable__label-arrow:before {\n",
       "  /* Arrow on the left of the label */\n",
       "  content: \"▸\";\n",
       "  float: left;\n",
       "  margin-right: 0.25em;\n",
       "  color: var(--sklearn-color-icon);\n",
       "}\n",
       "\n",
       "#sk-container-id-7 label.sk-toggleable__label-arrow:hover:before {\n",
       "  color: var(--sklearn-color-text);\n",
       "}\n",
       "\n",
       "/* Toggleable content - dropdown */\n",
       "\n",
       "#sk-container-id-7 div.sk-toggleable__content {\n",
       "  max-height: 0;\n",
       "  max-width: 0;\n",
       "  overflow: hidden;\n",
       "  text-align: left;\n",
       "  /* unfitted */\n",
       "  background-color: var(--sklearn-color-unfitted-level-0);\n",
       "}\n",
       "\n",
       "#sk-container-id-7 div.sk-toggleable__content.fitted {\n",
       "  /* fitted */\n",
       "  background-color: var(--sklearn-color-fitted-level-0);\n",
       "}\n",
       "\n",
       "#sk-container-id-7 div.sk-toggleable__content pre {\n",
       "  margin: 0.2em;\n",
       "  border-radius: 0.25em;\n",
       "  color: var(--sklearn-color-text);\n",
       "  /* unfitted */\n",
       "  background-color: var(--sklearn-color-unfitted-level-0);\n",
       "}\n",
       "\n",
       "#sk-container-id-7 div.sk-toggleable__content.fitted pre {\n",
       "  /* unfitted */\n",
       "  background-color: var(--sklearn-color-fitted-level-0);\n",
       "}\n",
       "\n",
       "#sk-container-id-7 input.sk-toggleable__control:checked~div.sk-toggleable__content {\n",
       "  /* Expand drop-down */\n",
       "  max-height: 200px;\n",
       "  max-width: 100%;\n",
       "  overflow: auto;\n",
       "}\n",
       "\n",
       "#sk-container-id-7 input.sk-toggleable__control:checked~label.sk-toggleable__label-arrow:before {\n",
       "  content: \"▾\";\n",
       "}\n",
       "\n",
       "/* Pipeline/ColumnTransformer-specific style */\n",
       "\n",
       "#sk-container-id-7 div.sk-label input.sk-toggleable__control:checked~label.sk-toggleable__label {\n",
       "  color: var(--sklearn-color-text);\n",
       "  background-color: var(--sklearn-color-unfitted-level-2);\n",
       "}\n",
       "\n",
       "#sk-container-id-7 div.sk-label.fitted input.sk-toggleable__control:checked~label.sk-toggleable__label {\n",
       "  background-color: var(--sklearn-color-fitted-level-2);\n",
       "}\n",
       "\n",
       "/* Estimator-specific style */\n",
       "\n",
       "/* Colorize estimator box */\n",
       "#sk-container-id-7 div.sk-estimator input.sk-toggleable__control:checked~label.sk-toggleable__label {\n",
       "  /* unfitted */\n",
       "  background-color: var(--sklearn-color-unfitted-level-2);\n",
       "}\n",
       "\n",
       "#sk-container-id-7 div.sk-estimator.fitted input.sk-toggleable__control:checked~label.sk-toggleable__label {\n",
       "  /* fitted */\n",
       "  background-color: var(--sklearn-color-fitted-level-2);\n",
       "}\n",
       "\n",
       "#sk-container-id-7 div.sk-label label.sk-toggleable__label,\n",
       "#sk-container-id-7 div.sk-label label {\n",
       "  /* The background is the default theme color */\n",
       "  color: var(--sklearn-color-text-on-default-background);\n",
       "}\n",
       "\n",
       "/* On hover, darken the color of the background */\n",
       "#sk-container-id-7 div.sk-label:hover label.sk-toggleable__label {\n",
       "  color: var(--sklearn-color-text);\n",
       "  background-color: var(--sklearn-color-unfitted-level-2);\n",
       "}\n",
       "\n",
       "/* Label box, darken color on hover, fitted */\n",
       "#sk-container-id-7 div.sk-label.fitted:hover label.sk-toggleable__label.fitted {\n",
       "  color: var(--sklearn-color-text);\n",
       "  background-color: var(--sklearn-color-fitted-level-2);\n",
       "}\n",
       "\n",
       "/* Estimator label */\n",
       "\n",
       "#sk-container-id-7 div.sk-label label {\n",
       "  font-family: monospace;\n",
       "  font-weight: bold;\n",
       "  display: inline-block;\n",
       "  line-height: 1.2em;\n",
       "}\n",
       "\n",
       "#sk-container-id-7 div.sk-label-container {\n",
       "  text-align: center;\n",
       "}\n",
       "\n",
       "/* Estimator-specific */\n",
       "#sk-container-id-7 div.sk-estimator {\n",
       "  font-family: monospace;\n",
       "  border: 1px dotted var(--sklearn-color-border-box);\n",
       "  border-radius: 0.25em;\n",
       "  box-sizing: border-box;\n",
       "  margin-bottom: 0.5em;\n",
       "  /* unfitted */\n",
       "  background-color: var(--sklearn-color-unfitted-level-0);\n",
       "}\n",
       "\n",
       "#sk-container-id-7 div.sk-estimator.fitted {\n",
       "  /* fitted */\n",
       "  background-color: var(--sklearn-color-fitted-level-0);\n",
       "}\n",
       "\n",
       "/* on hover */\n",
       "#sk-container-id-7 div.sk-estimator:hover {\n",
       "  /* unfitted */\n",
       "  background-color: var(--sklearn-color-unfitted-level-2);\n",
       "}\n",
       "\n",
       "#sk-container-id-7 div.sk-estimator.fitted:hover {\n",
       "  /* fitted */\n",
       "  background-color: var(--sklearn-color-fitted-level-2);\n",
       "}\n",
       "\n",
       "/* Specification for estimator info (e.g. \"i\" and \"?\") */\n",
       "\n",
       "/* Common style for \"i\" and \"?\" */\n",
       "\n",
       ".sk-estimator-doc-link,\n",
       "a:link.sk-estimator-doc-link,\n",
       "a:visited.sk-estimator-doc-link {\n",
       "  float: right;\n",
       "  font-size: smaller;\n",
       "  line-height: 1em;\n",
       "  font-family: monospace;\n",
       "  background-color: var(--sklearn-color-background);\n",
       "  border-radius: 1em;\n",
       "  height: 1em;\n",
       "  width: 1em;\n",
       "  text-decoration: none !important;\n",
       "  margin-left: 1ex;\n",
       "  /* unfitted */\n",
       "  border: var(--sklearn-color-unfitted-level-1) 1pt solid;\n",
       "  color: var(--sklearn-color-unfitted-level-1);\n",
       "}\n",
       "\n",
       ".sk-estimator-doc-link.fitted,\n",
       "a:link.sk-estimator-doc-link.fitted,\n",
       "a:visited.sk-estimator-doc-link.fitted {\n",
       "  /* fitted */\n",
       "  border: var(--sklearn-color-fitted-level-1) 1pt solid;\n",
       "  color: var(--sklearn-color-fitted-level-1);\n",
       "}\n",
       "\n",
       "/* On hover */\n",
       "div.sk-estimator:hover .sk-estimator-doc-link:hover,\n",
       ".sk-estimator-doc-link:hover,\n",
       "div.sk-label-container:hover .sk-estimator-doc-link:hover,\n",
       ".sk-estimator-doc-link:hover {\n",
       "  /* unfitted */\n",
       "  background-color: var(--sklearn-color-unfitted-level-3);\n",
       "  color: var(--sklearn-color-background);\n",
       "  text-decoration: none;\n",
       "}\n",
       "\n",
       "div.sk-estimator.fitted:hover .sk-estimator-doc-link.fitted:hover,\n",
       ".sk-estimator-doc-link.fitted:hover,\n",
       "div.sk-label-container:hover .sk-estimator-doc-link.fitted:hover,\n",
       ".sk-estimator-doc-link.fitted:hover {\n",
       "  /* fitted */\n",
       "  background-color: var(--sklearn-color-fitted-level-3);\n",
       "  color: var(--sklearn-color-background);\n",
       "  text-decoration: none;\n",
       "}\n",
       "\n",
       "/* Span, style for the box shown on hovering the info icon */\n",
       ".sk-estimator-doc-link span {\n",
       "  display: none;\n",
       "  z-index: 9999;\n",
       "  position: relative;\n",
       "  font-weight: normal;\n",
       "  right: .2ex;\n",
       "  padding: .5ex;\n",
       "  margin: .5ex;\n",
       "  width: min-content;\n",
       "  min-width: 20ex;\n",
       "  max-width: 50ex;\n",
       "  color: var(--sklearn-color-text);\n",
       "  box-shadow: 2pt 2pt 4pt #999;\n",
       "  /* unfitted */\n",
       "  background: var(--sklearn-color-unfitted-level-0);\n",
       "  border: .5pt solid var(--sklearn-color-unfitted-level-3);\n",
       "}\n",
       "\n",
       ".sk-estimator-doc-link.fitted span {\n",
       "  /* fitted */\n",
       "  background: var(--sklearn-color-fitted-level-0);\n",
       "  border: var(--sklearn-color-fitted-level-3);\n",
       "}\n",
       "\n",
       ".sk-estimator-doc-link:hover span {\n",
       "  display: block;\n",
       "}\n",
       "\n",
       "/* \"?\"-specific style due to the `<a>` HTML tag */\n",
       "\n",
       "#sk-container-id-7 a.estimator_doc_link {\n",
       "  float: right;\n",
       "  font-size: 1rem;\n",
       "  line-height: 1em;\n",
       "  font-family: monospace;\n",
       "  background-color: var(--sklearn-color-background);\n",
       "  border-radius: 1rem;\n",
       "  height: 1rem;\n",
       "  width: 1rem;\n",
       "  text-decoration: none;\n",
       "  /* unfitted */\n",
       "  color: var(--sklearn-color-unfitted-level-1);\n",
       "  border: var(--sklearn-color-unfitted-level-1) 1pt solid;\n",
       "}\n",
       "\n",
       "#sk-container-id-7 a.estimator_doc_link.fitted {\n",
       "  /* fitted */\n",
       "  border: var(--sklearn-color-fitted-level-1) 1pt solid;\n",
       "  color: var(--sklearn-color-fitted-level-1);\n",
       "}\n",
       "\n",
       "/* On hover */\n",
       "#sk-container-id-7 a.estimator_doc_link:hover {\n",
       "  /* unfitted */\n",
       "  background-color: var(--sklearn-color-unfitted-level-3);\n",
       "  color: var(--sklearn-color-background);\n",
       "  text-decoration: none;\n",
       "}\n",
       "\n",
       "#sk-container-id-7 a.estimator_doc_link.fitted:hover {\n",
       "  /* fitted */\n",
       "  background-color: var(--sklearn-color-fitted-level-3);\n",
       "}\n",
       "</style><div id=\"sk-container-id-7\" class=\"sk-top-container\"><div class=\"sk-text-repr-fallback\"><pre>StackingClassifier(cv=KFold(n_splits=5, random_state=42, shuffle=True),\n",
       "                   estimators=[(&#x27;models/mnB_TF_(1, 3)&#x27;,\n",
       "                                MultinomialNB(alpha=0.06571945828738972,\n",
       "                                              force_alpha=&#x27;warn&#x27;)),\n",
       "                               (&#x27;models/svm_TF_(1, 3)&#x27;,\n",
       "                                SGDClassifier(alpha=4.2444719898180106e-05,\n",
       "                                              l1_ratio=0.07473829883630422,\n",
       "                                              penalty=&#x27;elasticnet&#x27;)),\n",
       "                               (&#x27;models/logreg_TF_(1, 3)&#x27;,\n",
       "                                SGDClassifier(alpha=3.38445385486384e-06,...\n",
       "                                              penalty=&#x27;elasticnet&#x27;)),\n",
       "                               (&#x27;models/logreg_log(TF)-IDF_(1, 3)&#x27;,\n",
       "                                SGDClassifier(alpha=2.161246283492766e-06,\n",
       "                                              l1_ratio=0.09009474237201462,\n",
       "                                              loss=&#x27;log_loss&#x27;,\n",
       "                                              penalty=&#x27;elasticnet&#x27;)),\n",
       "                               (&#x27;models/perceptron_log(TF)-IDF_(1, 3)&#x27;,\n",
       "                                SGDClassifier(alpha=1.8243974043679948e-07,\n",
       "                                              l1_ratio=0.9442757005473624,\n",
       "                                              loss=&#x27;perceptron&#x27;,\n",
       "                                              penalty=&#x27;elasticnet&#x27;))],\n",
       "                   final_estimator=LogisticRegression(max_iter=100000))</pre><b>In a Jupyter environment, please rerun this cell to show the HTML representation or trust the notebook. <br />On GitHub, the HTML representation is unable to render, please try loading this page with nbviewer.org.</b></div><div class=\"sk-container\" hidden><div class=\"sk-item sk-dashed-wrapped\"><div class=\"sk-label-container\"><div class=\"sk-label fitted sk-toggleable\"><input class=\"sk-toggleable__control sk-hidden--visually\" id=\"sk-estimator-id-34\" type=\"checkbox\" ><label for=\"sk-estimator-id-34\" class=\"sk-toggleable__label fitted sk-toggleable__label-arrow fitted\">&nbsp;&nbsp;StackingClassifier<a class=\"sk-estimator-doc-link fitted\" rel=\"noreferrer\" target=\"_blank\" href=\"https://scikit-learn.org/1.4/modules/generated/sklearn.ensemble.StackingClassifier.html\">?<span>Documentation for StackingClassifier</span></a><span class=\"sk-estimator-doc-link fitted\">i<span>Fitted</span></span></label><div class=\"sk-toggleable__content fitted\"><pre>StackingClassifier(cv=KFold(n_splits=5, random_state=42, shuffle=True),\n",
       "                   estimators=[(&#x27;models/mnB_TF_(1, 3)&#x27;,\n",
       "                                MultinomialNB(alpha=0.06571945828738972,\n",
       "                                              force_alpha=&#x27;warn&#x27;)),\n",
       "                               (&#x27;models/svm_TF_(1, 3)&#x27;,\n",
       "                                SGDClassifier(alpha=4.2444719898180106e-05,\n",
       "                                              l1_ratio=0.07473829883630422,\n",
       "                                              penalty=&#x27;elasticnet&#x27;)),\n",
       "                               (&#x27;models/logreg_TF_(1, 3)&#x27;,\n",
       "                                SGDClassifier(alpha=3.38445385486384e-06,...\n",
       "                                              penalty=&#x27;elasticnet&#x27;)),\n",
       "                               (&#x27;models/logreg_log(TF)-IDF_(1, 3)&#x27;,\n",
       "                                SGDClassifier(alpha=2.161246283492766e-06,\n",
       "                                              l1_ratio=0.09009474237201462,\n",
       "                                              loss=&#x27;log_loss&#x27;,\n",
       "                                              penalty=&#x27;elasticnet&#x27;)),\n",
       "                               (&#x27;models/perceptron_log(TF)-IDF_(1, 3)&#x27;,\n",
       "                                SGDClassifier(alpha=1.8243974043679948e-07,\n",
       "                                              l1_ratio=0.9442757005473624,\n",
       "                                              loss=&#x27;perceptron&#x27;,\n",
       "                                              penalty=&#x27;elasticnet&#x27;))],\n",
       "                   final_estimator=LogisticRegression(max_iter=100000))</pre></div> </div></div><div class=\"sk-serial\"><div class=\"sk-item\"><div class=\"sk-parallel\"><div class=\"sk-parallel-item\"><div class=\"sk-item\"><div class=\"sk-label-container\"><div class=\"sk-label fitted sk-toggleable\"><label>models/mnB_TF_(1, 3)</label></div></div><div class=\"sk-serial\"><div class=\"sk-item\"><div class=\"sk-estimator fitted sk-toggleable\"><input class=\"sk-toggleable__control sk-hidden--visually\" id=\"sk-estimator-id-35\" type=\"checkbox\" ><label for=\"sk-estimator-id-35\" class=\"sk-toggleable__label fitted sk-toggleable__label-arrow fitted\">&nbsp;MultinomialNB<a class=\"sk-estimator-doc-link fitted\" rel=\"noreferrer\" target=\"_blank\" href=\"https://scikit-learn.org/1.4/modules/generated/sklearn.naive_bayes.MultinomialNB.html\">?<span>Documentation for MultinomialNB</span></a></label><div class=\"sk-toggleable__content fitted\"><pre>MultinomialNB(alpha=0.06571945828738972, force_alpha=&#x27;warn&#x27;)</pre></div> </div></div></div></div></div><div class=\"sk-parallel-item\"><div class=\"sk-item\"><div class=\"sk-label-container\"><div class=\"sk-label fitted sk-toggleable\"><label>models/svm_TF_(1, 3)</label></div></div><div class=\"sk-serial\"><div class=\"sk-item\"><div class=\"sk-estimator fitted sk-toggleable\"><input class=\"sk-toggleable__control sk-hidden--visually\" id=\"sk-estimator-id-36\" type=\"checkbox\" ><label for=\"sk-estimator-id-36\" class=\"sk-toggleable__label fitted sk-toggleable__label-arrow fitted\">&nbsp;SGDClassifier<a class=\"sk-estimator-doc-link fitted\" rel=\"noreferrer\" target=\"_blank\" href=\"https://scikit-learn.org/1.4/modules/generated/sklearn.linear_model.SGDClassifier.html\">?<span>Documentation for SGDClassifier</span></a></label><div class=\"sk-toggleable__content fitted\"><pre>SGDClassifier(alpha=4.2444719898180106e-05, l1_ratio=0.07473829883630422,\n",
       "              penalty=&#x27;elasticnet&#x27;)</pre></div> </div></div></div></div></div><div class=\"sk-parallel-item\"><div class=\"sk-item\"><div class=\"sk-label-container\"><div class=\"sk-label fitted sk-toggleable\"><label>models/logreg_TF_(1, 3)</label></div></div><div class=\"sk-serial\"><div class=\"sk-item\"><div class=\"sk-estimator fitted sk-toggleable\"><input class=\"sk-toggleable__control sk-hidden--visually\" id=\"sk-estimator-id-37\" type=\"checkbox\" ><label for=\"sk-estimator-id-37\" class=\"sk-toggleable__label fitted sk-toggleable__label-arrow fitted\">&nbsp;SGDClassifier<a class=\"sk-estimator-doc-link fitted\" rel=\"noreferrer\" target=\"_blank\" href=\"https://scikit-learn.org/1.4/modules/generated/sklearn.linear_model.SGDClassifier.html\">?<span>Documentation for SGDClassifier</span></a></label><div class=\"sk-toggleable__content fitted\"><pre>SGDClassifier(alpha=3.38445385486384e-06, l1_ratio=0.006445658861088777,\n",
       "              loss=&#x27;log_loss&#x27;, penalty=&#x27;elasticnet&#x27;)</pre></div> </div></div></div></div></div><div class=\"sk-parallel-item\"><div class=\"sk-item\"><div class=\"sk-label-container\"><div class=\"sk-label fitted sk-toggleable\"><label>models/perceptron_TF_(1, 3)</label></div></div><div class=\"sk-serial\"><div class=\"sk-item\"><div class=\"sk-estimator fitted sk-toggleable\"><input class=\"sk-toggleable__control sk-hidden--visually\" id=\"sk-estimator-id-38\" type=\"checkbox\" ><label for=\"sk-estimator-id-38\" class=\"sk-toggleable__label fitted sk-toggleable__label-arrow fitted\">&nbsp;SGDClassifier<a class=\"sk-estimator-doc-link fitted\" rel=\"noreferrer\" target=\"_blank\" href=\"https://scikit-learn.org/1.4/modules/generated/sklearn.linear_model.SGDClassifier.html\">?<span>Documentation for SGDClassifier</span></a></label><div class=\"sk-toggleable__content fitted\"><pre>SGDClassifier(alpha=3.93871100056008e-07, l1_ratio=0.9148104898386579,\n",
       "              loss=&#x27;perceptron&#x27;, penalty=&#x27;elasticnet&#x27;)</pre></div> </div></div></div></div></div><div class=\"sk-parallel-item\"><div class=\"sk-item\"><div class=\"sk-label-container\"><div class=\"sk-label fitted sk-toggleable\"><label>models/mnB_TF-IDF_(1, 3)</label></div></div><div class=\"sk-serial\"><div class=\"sk-item\"><div class=\"sk-estimator fitted sk-toggleable\"><input class=\"sk-toggleable__control sk-hidden--visually\" id=\"sk-estimator-id-39\" type=\"checkbox\" ><label for=\"sk-estimator-id-39\" class=\"sk-toggleable__label fitted sk-toggleable__label-arrow fitted\">&nbsp;MultinomialNB<a class=\"sk-estimator-doc-link fitted\" rel=\"noreferrer\" target=\"_blank\" href=\"https://scikit-learn.org/1.4/modules/generated/sklearn.naive_bayes.MultinomialNB.html\">?<span>Documentation for MultinomialNB</span></a></label><div class=\"sk-toggleable__content fitted\"><pre>MultinomialNB(alpha=0.14522223042414986, force_alpha=&#x27;warn&#x27;)</pre></div> </div></div></div></div></div><div class=\"sk-parallel-item\"><div class=\"sk-item\"><div class=\"sk-label-container\"><div class=\"sk-label fitted sk-toggleable\"><label>models/svm_TF-IDF_(1, 3)</label></div></div><div class=\"sk-serial\"><div class=\"sk-item\"><div class=\"sk-estimator fitted sk-toggleable\"><input class=\"sk-toggleable__control sk-hidden--visually\" id=\"sk-estimator-id-40\" type=\"checkbox\" ><label for=\"sk-estimator-id-40\" class=\"sk-toggleable__label fitted sk-toggleable__label-arrow fitted\">&nbsp;SGDClassifier<a class=\"sk-estimator-doc-link fitted\" rel=\"noreferrer\" target=\"_blank\" href=\"https://scikit-learn.org/1.4/modules/generated/sklearn.linear_model.SGDClassifier.html\">?<span>Documentation for SGDClassifier</span></a></label><div class=\"sk-toggleable__content fitted\"><pre>SGDClassifier(alpha=4.2470582092649606e-05, l1_ratio=0.17564719015373903,\n",
       "              penalty=&#x27;elasticnet&#x27;)</pre></div> </div></div></div></div></div><div class=\"sk-parallel-item\"><div class=\"sk-item\"><div class=\"sk-label-container\"><div class=\"sk-label fitted sk-toggleable\"><label>models/logreg_TF-IDF_(1, 3)</label></div></div><div class=\"sk-serial\"><div class=\"sk-item\"><div class=\"sk-estimator fitted sk-toggleable\"><input class=\"sk-toggleable__control sk-hidden--visually\" id=\"sk-estimator-id-41\" type=\"checkbox\" ><label for=\"sk-estimator-id-41\" class=\"sk-toggleable__label fitted sk-toggleable__label-arrow fitted\">&nbsp;SGDClassifier<a class=\"sk-estimator-doc-link fitted\" rel=\"noreferrer\" target=\"_blank\" href=\"https://scikit-learn.org/1.4/modules/generated/sklearn.linear_model.SGDClassifier.html\">?<span>Documentation for SGDClassifier</span></a></label><div class=\"sk-toggleable__content fitted\"><pre>SGDClassifier(alpha=2.4992271709496237e-06, l1_ratio=0.3149166486960795,\n",
       "              loss=&#x27;log_loss&#x27;, penalty=&#x27;elasticnet&#x27;)</pre></div> </div></div></div></div></div><div class=\"sk-parallel-item\"><div class=\"sk-item\"><div class=\"sk-label-container\"><div class=\"sk-label fitted sk-toggleable\"><label>models/perceptron_TF-IDF_(1, 3)</label></div></div><div class=\"sk-serial\"><div class=\"sk-item\"><div class=\"sk-estimator fitted sk-toggleable\"><input class=\"sk-toggleable__control sk-hidden--visually\" id=\"sk-estimator-id-42\" type=\"checkbox\" ><label for=\"sk-estimator-id-42\" class=\"sk-toggleable__label fitted sk-toggleable__label-arrow fitted\">&nbsp;SGDClassifier<a class=\"sk-estimator-doc-link fitted\" rel=\"noreferrer\" target=\"_blank\" href=\"https://scikit-learn.org/1.4/modules/generated/sklearn.linear_model.SGDClassifier.html\">?<span>Documentation for SGDClassifier</span></a></label><div class=\"sk-toggleable__content fitted\"><pre>SGDClassifier(alpha=1.824529704441578e-07, l1_ratio=0.957512930810102,\n",
       "              loss=&#x27;perceptron&#x27;, penalty=&#x27;elasticnet&#x27;)</pre></div> </div></div></div></div></div><div class=\"sk-parallel-item\"><div class=\"sk-item\"><div class=\"sk-label-container\"><div class=\"sk-label fitted sk-toggleable\"><label>models/mnB_log(TF)_(1, 3)</label></div></div><div class=\"sk-serial\"><div class=\"sk-item\"><div class=\"sk-estimator fitted sk-toggleable\"><input class=\"sk-toggleable__control sk-hidden--visually\" id=\"sk-estimator-id-43\" type=\"checkbox\" ><label for=\"sk-estimator-id-43\" class=\"sk-toggleable__label fitted sk-toggleable__label-arrow fitted\">&nbsp;MultinomialNB<a class=\"sk-estimator-doc-link fitted\" rel=\"noreferrer\" target=\"_blank\" href=\"https://scikit-learn.org/1.4/modules/generated/sklearn.naive_bayes.MultinomialNB.html\">?<span>Documentation for MultinomialNB</span></a></label><div class=\"sk-toggleable__content fitted\"><pre>MultinomialNB(alpha=0.09066915787851403, force_alpha=&#x27;warn&#x27;)</pre></div> </div></div></div></div></div><div class=\"sk-parallel-item\"><div class=\"sk-item\"><div class=\"sk-label-container\"><div class=\"sk-label fitted sk-toggleable\"><label>models/svm_log(TF)_(1, 3)</label></div></div><div class=\"sk-serial\"><div class=\"sk-item\"><div class=\"sk-estimator fitted sk-toggleable\"><input class=\"sk-toggleable__control sk-hidden--visually\" id=\"sk-estimator-id-44\" type=\"checkbox\" ><label for=\"sk-estimator-id-44\" class=\"sk-toggleable__label fitted sk-toggleable__label-arrow fitted\">&nbsp;SGDClassifier<a class=\"sk-estimator-doc-link fitted\" rel=\"noreferrer\" target=\"_blank\" href=\"https://scikit-learn.org/1.4/modules/generated/sklearn.linear_model.SGDClassifier.html\">?<span>Documentation for SGDClassifier</span></a></label><div class=\"sk-toggleable__content fitted\"><pre>SGDClassifier(alpha=3.707258609734565e-05, l1_ratio=0.2494798797776434,\n",
       "              penalty=&#x27;elasticnet&#x27;)</pre></div> </div></div></div></div></div><div class=\"sk-parallel-item\"><div class=\"sk-item\"><div class=\"sk-label-container\"><div class=\"sk-label fitted sk-toggleable\"><label>models/logreg_log(TF)_(1, 3)</label></div></div><div class=\"sk-serial\"><div class=\"sk-item\"><div class=\"sk-estimator fitted sk-toggleable\"><input class=\"sk-toggleable__control sk-hidden--visually\" id=\"sk-estimator-id-45\" type=\"checkbox\" ><label for=\"sk-estimator-id-45\" class=\"sk-toggleable__label fitted sk-toggleable__label-arrow fitted\">&nbsp;SGDClassifier<a class=\"sk-estimator-doc-link fitted\" rel=\"noreferrer\" target=\"_blank\" href=\"https://scikit-learn.org/1.4/modules/generated/sklearn.linear_model.SGDClassifier.html\">?<span>Documentation for SGDClassifier</span></a></label><div class=\"sk-toggleable__content fitted\"><pre>SGDClassifier(alpha=1.8816926928365438e-05, l1_ratio=0.0072048024529922094,\n",
       "              loss=&#x27;log_loss&#x27;, penalty=&#x27;elasticnet&#x27;)</pre></div> </div></div></div></div></div><div class=\"sk-parallel-item\"><div class=\"sk-item\"><div class=\"sk-label-container\"><div class=\"sk-label fitted sk-toggleable\"><label>models/perceptron_log(TF)_(1, 3)</label></div></div><div class=\"sk-serial\"><div class=\"sk-item\"><div class=\"sk-estimator fitted sk-toggleable\"><input class=\"sk-toggleable__control sk-hidden--visually\" id=\"sk-estimator-id-46\" type=\"checkbox\" ><label for=\"sk-estimator-id-46\" class=\"sk-toggleable__label fitted sk-toggleable__label-arrow fitted\">&nbsp;SGDClassifier<a class=\"sk-estimator-doc-link fitted\" rel=\"noreferrer\" target=\"_blank\" href=\"https://scikit-learn.org/1.4/modules/generated/sklearn.linear_model.SGDClassifier.html\">?<span>Documentation for SGDClassifier</span></a></label><div class=\"sk-toggleable__content fitted\"><pre>SGDClassifier(alpha=1.1503313991857374e-07, l1_ratio=0.8100022586140161,\n",
       "              loss=&#x27;perceptron&#x27;, penalty=&#x27;elasticnet&#x27;)</pre></div> </div></div></div></div></div><div class=\"sk-parallel-item\"><div class=\"sk-item\"><div class=\"sk-label-container\"><div class=\"sk-label fitted sk-toggleable\"><label>models/mnB_log(TF)-IDF_(1, 3)</label></div></div><div class=\"sk-serial\"><div class=\"sk-item\"><div class=\"sk-estimator fitted sk-toggleable\"><input class=\"sk-toggleable__control sk-hidden--visually\" id=\"sk-estimator-id-47\" type=\"checkbox\" ><label for=\"sk-estimator-id-47\" class=\"sk-toggleable__label fitted sk-toggleable__label-arrow fitted\">&nbsp;MultinomialNB<a class=\"sk-estimator-doc-link fitted\" rel=\"noreferrer\" target=\"_blank\" href=\"https://scikit-learn.org/1.4/modules/generated/sklearn.naive_bayes.MultinomialNB.html\">?<span>Documentation for MultinomialNB</span></a></label><div class=\"sk-toggleable__content fitted\"><pre>MultinomialNB(alpha=0.16663316041589346, force_alpha=&#x27;warn&#x27;)</pre></div> </div></div></div></div></div><div class=\"sk-parallel-item\"><div class=\"sk-item\"><div class=\"sk-label-container\"><div class=\"sk-label fitted sk-toggleable\"><label>models/svm_log(TF)-IDF_(1, 3)</label></div></div><div class=\"sk-serial\"><div class=\"sk-item\"><div class=\"sk-estimator fitted sk-toggleable\"><input class=\"sk-toggleable__control sk-hidden--visually\" id=\"sk-estimator-id-48\" type=\"checkbox\" ><label for=\"sk-estimator-id-48\" class=\"sk-toggleable__label fitted sk-toggleable__label-arrow fitted\">&nbsp;SGDClassifier<a class=\"sk-estimator-doc-link fitted\" rel=\"noreferrer\" target=\"_blank\" href=\"https://scikit-learn.org/1.4/modules/generated/sklearn.linear_model.SGDClassifier.html\">?<span>Documentation for SGDClassifier</span></a></label><div class=\"sk-toggleable__content fitted\"><pre>SGDClassifier(alpha=6.782046232003699e-05, l1_ratio=0.003152240443357523,\n",
       "              penalty=&#x27;elasticnet&#x27;)</pre></div> </div></div></div></div></div><div class=\"sk-parallel-item\"><div class=\"sk-item\"><div class=\"sk-label-container\"><div class=\"sk-label fitted sk-toggleable\"><label>models/logreg_log(TF)-IDF_(1, 3)</label></div></div><div class=\"sk-serial\"><div class=\"sk-item\"><div class=\"sk-estimator fitted sk-toggleable\"><input class=\"sk-toggleable__control sk-hidden--visually\" id=\"sk-estimator-id-49\" type=\"checkbox\" ><label for=\"sk-estimator-id-49\" class=\"sk-toggleable__label fitted sk-toggleable__label-arrow fitted\">&nbsp;SGDClassifier<a class=\"sk-estimator-doc-link fitted\" rel=\"noreferrer\" target=\"_blank\" href=\"https://scikit-learn.org/1.4/modules/generated/sklearn.linear_model.SGDClassifier.html\">?<span>Documentation for SGDClassifier</span></a></label><div class=\"sk-toggleable__content fitted\"><pre>SGDClassifier(alpha=2.161246283492766e-06, l1_ratio=0.09009474237201462,\n",
       "              loss=&#x27;log_loss&#x27;, penalty=&#x27;elasticnet&#x27;)</pre></div> </div></div></div></div></div><div class=\"sk-parallel-item\"><div class=\"sk-item\"><div class=\"sk-label-container\"><div class=\"sk-label fitted sk-toggleable\"><label>models/perceptron_log(TF)-IDF_(1, 3)</label></div></div><div class=\"sk-serial\"><div class=\"sk-item\"><div class=\"sk-estimator fitted sk-toggleable\"><input class=\"sk-toggleable__control sk-hidden--visually\" id=\"sk-estimator-id-50\" type=\"checkbox\" ><label for=\"sk-estimator-id-50\" class=\"sk-toggleable__label fitted sk-toggleable__label-arrow fitted\">&nbsp;SGDClassifier<a class=\"sk-estimator-doc-link fitted\" rel=\"noreferrer\" target=\"_blank\" href=\"https://scikit-learn.org/1.4/modules/generated/sklearn.linear_model.SGDClassifier.html\">?<span>Documentation for SGDClassifier</span></a></label><div class=\"sk-toggleable__content fitted\"><pre>SGDClassifier(alpha=1.8243974043679948e-07, l1_ratio=0.9442757005473624,\n",
       "              loss=&#x27;perceptron&#x27;, penalty=&#x27;elasticnet&#x27;)</pre></div> </div></div></div></div></div></div></div><div class=\"sk-item\"><div class=\"sk-parallel\"><div class=\"sk-parallel-item\"><div class=\"sk-item\"><div class=\"sk-label-container\"><div class=\"sk-label fitted sk-toggleable\"><label>final_estimator</label></div></div><div class=\"sk-serial\"><div class=\"sk-item\"><div class=\"sk-estimator fitted sk-toggleable\"><input class=\"sk-toggleable__control sk-hidden--visually\" id=\"sk-estimator-id-51\" type=\"checkbox\" ><label for=\"sk-estimator-id-51\" class=\"sk-toggleable__label fitted sk-toggleable__label-arrow fitted\">&nbsp;LogisticRegression<a class=\"sk-estimator-doc-link fitted\" rel=\"noreferrer\" target=\"_blank\" href=\"https://scikit-learn.org/1.4/modules/generated/sklearn.linear_model.LogisticRegression.html\">?<span>Documentation for LogisticRegression</span></a></label><div class=\"sk-toggleable__content fitted\"><pre>LogisticRegression(max_iter=100000)</pre></div> </div></div></div></div></div></div></div></div></div></div></div>"
      ],
      "text/plain": [
       "StackingClassifier(cv=KFold(n_splits=5, random_state=42, shuffle=True),\n",
       "                   estimators=[('models/mnB_TF_(1, 3)',\n",
       "                                MultinomialNB(alpha=0.06571945828738972,\n",
       "                                              force_alpha='warn')),\n",
       "                               ('models/svm_TF_(1, 3)',\n",
       "                                SGDClassifier(alpha=4.2444719898180106e-05,\n",
       "                                              l1_ratio=0.07473829883630422,\n",
       "                                              penalty='elasticnet')),\n",
       "                               ('models/logreg_TF_(1, 3)',\n",
       "                                SGDClassifier(alpha=3.38445385486384e-06,...\n",
       "                                              penalty='elasticnet')),\n",
       "                               ('models/logreg_log(TF)-IDF_(1, 3)',\n",
       "                                SGDClassifier(alpha=2.161246283492766e-06,\n",
       "                                              l1_ratio=0.09009474237201462,\n",
       "                                              loss='log_loss',\n",
       "                                              penalty='elasticnet')),\n",
       "                               ('models/perceptron_log(TF)-IDF_(1, 3)',\n",
       "                                SGDClassifier(alpha=1.8243974043679948e-07,\n",
       "                                              l1_ratio=0.9442757005473624,\n",
       "                                              loss='perceptron',\n",
       "                                              penalty='elasticnet'))],\n",
       "                   final_estimator=LogisticRegression(max_iter=100000))"
      ]
     },
     "execution_count": 76,
     "metadata": {},
     "output_type": "execute_result"
    }
   ],
   "source": []
  },
  {
   "cell_type": "code",
   "execution_count": 77,
   "id": "0958b5ca-3cf9-4470-9a5c-31a641568635",
   "metadata": {},
   "outputs": [
    {
     "ename": "ValueError",
     "evalue": "X has 3508784 features, but MultinomialNB is expecting 608 features as input.",
     "output_type": "error",
     "traceback": [
      "\u001b[0;31m---------------------------------------------------------------------------\u001b[0m",
      "\u001b[0;31mValueError\u001b[0m                                Traceback (most recent call last)",
      "Cell \u001b[0;32mIn[77], line 1\u001b[0m\n\u001b[0;32m----> 1\u001b[0m \u001b[43mmodels\u001b[49m\u001b[43m[\u001b[49m\u001b[38;5;124;43m'\u001b[39;49m\u001b[38;5;124;43mstacking_logreg\u001b[39;49m\u001b[38;5;124;43m'\u001b[39;49m\u001b[43m]\u001b[49m\u001b[38;5;241;43m.\u001b[39;49m\u001b[43mpredict\u001b[49m\u001b[43m(\u001b[49m\u001b[43mX_test\u001b[49m\u001b[43m)\u001b[49m\n",
      "File \u001b[0;32m~/.venv/lib/python3.12/site-packages/sklearn/ensemble/_stacking.py:692\u001b[0m, in \u001b[0;36mStackingClassifier.predict\u001b[0;34m(self, X, **predict_params)\u001b[0m\n\u001b[1;32m    671\u001b[0m \u001b[38;5;129m@available_if\u001b[39m(_estimator_has(\u001b[38;5;124m\"\u001b[39m\u001b[38;5;124mpredict\u001b[39m\u001b[38;5;124m\"\u001b[39m))\n\u001b[1;32m    672\u001b[0m \u001b[38;5;28;01mdef\u001b[39;00m \u001b[38;5;21mpredict\u001b[39m(\u001b[38;5;28mself\u001b[39m, X, \u001b[38;5;241m*\u001b[39m\u001b[38;5;241m*\u001b[39mpredict_params):\n\u001b[1;32m    673\u001b[0m \u001b[38;5;250m    \u001b[39m\u001b[38;5;124;03m\"\"\"Predict target for X.\u001b[39;00m\n\u001b[1;32m    674\u001b[0m \n\u001b[1;32m    675\u001b[0m \u001b[38;5;124;03m    Parameters\u001b[39;00m\n\u001b[0;32m   (...)\u001b[0m\n\u001b[1;32m    690\u001b[0m \u001b[38;5;124;03m        Predicted targets.\u001b[39;00m\n\u001b[1;32m    691\u001b[0m \u001b[38;5;124;03m    \"\"\"\u001b[39;00m\n\u001b[0;32m--> 692\u001b[0m     y_pred \u001b[38;5;241m=\u001b[39m \u001b[38;5;28;43msuper\u001b[39;49m\u001b[43m(\u001b[49m\u001b[43m)\u001b[49m\u001b[38;5;241;43m.\u001b[39;49m\u001b[43mpredict\u001b[49m\u001b[43m(\u001b[49m\u001b[43mX\u001b[49m\u001b[43m,\u001b[49m\u001b[43m \u001b[49m\u001b[38;5;241;43m*\u001b[39;49m\u001b[38;5;241;43m*\u001b[39;49m\u001b[43mpredict_params\u001b[49m\u001b[43m)\u001b[49m\n\u001b[1;32m    693\u001b[0m     \u001b[38;5;28;01mif\u001b[39;00m \u001b[38;5;28misinstance\u001b[39m(\u001b[38;5;28mself\u001b[39m\u001b[38;5;241m.\u001b[39m_label_encoder, \u001b[38;5;28mlist\u001b[39m):\n\u001b[1;32m    694\u001b[0m         \u001b[38;5;66;03m# Handle the multilabel-indicator case\u001b[39;00m\n\u001b[1;32m    695\u001b[0m         y_pred \u001b[38;5;241m=\u001b[39m np\u001b[38;5;241m.\u001b[39marray(\n\u001b[1;32m    696\u001b[0m             [\n\u001b[1;32m    697\u001b[0m                 \u001b[38;5;28mself\u001b[39m\u001b[38;5;241m.\u001b[39m_label_encoder[target_idx]\u001b[38;5;241m.\u001b[39minverse_transform(target)\n\u001b[1;32m    698\u001b[0m                 \u001b[38;5;28;01mfor\u001b[39;00m target_idx, target \u001b[38;5;129;01min\u001b[39;00m \u001b[38;5;28menumerate\u001b[39m(y_pred\u001b[38;5;241m.\u001b[39mT)\n\u001b[1;32m    699\u001b[0m             ]\n\u001b[1;32m    700\u001b[0m         )\u001b[38;5;241m.\u001b[39mT\n",
      "File \u001b[0;32m~/.venv/lib/python3.12/site-packages/sklearn/ensemble/_stacking.py:379\u001b[0m, in \u001b[0;36m_BaseStacking.predict\u001b[0;34m(self, X, **predict_params)\u001b[0m\n\u001b[1;32m    358\u001b[0m \u001b[38;5;250m\u001b[39m\u001b[38;5;124;03m\"\"\"Predict target for X.\u001b[39;00m\n\u001b[1;32m    359\u001b[0m \n\u001b[1;32m    360\u001b[0m \u001b[38;5;124;03mParameters\u001b[39;00m\n\u001b[0;32m   (...)\u001b[0m\n\u001b[1;32m    375\u001b[0m \u001b[38;5;124;03m    Predicted targets.\u001b[39;00m\n\u001b[1;32m    376\u001b[0m \u001b[38;5;124;03m\"\"\"\u001b[39;00m\n\u001b[1;32m    378\u001b[0m check_is_fitted(\u001b[38;5;28mself\u001b[39m)\n\u001b[0;32m--> 379\u001b[0m \u001b[38;5;28;01mreturn\u001b[39;00m \u001b[38;5;28mself\u001b[39m\u001b[38;5;241m.\u001b[39mfinal_estimator_\u001b[38;5;241m.\u001b[39mpredict(\u001b[38;5;28;43mself\u001b[39;49m\u001b[38;5;241;43m.\u001b[39;49m\u001b[43mtransform\u001b[49m\u001b[43m(\u001b[49m\u001b[43mX\u001b[49m\u001b[43m)\u001b[49m, \u001b[38;5;241m*\u001b[39m\u001b[38;5;241m*\u001b[39mpredict_params)\n",
      "File \u001b[0;32m~/.venv/lib/python3.12/site-packages/sklearn/utils/_set_output.py:295\u001b[0m, in \u001b[0;36m_wrap_method_output.<locals>.wrapped\u001b[0;34m(self, X, *args, **kwargs)\u001b[0m\n\u001b[1;32m    293\u001b[0m \u001b[38;5;129m@wraps\u001b[39m(f)\n\u001b[1;32m    294\u001b[0m \u001b[38;5;28;01mdef\u001b[39;00m \u001b[38;5;21mwrapped\u001b[39m(\u001b[38;5;28mself\u001b[39m, X, \u001b[38;5;241m*\u001b[39margs, \u001b[38;5;241m*\u001b[39m\u001b[38;5;241m*\u001b[39mkwargs):\n\u001b[0;32m--> 295\u001b[0m     data_to_wrap \u001b[38;5;241m=\u001b[39m \u001b[43mf\u001b[49m\u001b[43m(\u001b[49m\u001b[38;5;28;43mself\u001b[39;49m\u001b[43m,\u001b[49m\u001b[43m \u001b[49m\u001b[43mX\u001b[49m\u001b[43m,\u001b[49m\u001b[43m \u001b[49m\u001b[38;5;241;43m*\u001b[39;49m\u001b[43margs\u001b[49m\u001b[43m,\u001b[49m\u001b[43m \u001b[49m\u001b[38;5;241;43m*\u001b[39;49m\u001b[38;5;241;43m*\u001b[39;49m\u001b[43mkwargs\u001b[49m\u001b[43m)\u001b[49m\n\u001b[1;32m    296\u001b[0m     \u001b[38;5;28;01mif\u001b[39;00m \u001b[38;5;28misinstance\u001b[39m(data_to_wrap, \u001b[38;5;28mtuple\u001b[39m):\n\u001b[1;32m    297\u001b[0m         \u001b[38;5;66;03m# only wrap the first output for cross decomposition\u001b[39;00m\n\u001b[1;32m    298\u001b[0m         return_tuple \u001b[38;5;241m=\u001b[39m (\n\u001b[1;32m    299\u001b[0m             _wrap_data_with_container(method, data_to_wrap[\u001b[38;5;241m0\u001b[39m], X, \u001b[38;5;28mself\u001b[39m),\n\u001b[1;32m    300\u001b[0m             \u001b[38;5;241m*\u001b[39mdata_to_wrap[\u001b[38;5;241m1\u001b[39m:],\n\u001b[1;32m    301\u001b[0m         )\n",
      "File \u001b[0;32m~/.venv/lib/python3.12/site-packages/sklearn/ensemble/_stacking.py:763\u001b[0m, in \u001b[0;36mStackingClassifier.transform\u001b[0;34m(self, X)\u001b[0m\n\u001b[1;32m    748\u001b[0m \u001b[38;5;28;01mdef\u001b[39;00m \u001b[38;5;21mtransform\u001b[39m(\u001b[38;5;28mself\u001b[39m, X):\n\u001b[1;32m    749\u001b[0m \u001b[38;5;250m    \u001b[39m\u001b[38;5;124;03m\"\"\"Return class labels or probabilities for X for each estimator.\u001b[39;00m\n\u001b[1;32m    750\u001b[0m \n\u001b[1;32m    751\u001b[0m \u001b[38;5;124;03m    Parameters\u001b[39;00m\n\u001b[0;32m   (...)\u001b[0m\n\u001b[1;32m    761\u001b[0m \u001b[38;5;124;03m        Prediction outputs for each estimator.\u001b[39;00m\n\u001b[1;32m    762\u001b[0m \u001b[38;5;124;03m    \"\"\"\u001b[39;00m\n\u001b[0;32m--> 763\u001b[0m     \u001b[38;5;28;01mreturn\u001b[39;00m \u001b[38;5;28;43mself\u001b[39;49m\u001b[38;5;241;43m.\u001b[39;49m\u001b[43m_transform\u001b[49m\u001b[43m(\u001b[49m\u001b[43mX\u001b[49m\u001b[43m)\u001b[49m\n",
      "File \u001b[0;32m~/.venv/lib/python3.12/site-packages/sklearn/ensemble/_stacking.py:304\u001b[0m, in \u001b[0;36m_BaseStacking._transform\u001b[0;34m(self, X)\u001b[0m\n\u001b[1;32m    301\u001b[0m \u001b[38;5;250m\u001b[39m\u001b[38;5;124;03m\"\"\"Concatenate and return the predictions of the estimators.\"\"\"\u001b[39;00m\n\u001b[1;32m    302\u001b[0m check_is_fitted(\u001b[38;5;28mself\u001b[39m)\n\u001b[1;32m    303\u001b[0m predictions \u001b[38;5;241m=\u001b[39m [\n\u001b[0;32m--> 304\u001b[0m     \u001b[38;5;28;43mgetattr\u001b[39;49m\u001b[43m(\u001b[49m\u001b[43mest\u001b[49m\u001b[43m,\u001b[49m\u001b[43m \u001b[49m\u001b[43mmeth\u001b[49m\u001b[43m)\u001b[49m\u001b[43m(\u001b[49m\u001b[43mX\u001b[49m\u001b[43m)\u001b[49m\n\u001b[1;32m    305\u001b[0m     \u001b[38;5;28;01mfor\u001b[39;00m est, meth \u001b[38;5;129;01min\u001b[39;00m \u001b[38;5;28mzip\u001b[39m(\u001b[38;5;28mself\u001b[39m\u001b[38;5;241m.\u001b[39mestimators_, \u001b[38;5;28mself\u001b[39m\u001b[38;5;241m.\u001b[39mstack_method_)\n\u001b[1;32m    306\u001b[0m     \u001b[38;5;28;01mif\u001b[39;00m est \u001b[38;5;241m!=\u001b[39m \u001b[38;5;124m\"\u001b[39m\u001b[38;5;124mdrop\u001b[39m\u001b[38;5;124m\"\u001b[39m\n\u001b[1;32m    307\u001b[0m ]\n\u001b[1;32m    308\u001b[0m \u001b[38;5;28;01mreturn\u001b[39;00m \u001b[38;5;28mself\u001b[39m\u001b[38;5;241m.\u001b[39m_concatenate_predictions(X, predictions)\n",
      "File \u001b[0;32m~/.venv/lib/python3.12/site-packages/sklearn/naive_bayes.py:144\u001b[0m, in \u001b[0;36m_BaseNB.predict_proba\u001b[0;34m(self, X)\u001b[0m\n\u001b[1;32m    128\u001b[0m \u001b[38;5;28;01mdef\u001b[39;00m \u001b[38;5;21mpredict_proba\u001b[39m(\u001b[38;5;28mself\u001b[39m, X):\n\u001b[1;32m    129\u001b[0m \u001b[38;5;250m    \u001b[39m\u001b[38;5;124;03m\"\"\"\u001b[39;00m\n\u001b[1;32m    130\u001b[0m \u001b[38;5;124;03m    Return probability estimates for the test vector X.\u001b[39;00m\n\u001b[1;32m    131\u001b[0m \n\u001b[0;32m   (...)\u001b[0m\n\u001b[1;32m    142\u001b[0m \u001b[38;5;124;03m        order, as they appear in the attribute :term:`classes_`.\u001b[39;00m\n\u001b[1;32m    143\u001b[0m \u001b[38;5;124;03m    \"\"\"\u001b[39;00m\n\u001b[0;32m--> 144\u001b[0m     \u001b[38;5;28;01mreturn\u001b[39;00m np\u001b[38;5;241m.\u001b[39mexp(\u001b[38;5;28;43mself\u001b[39;49m\u001b[38;5;241;43m.\u001b[39;49m\u001b[43mpredict_log_proba\u001b[49m\u001b[43m(\u001b[49m\u001b[43mX\u001b[49m\u001b[43m)\u001b[49m)\n",
      "File \u001b[0;32m~/.venv/lib/python3.12/site-packages/sklearn/naive_bayes.py:122\u001b[0m, in \u001b[0;36m_BaseNB.predict_log_proba\u001b[0;34m(self, X)\u001b[0m\n\u001b[1;32m    106\u001b[0m \u001b[38;5;250m\u001b[39m\u001b[38;5;124;03m\"\"\"\u001b[39;00m\n\u001b[1;32m    107\u001b[0m \u001b[38;5;124;03mReturn log-probability estimates for the test vector X.\u001b[39;00m\n\u001b[1;32m    108\u001b[0m \n\u001b[0;32m   (...)\u001b[0m\n\u001b[1;32m    119\u001b[0m \u001b[38;5;124;03m    order, as they appear in the attribute :term:`classes_`.\u001b[39;00m\n\u001b[1;32m    120\u001b[0m \u001b[38;5;124;03m\"\"\"\u001b[39;00m\n\u001b[1;32m    121\u001b[0m check_is_fitted(\u001b[38;5;28mself\u001b[39m)\n\u001b[0;32m--> 122\u001b[0m X \u001b[38;5;241m=\u001b[39m \u001b[38;5;28;43mself\u001b[39;49m\u001b[38;5;241;43m.\u001b[39;49m\u001b[43m_check_X\u001b[49m\u001b[43m(\u001b[49m\u001b[43mX\u001b[49m\u001b[43m)\u001b[49m\n\u001b[1;32m    123\u001b[0m jll \u001b[38;5;241m=\u001b[39m \u001b[38;5;28mself\u001b[39m\u001b[38;5;241m.\u001b[39m_joint_log_likelihood(X)\n\u001b[1;32m    124\u001b[0m \u001b[38;5;66;03m# normalize by P(x) = P(f_1, ..., f_n)\u001b[39;00m\n",
      "File \u001b[0;32m~/.venv/lib/python3.12/site-packages/sklearn/naive_bayes.py:574\u001b[0m, in \u001b[0;36m_BaseDiscreteNB._check_X\u001b[0;34m(self, X)\u001b[0m\n\u001b[1;32m    572\u001b[0m \u001b[38;5;28;01mdef\u001b[39;00m \u001b[38;5;21m_check_X\u001b[39m(\u001b[38;5;28mself\u001b[39m, X):\n\u001b[1;32m    573\u001b[0m \u001b[38;5;250m    \u001b[39m\u001b[38;5;124;03m\"\"\"Validate X, used only in predict* methods.\"\"\"\u001b[39;00m\n\u001b[0;32m--> 574\u001b[0m     \u001b[38;5;28;01mreturn\u001b[39;00m \u001b[38;5;28;43mself\u001b[39;49m\u001b[38;5;241;43m.\u001b[39;49m\u001b[43m_validate_data\u001b[49m\u001b[43m(\u001b[49m\u001b[43mX\u001b[49m\u001b[43m,\u001b[49m\u001b[43m \u001b[49m\u001b[43maccept_sparse\u001b[49m\u001b[38;5;241;43m=\u001b[39;49m\u001b[38;5;124;43m\"\u001b[39;49m\u001b[38;5;124;43mcsr\u001b[39;49m\u001b[38;5;124;43m\"\u001b[39;49m\u001b[43m,\u001b[49m\u001b[43m \u001b[49m\u001b[43mreset\u001b[49m\u001b[38;5;241;43m=\u001b[39;49m\u001b[38;5;28;43;01mFalse\u001b[39;49;00m\u001b[43m)\u001b[49m\n",
      "File \u001b[0;32m~/.venv/lib/python3.12/site-packages/sklearn/base.py:654\u001b[0m, in \u001b[0;36mBaseEstimator._validate_data\u001b[0;34m(self, X, y, reset, validate_separately, cast_to_ndarray, **check_params)\u001b[0m\n\u001b[1;32m    651\u001b[0m     out \u001b[38;5;241m=\u001b[39m X, y\n\u001b[1;32m    653\u001b[0m \u001b[38;5;28;01mif\u001b[39;00m \u001b[38;5;129;01mnot\u001b[39;00m no_val_X \u001b[38;5;129;01mand\u001b[39;00m check_params\u001b[38;5;241m.\u001b[39mget(\u001b[38;5;124m\"\u001b[39m\u001b[38;5;124mensure_2d\u001b[39m\u001b[38;5;124m\"\u001b[39m, \u001b[38;5;28;01mTrue\u001b[39;00m):\n\u001b[0;32m--> 654\u001b[0m     \u001b[38;5;28;43mself\u001b[39;49m\u001b[38;5;241;43m.\u001b[39;49m\u001b[43m_check_n_features\u001b[49m\u001b[43m(\u001b[49m\u001b[43mX\u001b[49m\u001b[43m,\u001b[49m\u001b[43m \u001b[49m\u001b[43mreset\u001b[49m\u001b[38;5;241;43m=\u001b[39;49m\u001b[43mreset\u001b[49m\u001b[43m)\u001b[49m\n\u001b[1;32m    656\u001b[0m \u001b[38;5;28;01mreturn\u001b[39;00m out\n",
      "File \u001b[0;32m~/.venv/lib/python3.12/site-packages/sklearn/base.py:443\u001b[0m, in \u001b[0;36mBaseEstimator._check_n_features\u001b[0;34m(self, X, reset)\u001b[0m\n\u001b[1;32m    440\u001b[0m     \u001b[38;5;28;01mreturn\u001b[39;00m\n\u001b[1;32m    442\u001b[0m \u001b[38;5;28;01mif\u001b[39;00m n_features \u001b[38;5;241m!=\u001b[39m \u001b[38;5;28mself\u001b[39m\u001b[38;5;241m.\u001b[39mn_features_in_:\n\u001b[0;32m--> 443\u001b[0m     \u001b[38;5;28;01mraise\u001b[39;00m \u001b[38;5;167;01mValueError\u001b[39;00m(\n\u001b[1;32m    444\u001b[0m         \u001b[38;5;124mf\u001b[39m\u001b[38;5;124m\"\u001b[39m\u001b[38;5;124mX has \u001b[39m\u001b[38;5;132;01m{\u001b[39;00mn_features\u001b[38;5;132;01m}\u001b[39;00m\u001b[38;5;124m features, but \u001b[39m\u001b[38;5;132;01m{\u001b[39;00m\u001b[38;5;28mself\u001b[39m\u001b[38;5;241m.\u001b[39m\u001b[38;5;18m__class__\u001b[39m\u001b[38;5;241m.\u001b[39m\u001b[38;5;18m__name__\u001b[39m\u001b[38;5;132;01m}\u001b[39;00m\u001b[38;5;124m \u001b[39m\u001b[38;5;124m\"\u001b[39m\n\u001b[1;32m    445\u001b[0m         \u001b[38;5;124mf\u001b[39m\u001b[38;5;124m\"\u001b[39m\u001b[38;5;124mis expecting \u001b[39m\u001b[38;5;132;01m{\u001b[39;00m\u001b[38;5;28mself\u001b[39m\u001b[38;5;241m.\u001b[39mn_features_in_\u001b[38;5;132;01m}\u001b[39;00m\u001b[38;5;124m features as input.\u001b[39m\u001b[38;5;124m\"\u001b[39m\n\u001b[1;32m    446\u001b[0m     )\n",
      "\u001b[0;31mValueError\u001b[0m: X has 3508784 features, but MultinomialNB is expecting 608 features as input."
     ]
    }
   ],
   "source": [
    "models['stacking_logreg'].predict(X_test)"
   ]
  },
  {
   "cell_type": "markdown",
   "id": "be9f69d6-9167-492e-855d-d7b1f9bdf2eb",
   "metadata": {},
   "source": [
    "### Classification reports\n",
    "\n",
    "We are now ready to produce classification reports for all twelve models. I'll report the accuracy, precision, recall, F1 score and the confusion matrix."
   ]
  },
  {
   "cell_type": "code",
   "execution_count": 64,
   "id": "6ed2039d-55f6-4017-9cd4-b7f54654393a",
   "metadata": {},
   "outputs": [],
   "source": [
    "from sklearn.metrics import *\n",
    "\n",
    "def classification_report(y_eval, y_pred):\n",
    "    cm = confusion_matrix(y_eval, y_pred)\n",
    "    metrics = pd.DataFrame([\n",
    "        {'value': accuracy_score(y_eval, y_pred)},\n",
    "        {'value': precision_score(y_eval, y_pred)},\n",
    "        {'value': recall_score(y_eval,y_pred)},\n",
    "        {'value': f1_score(y_eval,y_pred)}], index=['accuracy', 'precision', 'recall', 'f1'])\n",
    "    return pd.DataFrame(cm,columns=['under 100k','over 100k'],index = ['under 100k','over 100k']), metrics"
   ]
  },
  {
   "cell_type": "code",
   "execution_count": 78,
   "id": "08ab9fc3-fd51-4fae-b40b-dc5998456b72",
   "metadata": {},
   "outputs": [],
   "source": [
    "model_names = list(y_preds.keys())"
   ]
  },
  {
   "cell_type": "code",
   "execution_count": 79,
   "id": "9b3007e3-b548-4b96-8c76-9ebff436b432",
   "metadata": {},
   "outputs": [],
   "source": [
    "y_test = test['label']\n",
    "\n",
    "cm_dict = {}\n",
    "metrics_dict = {}\n",
    "\n",
    "for model_name in y_preds:\n",
    "    cm, metrics = classification_report(y_test, y_preds[model_name])\n",
    "    cm_dict[model_name] = cm\n",
    "    metrics_dict[model_name] = metrics"
   ]
  },
  {
   "cell_type": "code",
   "execution_count": 80,
   "id": "d5dbc69e-cdfa-484d-b2ff-1b3dc8725f08",
   "metadata": {},
   "outputs": [
    {
     "data": {
      "text/html": [
       "<div>\n",
       "<style scoped>\n",
       "    .dataframe tbody tr th:only-of-type {\n",
       "        vertical-align: middle;\n",
       "    }\n",
       "\n",
       "    .dataframe tbody tr th {\n",
       "        vertical-align: top;\n",
       "    }\n",
       "\n",
       "    .dataframe thead th {\n",
       "        text-align: right;\n",
       "    }\n",
       "</style>\n",
       "<table border=\"1\" class=\"dataframe\">\n",
       "  <thead>\n",
       "    <tr style=\"text-align: right;\">\n",
       "      <th></th>\n",
       "      <th>accuracy</th>\n",
       "      <th>precision</th>\n",
       "      <th>recall</th>\n",
       "      <th>f1</th>\n",
       "      <th>TP</th>\n",
       "      <th>FN</th>\n",
       "      <th>FP</th>\n",
       "      <th>TN</th>\n",
       "    </tr>\n",
       "    <tr>\n",
       "      <th>model</th>\n",
       "      <th></th>\n",
       "      <th></th>\n",
       "      <th></th>\n",
       "      <th></th>\n",
       "      <th></th>\n",
       "      <th></th>\n",
       "      <th></th>\n",
       "      <th></th>\n",
       "    </tr>\n",
       "  </thead>\n",
       "  <tbody>\n",
       "    <tr>\n",
       "      <th>mnB_TF_(1, 3)</th>\n",
       "      <td>0.824412</td>\n",
       "      <td>0.802088</td>\n",
       "      <td>0.737305</td>\n",
       "      <td>0.768333</td>\n",
       "      <td>1844</td>\n",
       "      <td>657</td>\n",
       "      <td>455</td>\n",
       "      <td>3377</td>\n",
       "    </tr>\n",
       "    <tr>\n",
       "      <th>mnB_TF-IDF_(1, 3)</th>\n",
       "      <td>0.820306</td>\n",
       "      <td>0.819204</td>\n",
       "      <td>0.699320</td>\n",
       "      <td>0.754530</td>\n",
       "      <td>1749</td>\n",
       "      <td>752</td>\n",
       "      <td>386</td>\n",
       "      <td>3446</td>\n",
       "    </tr>\n",
       "    <tr>\n",
       "      <th>mnB_log(TF)_(1, 3)</th>\n",
       "      <td>0.823938</td>\n",
       "      <td>0.812162</td>\n",
       "      <td>0.720912</td>\n",
       "      <td>0.763821</td>\n",
       "      <td>1803</td>\n",
       "      <td>698</td>\n",
       "      <td>417</td>\n",
       "      <td>3415</td>\n",
       "    </tr>\n",
       "    <tr>\n",
       "      <th>mnB_log(TF)-IDF_(1, 3)</th>\n",
       "      <td>0.819359</td>\n",
       "      <td>0.822328</td>\n",
       "      <td>0.692123</td>\n",
       "      <td>0.751628</td>\n",
       "      <td>1731</td>\n",
       "      <td>770</td>\n",
       "      <td>374</td>\n",
       "      <td>3458</td>\n",
       "    </tr>\n",
       "    <tr>\n",
       "      <th>mnB_TF_(1, 3)_calibrated</th>\n",
       "      <td>0.823622</td>\n",
       "      <td>0.818307</td>\n",
       "      <td>0.711315</td>\n",
       "      <td>0.761070</td>\n",
       "      <td>1779</td>\n",
       "      <td>722</td>\n",
       "      <td>395</td>\n",
       "      <td>3437</td>\n",
       "    </tr>\n",
       "    <tr>\n",
       "      <th>mnB_TF-IDF_(1, 3)_calibrated</th>\n",
       "      <td>0.819359</td>\n",
       "      <td>0.828890</td>\n",
       "      <td>0.683727</td>\n",
       "      <td>0.749343</td>\n",
       "      <td>1710</td>\n",
       "      <td>791</td>\n",
       "      <td>353</td>\n",
       "      <td>3479</td>\n",
       "    </tr>\n",
       "    <tr>\n",
       "      <th>mnB_log(TF)_(1, 3)_calibrated</th>\n",
       "      <td>0.822043</td>\n",
       "      <td>0.823142</td>\n",
       "      <td>0.699720</td>\n",
       "      <td>0.756430</td>\n",
       "      <td>1750</td>\n",
       "      <td>751</td>\n",
       "      <td>376</td>\n",
       "      <td>3456</td>\n",
       "    </tr>\n",
       "    <tr>\n",
       "      <th>mnB_log(TF)-IDF_(1, 3)_calibrated</th>\n",
       "      <td>0.818096</td>\n",
       "      <td>0.829829</td>\n",
       "      <td>0.678529</td>\n",
       "      <td>0.746590</td>\n",
       "      <td>1697</td>\n",
       "      <td>804</td>\n",
       "      <td>348</td>\n",
       "      <td>3484</td>\n",
       "    </tr>\n",
       "    <tr>\n",
       "      <th>svm_TF_(1, 3)</th>\n",
       "      <td>0.814622</td>\n",
       "      <td>0.791648</td>\n",
       "      <td>0.720112</td>\n",
       "      <td>0.754188</td>\n",
       "      <td>1801</td>\n",
       "      <td>700</td>\n",
       "      <td>474</td>\n",
       "      <td>3358</td>\n",
       "    </tr>\n",
       "    <tr>\n",
       "      <th>svm_TF-IDF_(1, 3)</th>\n",
       "      <td>0.822359</td>\n",
       "      <td>0.812727</td>\n",
       "      <td>0.714914</td>\n",
       "      <td>0.760689</td>\n",
       "      <td>1788</td>\n",
       "      <td>713</td>\n",
       "      <td>412</td>\n",
       "      <td>3420</td>\n",
       "    </tr>\n",
       "    <tr>\n",
       "      <th>svm_log(TF)_(1, 3)</th>\n",
       "      <td>0.814622</td>\n",
       "      <td>0.780076</td>\n",
       "      <td>0.738904</td>\n",
       "      <td>0.758932</td>\n",
       "      <td>1848</td>\n",
       "      <td>653</td>\n",
       "      <td>521</td>\n",
       "      <td>3311</td>\n",
       "    </tr>\n",
       "    <tr>\n",
       "      <th>svm_log(TF)-IDF_(1, 3)</th>\n",
       "      <td>0.834360</td>\n",
       "      <td>0.800746</td>\n",
       "      <td>0.772891</td>\n",
       "      <td>0.786572</td>\n",
       "      <td>1933</td>\n",
       "      <td>568</td>\n",
       "      <td>481</td>\n",
       "      <td>3351</td>\n",
       "    </tr>\n",
       "    <tr>\n",
       "      <th>svm_TF_(1, 3)_calibrated</th>\n",
       "      <td>0.830728</td>\n",
       "      <td>0.792468</td>\n",
       "      <td>0.774090</td>\n",
       "      <td>0.783172</td>\n",
       "      <td>1936</td>\n",
       "      <td>565</td>\n",
       "      <td>507</td>\n",
       "      <td>3325</td>\n",
       "    </tr>\n",
       "    <tr>\n",
       "      <th>svm_TF-IDF_(1, 3)_calibrated</th>\n",
       "      <td>0.829149</td>\n",
       "      <td>0.794032</td>\n",
       "      <td>0.766094</td>\n",
       "      <td>0.779813</td>\n",
       "      <td>1916</td>\n",
       "      <td>585</td>\n",
       "      <td>497</td>\n",
       "      <td>3335</td>\n",
       "    </tr>\n",
       "    <tr>\n",
       "      <th>svm_log(TF)_(1, 3)_calibrated</th>\n",
       "      <td>0.828833</td>\n",
       "      <td>0.792406</td>\n",
       "      <td>0.767693</td>\n",
       "      <td>0.779854</td>\n",
       "      <td>1920</td>\n",
       "      <td>581</td>\n",
       "      <td>503</td>\n",
       "      <td>3329</td>\n",
       "    </tr>\n",
       "    <tr>\n",
       "      <th>svm_log(TF)-IDF_(1, 3)_calibrated</th>\n",
       "      <td>0.834360</td>\n",
       "      <td>0.797785</td>\n",
       "      <td>0.777689</td>\n",
       "      <td>0.787609</td>\n",
       "      <td>1945</td>\n",
       "      <td>556</td>\n",
       "      <td>493</td>\n",
       "      <td>3339</td>\n",
       "    </tr>\n",
       "    <tr>\n",
       "      <th>logreg_TF_(1, 3)</th>\n",
       "      <td>0.800726</td>\n",
       "      <td>0.814947</td>\n",
       "      <td>0.640944</td>\n",
       "      <td>0.717547</td>\n",
       "      <td>1603</td>\n",
       "      <td>898</td>\n",
       "      <td>364</td>\n",
       "      <td>3468</td>\n",
       "    </tr>\n",
       "    <tr>\n",
       "      <th>logreg_TF-IDF_(1, 3)</th>\n",
       "      <td>0.820780</td>\n",
       "      <td>0.805183</td>\n",
       "      <td>0.720512</td>\n",
       "      <td>0.760498</td>\n",
       "      <td>1802</td>\n",
       "      <td>699</td>\n",
       "      <td>436</td>\n",
       "      <td>3396</td>\n",
       "    </tr>\n",
       "    <tr>\n",
       "      <th>logreg_log(TF)_(1, 3)</th>\n",
       "      <td>0.819675</td>\n",
       "      <td>0.788290</td>\n",
       "      <td>0.742903</td>\n",
       "      <td>0.764924</td>\n",
       "      <td>1858</td>\n",
       "      <td>643</td>\n",
       "      <td>499</td>\n",
       "      <td>3333</td>\n",
       "    </tr>\n",
       "    <tr>\n",
       "      <th>logreg_log(TF)-IDF_(1, 3)</th>\n",
       "      <td>0.823622</td>\n",
       "      <td>0.762918</td>\n",
       "      <td>0.802879</td>\n",
       "      <td>0.782388</td>\n",
       "      <td>2008</td>\n",
       "      <td>493</td>\n",
       "      <td>624</td>\n",
       "      <td>3208</td>\n",
       "    </tr>\n",
       "    <tr>\n",
       "      <th>logreg_TF_(1, 3)_calibrated</th>\n",
       "      <td>0.828517</td>\n",
       "      <td>0.785859</td>\n",
       "      <td>0.777689</td>\n",
       "      <td>0.781752</td>\n",
       "      <td>1945</td>\n",
       "      <td>556</td>\n",
       "      <td>530</td>\n",
       "      <td>3302</td>\n",
       "    </tr>\n",
       "    <tr>\n",
       "      <th>logreg_TF-IDF_(1, 3)_calibrated</th>\n",
       "      <td>0.825201</td>\n",
       "      <td>0.780370</td>\n",
       "      <td>0.775690</td>\n",
       "      <td>0.778023</td>\n",
       "      <td>1940</td>\n",
       "      <td>561</td>\n",
       "      <td>546</td>\n",
       "      <td>3286</td>\n",
       "    </tr>\n",
       "    <tr>\n",
       "      <th>logreg_log(TF)_(1, 3)_calibrated</th>\n",
       "      <td>0.828675</td>\n",
       "      <td>0.786176</td>\n",
       "      <td>0.777689</td>\n",
       "      <td>0.781910</td>\n",
       "      <td>1945</td>\n",
       "      <td>556</td>\n",
       "      <td>529</td>\n",
       "      <td>3303</td>\n",
       "    </tr>\n",
       "    <tr>\n",
       "      <th>logreg_log(TF)-IDF_(1, 3)_calibrated</th>\n",
       "      <td>0.828991</td>\n",
       "      <td>0.784968</td>\n",
       "      <td>0.780888</td>\n",
       "      <td>0.782922</td>\n",
       "      <td>1953</td>\n",
       "      <td>548</td>\n",
       "      <td>535</td>\n",
       "      <td>3297</td>\n",
       "    </tr>\n",
       "    <tr>\n",
       "      <th>perceptron_TF_(1, 3)</th>\n",
       "      <td>0.790463</td>\n",
       "      <td>0.757909</td>\n",
       "      <td>0.689724</td>\n",
       "      <td>0.722211</td>\n",
       "      <td>1725</td>\n",
       "      <td>776</td>\n",
       "      <td>551</td>\n",
       "      <td>3281</td>\n",
       "    </tr>\n",
       "    <tr>\n",
       "      <th>perceptron_TF-IDF_(1, 3)</th>\n",
       "      <td>0.809885</td>\n",
       "      <td>0.771452</td>\n",
       "      <td>0.736905</td>\n",
       "      <td>0.753783</td>\n",
       "      <td>1843</td>\n",
       "      <td>658</td>\n",
       "      <td>546</td>\n",
       "      <td>3286</td>\n",
       "    </tr>\n",
       "    <tr>\n",
       "      <th>perceptron_log(TF)_(1, 3)</th>\n",
       "      <td>0.796621</td>\n",
       "      <td>0.731754</td>\n",
       "      <td>0.765694</td>\n",
       "      <td>0.748339</td>\n",
       "      <td>1915</td>\n",
       "      <td>586</td>\n",
       "      <td>702</td>\n",
       "      <td>3130</td>\n",
       "    </tr>\n",
       "    <tr>\n",
       "      <th>perceptron_log(TF)-IDF_(1, 3)</th>\n",
       "      <td>0.819991</td>\n",
       "      <td>0.764272</td>\n",
       "      <td>0.786885</td>\n",
       "      <td>0.775414</td>\n",
       "      <td>1968</td>\n",
       "      <td>533</td>\n",
       "      <td>607</td>\n",
       "      <td>3225</td>\n",
       "    </tr>\n",
       "    <tr>\n",
       "      <th>perceptron_TF_(1, 3)_calibrated</th>\n",
       "      <td>0.826149</td>\n",
       "      <td>0.786182</td>\n",
       "      <td>0.768892</td>\n",
       "      <td>0.777441</td>\n",
       "      <td>1923</td>\n",
       "      <td>578</td>\n",
       "      <td>523</td>\n",
       "      <td>3309</td>\n",
       "    </tr>\n",
       "    <tr>\n",
       "      <th>perceptron_TF-IDF_(1, 3)_calibrated</th>\n",
       "      <td>0.826622</td>\n",
       "      <td>0.788327</td>\n",
       "      <td>0.766893</td>\n",
       "      <td>0.777463</td>\n",
       "      <td>1918</td>\n",
       "      <td>583</td>\n",
       "      <td>515</td>\n",
       "      <td>3317</td>\n",
       "    </tr>\n",
       "    <tr>\n",
       "      <th>perceptron_log(TF)_(1, 3)_calibrated</th>\n",
       "      <td>0.829149</td>\n",
       "      <td>0.790422</td>\n",
       "      <td>0.772091</td>\n",
       "      <td>0.781149</td>\n",
       "      <td>1931</td>\n",
       "      <td>570</td>\n",
       "      <td>512</td>\n",
       "      <td>3320</td>\n",
       "    </tr>\n",
       "    <tr>\n",
       "      <th>perceptron_log(TF)-IDF_(1, 3)_calibrated</th>\n",
       "      <td>0.829781</td>\n",
       "      <td>0.793644</td>\n",
       "      <td>0.768892</td>\n",
       "      <td>0.781072</td>\n",
       "      <td>1923</td>\n",
       "      <td>578</td>\n",
       "      <td>500</td>\n",
       "      <td>3332</td>\n",
       "    </tr>\n",
       "  </tbody>\n",
       "</table>\n",
       "</div>"
      ],
      "text/plain": [
       "                                          accuracy  precision    recall  \\\n",
       "model                                                                     \n",
       "mnB_TF_(1, 3)                             0.824412   0.802088  0.737305   \n",
       "mnB_TF-IDF_(1, 3)                         0.820306   0.819204  0.699320   \n",
       "mnB_log(TF)_(1, 3)                        0.823938   0.812162  0.720912   \n",
       "mnB_log(TF)-IDF_(1, 3)                    0.819359   0.822328  0.692123   \n",
       "mnB_TF_(1, 3)_calibrated                  0.823622   0.818307  0.711315   \n",
       "mnB_TF-IDF_(1, 3)_calibrated              0.819359   0.828890  0.683727   \n",
       "mnB_log(TF)_(1, 3)_calibrated             0.822043   0.823142  0.699720   \n",
       "mnB_log(TF)-IDF_(1, 3)_calibrated         0.818096   0.829829  0.678529   \n",
       "svm_TF_(1, 3)                             0.814622   0.791648  0.720112   \n",
       "svm_TF-IDF_(1, 3)                         0.822359   0.812727  0.714914   \n",
       "svm_log(TF)_(1, 3)                        0.814622   0.780076  0.738904   \n",
       "svm_log(TF)-IDF_(1, 3)                    0.834360   0.800746  0.772891   \n",
       "svm_TF_(1, 3)_calibrated                  0.830728   0.792468  0.774090   \n",
       "svm_TF-IDF_(1, 3)_calibrated              0.829149   0.794032  0.766094   \n",
       "svm_log(TF)_(1, 3)_calibrated             0.828833   0.792406  0.767693   \n",
       "svm_log(TF)-IDF_(1, 3)_calibrated         0.834360   0.797785  0.777689   \n",
       "logreg_TF_(1, 3)                          0.800726   0.814947  0.640944   \n",
       "logreg_TF-IDF_(1, 3)                      0.820780   0.805183  0.720512   \n",
       "logreg_log(TF)_(1, 3)                     0.819675   0.788290  0.742903   \n",
       "logreg_log(TF)-IDF_(1, 3)                 0.823622   0.762918  0.802879   \n",
       "logreg_TF_(1, 3)_calibrated               0.828517   0.785859  0.777689   \n",
       "logreg_TF-IDF_(1, 3)_calibrated           0.825201   0.780370  0.775690   \n",
       "logreg_log(TF)_(1, 3)_calibrated          0.828675   0.786176  0.777689   \n",
       "logreg_log(TF)-IDF_(1, 3)_calibrated      0.828991   0.784968  0.780888   \n",
       "perceptron_TF_(1, 3)                      0.790463   0.757909  0.689724   \n",
       "perceptron_TF-IDF_(1, 3)                  0.809885   0.771452  0.736905   \n",
       "perceptron_log(TF)_(1, 3)                 0.796621   0.731754  0.765694   \n",
       "perceptron_log(TF)-IDF_(1, 3)             0.819991   0.764272  0.786885   \n",
       "perceptron_TF_(1, 3)_calibrated           0.826149   0.786182  0.768892   \n",
       "perceptron_TF-IDF_(1, 3)_calibrated       0.826622   0.788327  0.766893   \n",
       "perceptron_log(TF)_(1, 3)_calibrated      0.829149   0.790422  0.772091   \n",
       "perceptron_log(TF)-IDF_(1, 3)_calibrated  0.829781   0.793644  0.768892   \n",
       "\n",
       "                                                f1    TP   FN   FP    TN  \n",
       "model                                                                     \n",
       "mnB_TF_(1, 3)                             0.768333  1844  657  455  3377  \n",
       "mnB_TF-IDF_(1, 3)                         0.754530  1749  752  386  3446  \n",
       "mnB_log(TF)_(1, 3)                        0.763821  1803  698  417  3415  \n",
       "mnB_log(TF)-IDF_(1, 3)                    0.751628  1731  770  374  3458  \n",
       "mnB_TF_(1, 3)_calibrated                  0.761070  1779  722  395  3437  \n",
       "mnB_TF-IDF_(1, 3)_calibrated              0.749343  1710  791  353  3479  \n",
       "mnB_log(TF)_(1, 3)_calibrated             0.756430  1750  751  376  3456  \n",
       "mnB_log(TF)-IDF_(1, 3)_calibrated         0.746590  1697  804  348  3484  \n",
       "svm_TF_(1, 3)                             0.754188  1801  700  474  3358  \n",
       "svm_TF-IDF_(1, 3)                         0.760689  1788  713  412  3420  \n",
       "svm_log(TF)_(1, 3)                        0.758932  1848  653  521  3311  \n",
       "svm_log(TF)-IDF_(1, 3)                    0.786572  1933  568  481  3351  \n",
       "svm_TF_(1, 3)_calibrated                  0.783172  1936  565  507  3325  \n",
       "svm_TF-IDF_(1, 3)_calibrated              0.779813  1916  585  497  3335  \n",
       "svm_log(TF)_(1, 3)_calibrated             0.779854  1920  581  503  3329  \n",
       "svm_log(TF)-IDF_(1, 3)_calibrated         0.787609  1945  556  493  3339  \n",
       "logreg_TF_(1, 3)                          0.717547  1603  898  364  3468  \n",
       "logreg_TF-IDF_(1, 3)                      0.760498  1802  699  436  3396  \n",
       "logreg_log(TF)_(1, 3)                     0.764924  1858  643  499  3333  \n",
       "logreg_log(TF)-IDF_(1, 3)                 0.782388  2008  493  624  3208  \n",
       "logreg_TF_(1, 3)_calibrated               0.781752  1945  556  530  3302  \n",
       "logreg_TF-IDF_(1, 3)_calibrated           0.778023  1940  561  546  3286  \n",
       "logreg_log(TF)_(1, 3)_calibrated          0.781910  1945  556  529  3303  \n",
       "logreg_log(TF)-IDF_(1, 3)_calibrated      0.782922  1953  548  535  3297  \n",
       "perceptron_TF_(1, 3)                      0.722211  1725  776  551  3281  \n",
       "perceptron_TF-IDF_(1, 3)                  0.753783  1843  658  546  3286  \n",
       "perceptron_log(TF)_(1, 3)                 0.748339  1915  586  702  3130  \n",
       "perceptron_log(TF)-IDF_(1, 3)             0.775414  1968  533  607  3225  \n",
       "perceptron_TF_(1, 3)_calibrated           0.777441  1923  578  523  3309  \n",
       "perceptron_TF-IDF_(1, 3)_calibrated       0.777463  1918  583  515  3317  \n",
       "perceptron_log(TF)_(1, 3)_calibrated      0.781149  1931  570  512  3320  \n",
       "perceptron_log(TF)-IDF_(1, 3)_calibrated  0.781072  1923  578  500  3332  "
      ]
     },
     "metadata": {},
     "output_type": "display_data"
    }
   ],
   "source": [
    "classification_reports = pd.DataFrame()\n",
    "classification_reports['model'] = model_names\n",
    "for metric in ['accuracy', 'precision', 'recall', 'f1']:\n",
    "    classification_reports[metric] = [metrics_dict[model].loc[metric,'value'] for model in model_names]\n",
    "\n",
    "classification_reports['TP'] = [cm_dict[model].loc['over 100k','over 100k'] for model in model_names]\n",
    "classification_reports['FN'] = [cm_dict[model].loc['over 100k','under 100k'] for model in model_names]\n",
    "classification_reports['FP'] = [cm_dict[model].loc['under 100k','over 100k'] for model in model_names]\n",
    "classification_reports['TN'] = [cm_dict[model].loc['under 100k','under 100k'] for model in model_names]\n",
    "\n",
    "classification_reports.set_index('model', drop=True, inplace=True)\n",
    "display(classification_reports)\n",
    "\n",
    "with open(\"classification_reports.html\", 'w') as save:\n",
    "    save.write(classification_reports.to_html())"
   ]
  },
  {
   "cell_type": "markdown",
   "id": "0b3a40c5-acce-48d0-a899-d42a0002bd72",
   "metadata": {},
   "source": [
    "We find that performing probability calibration did not substantially affect the scores. Multinomial naive Bayes scored the highest among the base models for accuracy, precision and f1, while logistic regression scored highest for recall. The two stacking classifiers did not perform substantially better than multinomial naive Bayes."
   ]
  },
  {
   "cell_type": "markdown",
   "id": "239dddc9-71d7-46df-8b8d-25823d5a2eee",
   "metadata": {},
   "source": [
    "### Threshold dependence: ROC and precision-recall curves\n",
    "\n",
    "The probability-calibrated and stacking classifiers return predictions for probabilities as well as classes, and we can also look at tuning the probability threshold. I'll plot the ROC and precision-recall curves for these eight models."
   ]
  },
  {
   "cell_type": "code",
   "execution_count": 54,
   "id": "9711f333-b451-441e-9674-efe9118a6709",
   "metadata": {},
   "outputs": [],
   "source": [
    "def plot_roc_pr(y_test, y_probas, labels=None, title=None, save=None, save_format=None):\n",
    "    fig, axes = plt.subplots(1,2, figsize=(15, 8))\n",
    "\n",
    "    for i in range(len(y_probas)):\n",
    "        fpr, tpr, _ = roc_curve(y_test, y_probas[i])\n",
    "        roc_auc = auc(fpr, tpr)\n",
    "        precision, recall, _ = precision_recall_curve(y_test, y_probas[i])\n",
    "        pr_auc = auc(recall, precision)\n",
    "\n",
    "        sns.lineplot(x=fpr, y=tpr, ax = axes[0], label=f'{labels[i]}: auc = {roc_auc:.2f}')\n",
    "        sns.lineplot(x=precision, y=recall, ax = axes[1], label=f'{labels[i]}: auc = {pr_auc:.2f}')\n",
    "\n",
    "    axes[0].set_xlabel(\"true positive rate\")\n",
    "    axes[0].set_ylabel(\"false positive rate\")\n",
    "\n",
    "    axes[1].set_xlabel(\"recall\")\n",
    "    axes[1].set_ylabel(\"precision\")\n",
    "\n",
    "    if title != None:\n",
    "        fig.suptitle('ROC and precision-recall for '+title)\n",
    "    plt.tight_layout()\n",
    "    if save != None:\n",
    "        plt.savefig(save, format=save_format)\n",
    "    plt.show()"
   ]
  },
  {
   "cell_type": "code",
   "execution_count": 55,
   "id": "fd488834-f578-465e-9af6-4151988fe1fe",
   "metadata": {},
   "outputs": [
    {
     "data": {
      "image/png": "[encoded data removed]",
      "text/plain": [
       "<Figure size 1500x800 with 2 Axes>"
      ]
     },
     "metadata": {},
     "output_type": "display_data"
    }
   ],
   "source": [
    "labels = ['mnB', 'KNN', 'SVM', 'log_reg', 'perceptron', 'stacking (log reg)', 'stacking (GnB)']\n",
    "\n",
    "plot_roc_pr(y_test, [np.transpose(y_probas)[1] for y_probas in [*list(y_probas_calibrated.values()), *list(y_probas_stacking.values())]], labels, save=\"roc_pr.jpg\", save_format=\"jpg\")\n"
   ]
  },
  {
   "cell_type": "markdown",
   "id": "fafa2a9d-6880-4fc5-8092-e385ebb830c2",
   "metadata": {},
   "source": [
    "## Feature importance\n",
    "\n",
    "The four linear models we have looked at -- linear regression, logistic regression, SVM and perceptron -- provide coefficients that can be used to represent the predicted impact of a token on the view count. Let's get the model coefficients:"
   ]
  },
  {
   "cell_type": "markdown",
   "id": "f69cfde2-b7ba-4473-a4ad-c475ab45f554",
   "metadata": {},
   "source": [
    "Which features have the highest coefficients, i.e. the greatest predictive power according to the linear model? I'll first create a function that converts the co-ordinate index of the input feature vector into the features of the original data, which were the video categories and the n-gram vocabularies of the channel and video titles and video descriptions:"
   ]
  },
  {
   "cell_type": "code",
   "execution_count": null,
   "id": "ccafa3dd-e75d-4b19-a9df-5b4ebcfd6c56",
   "metadata": {},
   "outputs": [],
   "source": [
    "get_feature_by_index(10000)\n",
    "coefs_sorted_indices = np.argsort(ridge_regressor.coef_)\n",
    "coefficients_regressor = []\n",
    "\n",
    "for n in tqdm(range(len(coefs_sorted_indices))):\n",
    "    idx = coefs_sorted_indices[-1-n]\n",
    "    feature = get_feature_by_index(idx)\n",
    "    coefficients_regressor.append({'feature_type': feature['feature_type'], 'feature': feature['feature'], 'coefficient': ridge_regressor.coef_[idx]})\n",
    "\n",
    "pd.set_option('display.max_rows', 200)\n",
    "pd.DataFrame(coefficients_regressor).sort_values('coefficient', ascending=False).head(200)\n",
    "\n",
    "pd.DataFrame(coefficients_regressor).sort_values('coefficient', ascending=True).head(200)"
   ]
  },
  {
   "cell_type": "code",
   "execution_count": null,
   "id": "d6fb07b4-9069-4033-9143-1c3ac1509dbe",
   "metadata": {},
   "outputs": [],
   "source": [
    "vectorizer_vocabularies = {texts: vectorizers[texts].get_feature_names_out() for texts in vectorizers}\n",
    "\n",
    "categories = onehotencoder.categories_[0]\n",
    "N_categories = len(categories)\n",
    "vocab_sizes = {texts: len(vectorizer_vocabularies[texts]) for texts in vectorizer_vocabularies}\n",
    "\n",
    "def get_feature_by_index(idx):\n",
    "    if idx < N_categories:\n",
    "        return {'feature_type': 'video_category', 'feature': categories[idx]}\n",
    "    if idx < N_categories + vocab_sizes['channel_titles']:\n",
    "        word = vectorizer_vocabularies['channel_titles'][idx - N_categories]\n",
    "        return {'feature_type': 'channel_title_n_gram', 'feature': tokenizer_decode(word.split(), 'channel_titles')}\n",
    "    if idx < N_categories + vocab_sizes['channel_titles'] + vocab_sizes['video_titles']:\n",
    "        word = vectorizer_vocabularies['video_titles'][idx - N_categories - vocab_sizes['channel_titles']]\n",
    "        return {'feature_type': 'video_title_n_gram', 'feature': tokenizer_decode(word.split(), 'video_titles')}\n",
    "    else:\n",
    "        word = vectorizer_vocabularies['video_descriptions'][idx - N_categories - vocab_sizes['channel_titles'] - vocab_sizes['video_titles']]\n",
    "        return {'feature_type': 'video_description_n_gram', 'feature': tokenizer_decode(word.split(), 'video_descriptions')}"
   ]
  },
  {
   "cell_type": "code",
   "execution_count": null,
   "id": "f176fa15-c539-42f3-bfc4-29fcb59e5ba7",
   "metadata": {},
   "outputs": [],
   "source": [
    "linear_models_coefs = []\n",
    "\n",
    "linear_models_coefs.append(ridge_regressor.coef_)\n",
    "for model_name in ['SVM', 'log_reg', 'perceptron']:\n",
    "    linear_models_coefs.append(models[model_name].coef_[0])\n",
    "\n",
    "linear_models_coefs = np.array(linear_models_coefs)"
   ]
  },
  {
   "cell_type": "code",
   "execution_count": null,
   "id": "981c961d-f81e-40e1-9afb-a8d0cdcb99a9",
   "metadata": {},
   "outputs": [],
   "source": [
    "def rank_array(values, descending=True):\n",
    "    sorted_indices = np.argsort(values)\n",
    "    if descending:\n",
    "        sorted_indices = [sorted_indices[len(values)-1-idx] for idx in range(len(values))]\n",
    "    ranks = {idx:rank for rank,idx in enumerate(sorted_indices)}\n",
    "    return sorted_indices, ranks "
   ]
  },
  {
   "cell_type": "code",
   "execution_count": null,
   "id": "e1f24b45-0103-42c7-a158-377397ebd0d3",
   "metadata": {},
   "outputs": [],
   "source": [
    "ranks_list = []\n",
    "\n",
    "for i in range(4):\n",
    "    _, ranks = rank_array(linear_models_coefs[i])\n",
    "    ranks_list.append(ranks)"
   ]
  },
  {
   "cell_type": "code",
   "execution_count": null,
   "id": "b413e700-9183-44c5-840b-fc8ffe04d729",
   "metadata": {},
   "outputs": [],
   "source": [
    "feature_ranks = []\n",
    "\n",
    "for idx in tqdm(range(len(linear_models_coefs[0]))):\n",
    "    feature = get_feature_by_index(idx)\n",
    "    feature_ranks.append({'feature_type': feature['feature_type'], 'feature': feature['feature'], 'rank (lin reg)': ranks_list[0][idx], 'rank (SVM)': ranks_list[1][idx], 'rank (log reg)': ranks_list[2][idx], 'rank (perceptron)': ranks_list[3][idx]})"
   ]
  },
  {
   "cell_type": "code",
   "execution_count": null,
   "id": "8cfd6d24-667a-4e6b-83cb-cd03f63f45a9",
   "metadata": {
    "scrolled": true
   },
   "outputs": [],
   "source": [
    "feature_ranks = pd.DataFrame(feature_ranks).sort_values('rank (lin reg)')\n",
    "feature_ranks.head(200)"
   ]
  },
  {
   "cell_type": "markdown",
   "id": "90b79ab0-9e9c-4f9a-af55-4f115326636a",
   "metadata": {},
   "source": [
    "The accuracy of the models makes any interpretation of the feature rankings difficult. What's worse, the linear classifiers disagree substantially, despite having similar accuracies."
   ]
  },
  {
   "cell_type": "code",
   "execution_count": null,
   "id": "b808a9c0-ceba-49ba-b746-4b36aff958bc",
   "metadata": {},
   "outputs": [],
   "source": []
  }
 ],
 "metadata": {
  "kernelspec": {
   "display_name": "Python 3 (ipykernel)",
   "language": "python",
   "name": "python3"
  },
  "language_info": {
   "codemirror_mode": {
    "name": "ipython",
    "version": 3
   },
   "file_extension": ".py",
   "mimetype": "text/x-python",
   "name": "python",
   "nbconvert_exporter": "python",
   "pygments_lexer": "ipython3",
   "version": "3.12.3"
  }
 },
 "nbformat": 4,
 "nbformat_minor": 5
}
