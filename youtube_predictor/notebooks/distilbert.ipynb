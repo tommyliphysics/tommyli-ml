{
  "cells": [
    {
      "cell_type": "markdown",
      "metadata": {
        "id": "SEkwAn2Z72uV"
      },
      "source": [
        "# Predicting YouTube views: Large-language models"
      ]
    },
    {
      "cell_type": "code",
      "execution_count": null,
      "metadata": {
        "execution": {
          "iopub.execute_input": "2024-05-29T05:51:52.566685Z",
          "iopub.status.busy": "2024-05-29T05:51:52.566260Z",
          "iopub.status.idle": "2024-05-29T05:51:52.571804Z",
          "shell.execute_reply": "2024-05-29T05:51:52.570851Z",
          "shell.execute_reply.started": "2024-05-29T05:51:52.566641Z"
        },
        "id": "GlTdHhFXAjSb"
      },
      "outputs": [],
      "source": [
        "#pip install --upgrade transformers"
      ]
    },
    {
      "cell_type": "code",
      "execution_count": 1,
      "metadata": {
        "execution": {
          "iopub.execute_input": "2024-05-29T11:59:46.987015Z",
          "iopub.status.busy": "2024-05-29T11:59:46.986263Z",
          "iopub.status.idle": "2024-05-29T11:59:46.992278Z",
          "shell.execute_reply": "2024-05-29T11:59:46.991152Z",
          "shell.execute_reply.started": "2024-05-29T11:59:46.986983Z"
        },
        "id": "09j039QIAdH_"
      },
      "outputs": [],
      "source": [
        "#!pip install tf-keras\n",
        "import os\n",
        "os.environ['TF_USE_LEGACY_KERAS'] = '1'"
      ]
    },
    {
      "cell_type": "code",
      "execution_count": 2,
      "metadata": {
        "colab": {
          "base_uri": "https://localhost:8080/",
          "height": 424
        },
        "execution": {
          "iopub.execute_input": "2024-05-29T11:59:17.705651Z",
          "iopub.status.busy": "2024-05-29T11:59:17.705363Z",
          "iopub.status.idle": "2024-05-29T11:59:20.161119Z",
          "shell.execute_reply": "2024-05-29T11:59:20.160028Z",
          "shell.execute_reply.started": "2024-05-29T11:59:17.705627Z"
        },
        "id": "bX329L86_lXR",
        "outputId": "1b99732f-bd03-48dd-e59e-c37c1a7cb2e5"
      },
      "outputs": [
        {
          "output_type": "execute_result",
          "data": {
            "text/plain": [
              "             channel_title  video_category  \\\n",
              "0                   BKTVOK              22   \n",
              "1                 Rockit14              20   \n",
              "2        MAD ABOUT SCIENCE              22   \n",
              "3                   BKTVOK              22   \n",
              "4               HVTraining              17   \n",
              "...                    ...             ...   \n",
              "25323              Khanish              22   \n",
              "25324  TungaloyCorporation              28   \n",
              "25325            Sansad TV              25   \n",
              "25326       The Truth Show              27   \n",
              "25327           GOLDEN OAK              27   \n",
              "\n",
              "                                             video_title  \\\n",
              "0      BAWAR KHAN  SON MUHAMMAD Khan Short video YouT...   \n",
              "1        Add realistic waves to Minecraft! (Physics Mod)   \n",
              "2                    The Stirling Engine at my Institute   \n",
              "3      Shergarh Bazar video YouTube amazing viralvide...   \n",
              "4      Cycling Tips: The science of electrolytes and ...   \n",
              "...                                                  ...   \n",
              "25323            Friction welding #tools #science #viral   \n",
              "25324  We made a smile with high feed machining!  #cn...   \n",
              "25325                       Science Monitor | 14.08.2021   \n",
              "25326  Trick for Reactivity Series of Metals #shorts ...   \n",
              "25327  How Good to Great Companies Use Technology to ...   \n",
              "\n",
              "                                       video_description  months  \\\n",
              "0      Bawarkhan SON MUHAMMAD khan \\nAmazing Videos\\n...      19   \n",
              "1      Play Minecraft with realistic physics! This mi...      11   \n",
              "2      Very close to Carnot Engine\\n\\n    This one is...      50   \n",
              "3      Shergarh Bazar video YouTube amazing viralvide...      21   \n",
              "4      Looking for a proven training plan? \\nhttps://...      72   \n",
              "...                                                  ...     ...   \n",
              "25323  Friction welding is a solid-state welding proc...      57   \n",
              "25324  Product : AddDoFeed\\nShank : VSSD08L090S05-C\\n...       2   \n",
              "25325  1.HUMAN-BASED MODELS TO STUDY NEURODEVELOPMENT...      32   \n",
              "25326  Join our Telegram Group ATP STAR JEE/NEET 2024...      18   \n",
              "25327                                                NaN       2   \n",
              "\n",
              "       video_view_count  label  \n",
              "0              1.982271      0  \n",
              "1              5.338389      1  \n",
              "2              5.685385      1  \n",
              "3              2.287802      0  \n",
              "4              3.307282      0  \n",
              "...                 ...    ...  \n",
              "25323          3.766115      0  \n",
              "25324          5.627098      1  \n",
              "25325          4.421341      0  \n",
              "25326          6.748217      1  \n",
              "25327          0.000000      0  \n",
              "\n",
              "[25328 rows x 7 columns]"
            ],
            "text/html": [
              "\n",
              "  <div id=\"df-f0655c2d-a172-4880-a533-b971d3b90ba1\" class=\"colab-df-container\">\n",
              "    <div>\n",
              "<style scoped>\n",
              "    .dataframe tbody tr th:only-of-type {\n",
              "        vertical-align: middle;\n",
              "    }\n",
              "\n",
              "    .dataframe tbody tr th {\n",
              "        vertical-align: top;\n",
              "    }\n",
              "\n",
              "    .dataframe thead th {\n",
              "        text-align: right;\n",
              "    }\n",
              "</style>\n",
              "<table border=\"1\" class=\"dataframe\">\n",
              "  <thead>\n",
              "    <tr style=\"text-align: right;\">\n",
              "      <th></th>\n",
              "      <th>channel_title</th>\n",
              "      <th>video_category</th>\n",
              "      <th>video_title</th>\n",
              "      <th>video_description</th>\n",
              "      <th>months</th>\n",
              "      <th>video_view_count</th>\n",
              "      <th>label</th>\n",
              "    </tr>\n",
              "  </thead>\n",
              "  <tbody>\n",
              "    <tr>\n",
              "      <th>0</th>\n",
              "      <td>BKTVOK</td>\n",
              "      <td>22</td>\n",
              "      <td>BAWAR KHAN  SON MUHAMMAD Khan Short video YouT...</td>\n",
              "      <td>Bawarkhan SON MUHAMMAD khan \\nAmazing Videos\\n...</td>\n",
              "      <td>19</td>\n",
              "      <td>1.982271</td>\n",
              "      <td>0</td>\n",
              "    </tr>\n",
              "    <tr>\n",
              "      <th>1</th>\n",
              "      <td>Rockit14</td>\n",
              "      <td>20</td>\n",
              "      <td>Add realistic waves to Minecraft! (Physics Mod)</td>\n",
              "      <td>Play Minecraft with realistic physics! This mi...</td>\n",
              "      <td>11</td>\n",
              "      <td>5.338389</td>\n",
              "      <td>1</td>\n",
              "    </tr>\n",
              "    <tr>\n",
              "      <th>2</th>\n",
              "      <td>MAD ABOUT SCIENCE</td>\n",
              "      <td>22</td>\n",
              "      <td>The Stirling Engine at my Institute</td>\n",
              "      <td>Very close to Carnot Engine\\n\\n    This one is...</td>\n",
              "      <td>50</td>\n",
              "      <td>5.685385</td>\n",
              "      <td>1</td>\n",
              "    </tr>\n",
              "    <tr>\n",
              "      <th>3</th>\n",
              "      <td>BKTVOK</td>\n",
              "      <td>22</td>\n",
              "      <td>Shergarh Bazar video YouTube amazing viralvide...</td>\n",
              "      <td>Shergarh Bazar video YouTube amazing viralvide...</td>\n",
              "      <td>21</td>\n",
              "      <td>2.287802</td>\n",
              "      <td>0</td>\n",
              "    </tr>\n",
              "    <tr>\n",
              "      <th>4</th>\n",
              "      <td>HVTraining</td>\n",
              "      <td>17</td>\n",
              "      <td>Cycling Tips: The science of electrolytes and ...</td>\n",
              "      <td>Looking for a proven training plan? \\nhttps://...</td>\n",
              "      <td>72</td>\n",
              "      <td>3.307282</td>\n",
              "      <td>0</td>\n",
              "    </tr>\n",
              "    <tr>\n",
              "      <th>...</th>\n",
              "      <td>...</td>\n",
              "      <td>...</td>\n",
              "      <td>...</td>\n",
              "      <td>...</td>\n",
              "      <td>...</td>\n",
              "      <td>...</td>\n",
              "      <td>...</td>\n",
              "    </tr>\n",
              "    <tr>\n",
              "      <th>25323</th>\n",
              "      <td>Khanish</td>\n",
              "      <td>22</td>\n",
              "      <td>Friction welding #tools #science #viral</td>\n",
              "      <td>Friction welding is a solid-state welding proc...</td>\n",
              "      <td>57</td>\n",
              "      <td>3.766115</td>\n",
              "      <td>0</td>\n",
              "    </tr>\n",
              "    <tr>\n",
              "      <th>25324</th>\n",
              "      <td>TungaloyCorporation</td>\n",
              "      <td>28</td>\n",
              "      <td>We made a smile with high feed machining!  #cn...</td>\n",
              "      <td>Product : AddDoFeed\\nShank : VSSD08L090S05-C\\n...</td>\n",
              "      <td>2</td>\n",
              "      <td>5.627098</td>\n",
              "      <td>1</td>\n",
              "    </tr>\n",
              "    <tr>\n",
              "      <th>25325</th>\n",
              "      <td>Sansad TV</td>\n",
              "      <td>25</td>\n",
              "      <td>Science Monitor | 14.08.2021</td>\n",
              "      <td>1.HUMAN-BASED MODELS TO STUDY NEURODEVELOPMENT...</td>\n",
              "      <td>32</td>\n",
              "      <td>4.421341</td>\n",
              "      <td>0</td>\n",
              "    </tr>\n",
              "    <tr>\n",
              "      <th>25326</th>\n",
              "      <td>The Truth Show</td>\n",
              "      <td>27</td>\n",
              "      <td>Trick for Reactivity Series of Metals #shorts ...</td>\n",
              "      <td>Join our Telegram Group ATP STAR JEE/NEET 2024...</td>\n",
              "      <td>18</td>\n",
              "      <td>6.748217</td>\n",
              "      <td>1</td>\n",
              "    </tr>\n",
              "    <tr>\n",
              "      <th>25327</th>\n",
              "      <td>GOLDEN OAK</td>\n",
              "      <td>27</td>\n",
              "      <td>How Good to Great Companies Use Technology to ...</td>\n",
              "      <td>NaN</td>\n",
              "      <td>2</td>\n",
              "      <td>0.000000</td>\n",
              "      <td>0</td>\n",
              "    </tr>\n",
              "  </tbody>\n",
              "</table>\n",
              "<p>25328 rows × 7 columns</p>\n",
              "</div>\n",
              "    <div class=\"colab-df-buttons\">\n",
              "\n",
              "  <div class=\"colab-df-container\">\n",
              "    <button class=\"colab-df-convert\" onclick=\"convertToInteractive('df-f0655c2d-a172-4880-a533-b971d3b90ba1')\"\n",
              "            title=\"Convert this dataframe to an interactive table.\"\n",
              "            style=\"display:none;\">\n",
              "\n",
              "  <svg xmlns=\"http://www.w3.org/2000/svg\" height=\"24px\" viewBox=\"0 -960 960 960\">\n",
              "    <path d=\"M120-120v-720h720v720H120Zm60-500h600v-160H180v160Zm220 220h160v-160H400v160Zm0 220h160v-160H400v160ZM180-400h160v-160H180v160Zm440 0h160v-160H620v160ZM180-180h160v-160H180v160Zm440 0h160v-160H620v160Z\"/>\n",
              "  </svg>\n",
              "    </button>\n",
              "\n",
              "  <style>\n",
              "    .colab-df-container {\n",
              "      display:flex;\n",
              "      gap: 12px;\n",
              "    }\n",
              "\n",
              "    .colab-df-convert {\n",
              "      background-color: #E8F0FE;\n",
              "      border: none;\n",
              "      border-radius: 50%;\n",
              "      cursor: pointer;\n",
              "      display: none;\n",
              "      fill: #1967D2;\n",
              "      height: 32px;\n",
              "      padding: 0 0 0 0;\n",
              "      width: 32px;\n",
              "    }\n",
              "\n",
              "    .colab-df-convert:hover {\n",
              "      background-color: #E2EBFA;\n",
              "      box-shadow: 0px 1px 2px rgba(60, 64, 67, 0.3), 0px 1px 3px 1px rgba(60, 64, 67, 0.15);\n",
              "      fill: #174EA6;\n",
              "    }\n",
              "\n",
              "    .colab-df-buttons div {\n",
              "      margin-bottom: 4px;\n",
              "    }\n",
              "\n",
              "    [theme=dark] .colab-df-convert {\n",
              "      background-color: #3B4455;\n",
              "      fill: #D2E3FC;\n",
              "    }\n",
              "\n",
              "    [theme=dark] .colab-df-convert:hover {\n",
              "      background-color: #434B5C;\n",
              "      box-shadow: 0px 1px 3px 1px rgba(0, 0, 0, 0.15);\n",
              "      filter: drop-shadow(0px 1px 2px rgba(0, 0, 0, 0.3));\n",
              "      fill: #FFFFFF;\n",
              "    }\n",
              "  </style>\n",
              "\n",
              "    <script>\n",
              "      const buttonEl =\n",
              "        document.querySelector('#df-f0655c2d-a172-4880-a533-b971d3b90ba1 button.colab-df-convert');\n",
              "      buttonEl.style.display =\n",
              "        google.colab.kernel.accessAllowed ? 'block' : 'none';\n",
              "\n",
              "      async function convertToInteractive(key) {\n",
              "        const element = document.querySelector('#df-f0655c2d-a172-4880-a533-b971d3b90ba1');\n",
              "        const dataTable =\n",
              "          await google.colab.kernel.invokeFunction('convertToInteractive',\n",
              "                                                    [key], {});\n",
              "        if (!dataTable) return;\n",
              "\n",
              "        const docLinkHtml = 'Like what you see? Visit the ' +\n",
              "          '<a target=\"_blank\" href=https://colab.research.google.com/notebooks/data_table.ipynb>data table notebook</a>'\n",
              "          + ' to learn more about interactive tables.';\n",
              "        element.innerHTML = '';\n",
              "        dataTable['output_type'] = 'display_data';\n",
              "        await google.colab.output.renderOutput(dataTable, element);\n",
              "        const docLink = document.createElement('div');\n",
              "        docLink.innerHTML = docLinkHtml;\n",
              "        element.appendChild(docLink);\n",
              "      }\n",
              "    </script>\n",
              "  </div>\n",
              "\n",
              "\n",
              "<div id=\"df-9dcde0ff-0a4e-405a-bb6b-066d72ea3732\">\n",
              "  <button class=\"colab-df-quickchart\" onclick=\"quickchart('df-9dcde0ff-0a4e-405a-bb6b-066d72ea3732')\"\n",
              "            title=\"Suggest charts\"\n",
              "            style=\"display:none;\">\n",
              "\n",
              "<svg xmlns=\"http://www.w3.org/2000/svg\" height=\"24px\"viewBox=\"0 0 24 24\"\n",
              "     width=\"24px\">\n",
              "    <g>\n",
              "        <path d=\"M19 3H5c-1.1 0-2 .9-2 2v14c0 1.1.9 2 2 2h14c1.1 0 2-.9 2-2V5c0-1.1-.9-2-2-2zM9 17H7v-7h2v7zm4 0h-2V7h2v10zm4 0h-2v-4h2v4z\"/>\n",
              "    </g>\n",
              "</svg>\n",
              "  </button>\n",
              "\n",
              "<style>\n",
              "  .colab-df-quickchart {\n",
              "      --bg-color: #E8F0FE;\n",
              "      --fill-color: #1967D2;\n",
              "      --hover-bg-color: #E2EBFA;\n",
              "      --hover-fill-color: #174EA6;\n",
              "      --disabled-fill-color: #AAA;\n",
              "      --disabled-bg-color: #DDD;\n",
              "  }\n",
              "\n",
              "  [theme=dark] .colab-df-quickchart {\n",
              "      --bg-color: #3B4455;\n",
              "      --fill-color: #D2E3FC;\n",
              "      --hover-bg-color: #434B5C;\n",
              "      --hover-fill-color: #FFFFFF;\n",
              "      --disabled-bg-color: #3B4455;\n",
              "      --disabled-fill-color: #666;\n",
              "  }\n",
              "\n",
              "  .colab-df-quickchart {\n",
              "    background-color: var(--bg-color);\n",
              "    border: none;\n",
              "    border-radius: 50%;\n",
              "    cursor: pointer;\n",
              "    display: none;\n",
              "    fill: var(--fill-color);\n",
              "    height: 32px;\n",
              "    padding: 0;\n",
              "    width: 32px;\n",
              "  }\n",
              "\n",
              "  .colab-df-quickchart:hover {\n",
              "    background-color: var(--hover-bg-color);\n",
              "    box-shadow: 0 1px 2px rgba(60, 64, 67, 0.3), 0 1px 3px 1px rgba(60, 64, 67, 0.15);\n",
              "    fill: var(--button-hover-fill-color);\n",
              "  }\n",
              "\n",
              "  .colab-df-quickchart-complete:disabled,\n",
              "  .colab-df-quickchart-complete:disabled:hover {\n",
              "    background-color: var(--disabled-bg-color);\n",
              "    fill: var(--disabled-fill-color);\n",
              "    box-shadow: none;\n",
              "  }\n",
              "\n",
              "  .colab-df-spinner {\n",
              "    border: 2px solid var(--fill-color);\n",
              "    border-color: transparent;\n",
              "    border-bottom-color: var(--fill-color);\n",
              "    animation:\n",
              "      spin 1s steps(1) infinite;\n",
              "  }\n",
              "\n",
              "  @keyframes spin {\n",
              "    0% {\n",
              "      border-color: transparent;\n",
              "      border-bottom-color: var(--fill-color);\n",
              "      border-left-color: var(--fill-color);\n",
              "    }\n",
              "    20% {\n",
              "      border-color: transparent;\n",
              "      border-left-color: var(--fill-color);\n",
              "      border-top-color: var(--fill-color);\n",
              "    }\n",
              "    30% {\n",
              "      border-color: transparent;\n",
              "      border-left-color: var(--fill-color);\n",
              "      border-top-color: var(--fill-color);\n",
              "      border-right-color: var(--fill-color);\n",
              "    }\n",
              "    40% {\n",
              "      border-color: transparent;\n",
              "      border-right-color: var(--fill-color);\n",
              "      border-top-color: var(--fill-color);\n",
              "    }\n",
              "    60% {\n",
              "      border-color: transparent;\n",
              "      border-right-color: var(--fill-color);\n",
              "    }\n",
              "    80% {\n",
              "      border-color: transparent;\n",
              "      border-right-color: var(--fill-color);\n",
              "      border-bottom-color: var(--fill-color);\n",
              "    }\n",
              "    90% {\n",
              "      border-color: transparent;\n",
              "      border-bottom-color: var(--fill-color);\n",
              "    }\n",
              "  }\n",
              "</style>\n",
              "\n",
              "  <script>\n",
              "    async function quickchart(key) {\n",
              "      const quickchartButtonEl =\n",
              "        document.querySelector('#' + key + ' button');\n",
              "      quickchartButtonEl.disabled = true;  // To prevent multiple clicks.\n",
              "      quickchartButtonEl.classList.add('colab-df-spinner');\n",
              "      try {\n",
              "        const charts = await google.colab.kernel.invokeFunction(\n",
              "            'suggestCharts', [key], {});\n",
              "      } catch (error) {\n",
              "        console.error('Error during call to suggestCharts:', error);\n",
              "      }\n",
              "      quickchartButtonEl.classList.remove('colab-df-spinner');\n",
              "      quickchartButtonEl.classList.add('colab-df-quickchart-complete');\n",
              "    }\n",
              "    (() => {\n",
              "      let quickchartButtonEl =\n",
              "        document.querySelector('#df-9dcde0ff-0a4e-405a-bb6b-066d72ea3732 button');\n",
              "      quickchartButtonEl.style.display =\n",
              "        google.colab.kernel.accessAllowed ? 'block' : 'none';\n",
              "    })();\n",
              "  </script>\n",
              "</div>\n",
              "\n",
              "  <div id=\"id_68c2474c-258d-4191-8206-174092c5629f\">\n",
              "    <style>\n",
              "      .colab-df-generate {\n",
              "        background-color: #E8F0FE;\n",
              "        border: none;\n",
              "        border-radius: 50%;\n",
              "        cursor: pointer;\n",
              "        display: none;\n",
              "        fill: #1967D2;\n",
              "        height: 32px;\n",
              "        padding: 0 0 0 0;\n",
              "        width: 32px;\n",
              "      }\n",
              "\n",
              "      .colab-df-generate:hover {\n",
              "        background-color: #E2EBFA;\n",
              "        box-shadow: 0px 1px 2px rgba(60, 64, 67, 0.3), 0px 1px 3px 1px rgba(60, 64, 67, 0.15);\n",
              "        fill: #174EA6;\n",
              "      }\n",
              "\n",
              "      [theme=dark] .colab-df-generate {\n",
              "        background-color: #3B4455;\n",
              "        fill: #D2E3FC;\n",
              "      }\n",
              "\n",
              "      [theme=dark] .colab-df-generate:hover {\n",
              "        background-color: #434B5C;\n",
              "        box-shadow: 0px 1px 3px 1px rgba(0, 0, 0, 0.15);\n",
              "        filter: drop-shadow(0px 1px 2px rgba(0, 0, 0, 0.3));\n",
              "        fill: #FFFFFF;\n",
              "      }\n",
              "    </style>\n",
              "    <button class=\"colab-df-generate\" onclick=\"generateWithVariable('samples')\"\n",
              "            title=\"Generate code using this dataframe.\"\n",
              "            style=\"display:none;\">\n",
              "\n",
              "  <svg xmlns=\"http://www.w3.org/2000/svg\" height=\"24px\"viewBox=\"0 0 24 24\"\n",
              "       width=\"24px\">\n",
              "    <path d=\"M7,19H8.4L18.45,9,17,7.55,7,17.6ZM5,21V16.75L18.45,3.32a2,2,0,0,1,2.83,0l1.4,1.43a1.91,1.91,0,0,1,.58,1.4,1.91,1.91,0,0,1-.58,1.4L9.25,21ZM18.45,9,17,7.55Zm-12,3A5.31,5.31,0,0,0,4.9,8.1,5.31,5.31,0,0,0,1,6.5,5.31,5.31,0,0,0,4.9,4.9,5.31,5.31,0,0,0,6.5,1,5.31,5.31,0,0,0,8.1,4.9,5.31,5.31,0,0,0,12,6.5,5.46,5.46,0,0,0,6.5,12Z\"/>\n",
              "  </svg>\n",
              "    </button>\n",
              "    <script>\n",
              "      (() => {\n",
              "      const buttonEl =\n",
              "        document.querySelector('#id_68c2474c-258d-4191-8206-174092c5629f button.colab-df-generate');\n",
              "      buttonEl.style.display =\n",
              "        google.colab.kernel.accessAllowed ? 'block' : 'none';\n",
              "\n",
              "      buttonEl.onclick = () => {\n",
              "        google.colab.notebook.generateWithVariable('samples');\n",
              "      }\n",
              "      })();\n",
              "    </script>\n",
              "  </div>\n",
              "\n",
              "    </div>\n",
              "  </div>\n"
            ],
            "application/vnd.google.colaboratory.intrinsic+json": {
              "type": "dataframe",
              "variable_name": "samples",
              "summary": "{\n  \"name\": \"samples\",\n  \"rows\": 25328,\n  \"fields\": [\n    {\n      \"column\": \"channel_title\",\n      \"properties\": {\n        \"dtype\": \"category\",\n        \"num_unique_values\": 11677,\n        \"samples\": [\n          \"hylite - Topic\",\n          \"Science Revision Channel\",\n          \"vlogeraman2580\"\n        ],\n        \"semantic_type\": \"\",\n        \"description\": \"\"\n      }\n    },\n    {\n      \"column\": \"video_category\",\n      \"properties\": {\n        \"dtype\": \"number\",\n        \"std\": 4,\n        \"min\": 1,\n        \"max\": 29,\n        \"num_unique_values\": 15,\n        \"samples\": [\n          26,\n          19,\n          22\n        ],\n        \"semantic_type\": \"\",\n        \"description\": \"\"\n      }\n    },\n    {\n      \"column\": \"video_title\",\n      \"properties\": {\n        \"dtype\": \"string\",\n        \"num_unique_values\": 25046,\n        \"samples\": [\n          \"The Sounds of Science at the College of Veterinary Medicine and Biomedical Sciences\",\n          \"Telekinesis or Opposites Attract? | Impossible Science At Home\",\n          \"Science experiment kit unboxing | Experiment kit unboxing and price\"\n        ],\n        \"semantic_type\": \"\",\n        \"description\": \"\"\n      }\n    },\n    {\n      \"column\": \"video_description\",\n      \"properties\": {\n        \"dtype\": \"string\",\n        \"num_unique_values\": 20251,\n        \"samples\": [\n          \"Share where you're viewing the film from, how grounding (earthing) has helped you, and/or any questions in the comments below. Learn more at https://earthing.com. Connect with us on Facebook: https://www.facebook.com/earthing.com and Instagram: https://instagram.com/earthing. (use the hashtag #earthingmovie)\\n\\nYou can also Watch the Earthing Movie on...\\nAmazon Prime Video:\\nhttp://bit.ly/earthingmovie\\n\\nVimeo:\\nhttps://bit.ly/EarthingMovieVimeo\\n\\n\\\"The Earthing Movie: The Remarkable Science of Grounding\\\" is directed by Sundance Award-Winning filmmakers Josh and Rebecca Tickell (The Big Fix, FUEL, etc). This is a feature-length documentary based on their viral short film entitled 'Down To Earth,' that reveals the scientific phenomenon of how we can heal our bodies by doing the simplest thing that a person can do\\u2026standing barefoot on the earth. \\n\\nThe winner of the Audience Award for Best Documentary at Dances With Films Festival, the film shares the Tickell family's journey with the healing power of grounding, aka earthing, and the people they met and learned from along the way; featuring grounding pioneer Clint Ober, author Deepak Chopra M.D., actress/activist Amy Smart, author/activist Mariel Hemingway, cardiologist Dr. Stephen Sinatra, renowned healer Dr Joseph Mercola, engineer and physicist Gaetan Chevalier, PhD. and many others. \\n\\nOver 20 peer-reviewed studies have shown that Grounding (Earthing) reduces inflammation...one of the most damaging internal biological processes that leads to chronic disease. So get out there and put your feet on the ground, and/or increase your grounding time indoors with grounding products. Your body and mind will thank you! Read up on all the studies and research at https://earthinginstitute.net\\n\\nWatch this Q&A with Mother and Filmmaker Rebecca Tickell as she shares her family's healing grounding experience, which ultimately led to the film being made: \\nhttps://www.facebook.com/watch/?v=1127814074063941\\n\\nJoin the movement: \\nhttps://earthing.com \\n\\nStay connected with us on Instagram: https://www.instagram.com/earthing and Facebook: https://facebook.com/earthing.com\\n\\nFor more information on utilizing safe products to ground yourself indoors go to: https://earthing.com\\n\\nTo learn more about the science, research, and health benefits of grounding, go to: https://earthinginstitute.net/research \\n\\n----\\nOfficial links:\\nhttps://earthing.com \\nhttps://facebook.com/earthing.com\\nhttps://instagram.com/earthing\\nhttp://bit.ly/earthingmovie\\nhttps://bit.ly/EarthingMovieYouTube\\n\\n---\\nProduced by Big Picture Ranch: https://bigpictureranch.com\",\n          \"\\u092a\\u094d\\u0930\\u0915\\u093e\\u0936 \\u0938\\u0902\\u0936\\u094d\\u0932\\u0947\\u0937\\u0923 | Photosynthesis |\\u091c\\u0940\\u0935 \\u0935\\u093f\\u091c\\u094d\\u091e\\u093e\\u0928 |Biology |Science, chlorophyll,photo synthesis process,biology questions for railway exams,plant tissue, Xylam, phloyam, tissue, chlorophyll, Corban di oxide\\n\\n\\u2714\\ufe0f \\u091c\\u0940\\u0935 \\u0935\\u093f\\u091c\\u094d\\u091e\\u093e\\u0928\\u3010Biology\\u3011: https://www.youtube.com/playlist?list=PL2Pb6OtEXTfhgXhrVYkejbhqbl3wj7bcl\\n\\n\\ud83d\\udd25 \\u0906\\u0935\\u0930\\u094d\\u0924 \\u0938\\u093e\\u0930\\u0923\\u0940 || Full Concept ||\\ud83d\\udd25 :- \\nhttps://youtu.be/bKD7_8Ic9kc\\n\\n\\u2714\\ufe0f Monthly Current Affairs\\u30102017\\u3011\\ud83d\\udd25: https://www.youtube.com/playlist?list=PL2Pb6OtEXTfiH6GM2ABnQaG27s3LCuTOU\\n\\n\\u2714\\ufe0f Monthly Current Affairs\\u30102018\\u3011\\ud83d\\udd25: https://www.youtube.com/playlist?list=PL2Pb6OtEXTfgWXx5kqjQL9-N7pjl_1k_p\\n\\n\\u2714\\ufe0f [T_E_L_E_G_R_A_M] GROUP:- \\nhttps://t.me/Mishrajitechnicalofficial\\n\\n\\u2714\\ufe0f \\u090f\\u0936\\u093f\\u092f\\u0928 \\u0917\\u0947\\u092e\\u094d\\u0938 2018\\nhttps://youtu.be/2fhIgNiQ2ps\\n\\n\\u2714\\ufe0f\\u0935\\u093f\\u091f\\u093e\\u092e\\u093f\\u0928 \\u0915\\u0947 \\u0930\\u093e\\u0938\\u093e\\u092f\\u0928\\u093f\\u0915 \\u0928\\u093e\\u092e :-\\nhttps://youtu.be/CSISm7Ryf9E\\n\\n\\u2714\\ufe0f\\u0935\\u093f\\u091f\\u093e\\u092e\\u093f\\u0928 \\u0915\\u0940 \\u0915\\u092e\\u0940 \\u0938\\u0947 \\u0930\\u094b\\u0917 :-\\nhttps://youtu.be/2wcgWWdBpbQ\\n\\n\\u2714\\ufe0f\\u0906\\u0935\\u0930\\u094d\\u0924 \\u0938\\u093e\\u0930\\u0923\\u0940 :-\\nhttps://youtu.be/2wVaGgOGn8s\\n\\n\\u0914\\u0930 \\u0905\\u0927\\u093f\\u0915 Videos \\u0915\\u0947 \\u0932\\u093f\\u090f \\u0928\\u0940\\u091a\\u0947 \\u0926\\u0940 \\u0917\\u092f\\u0940 playlist \\u092a\\u0930 \\u0915\\u094d\\u0932\\u093f\\u0915 \\u0915\\u0930\\u0947\\u0902\\u0964\\n\\n\\u25cf \\u0930\\u0947\\u0932\\u0935\\u0947 ALP & \\u0917\\u094d\\u0930\\u0941\\u092a - D:\\nhttps://www.youtube.com/playlist?list=PL2Pb6OtEXTfjweh6LPsQQJgcqtuMXdzpn\\n\\n\\u25cf GA/GS/\\u0907\\u0924\\u093f\\u0939\\u093e\\u0938:\\nhttps://www.youtube.com/playlist?list=PL2Pb6OtEXTfgIU83K5bxC4j3IFaEtBvtg\\n\\n\\u25cf RESONING And MATH:\\nhttps://www.youtube.com/playlist?list=PL2Pb6OtEXTfi4qQwRl2BKsFY8J0pryyuy\\n\\n\\u25cf\\u092b\\u091f\\u093e\\u092b\\u091f \\u0924\\u0948\\u092f\\u093e\\u0930\\u0940:\\nhttps://www.youtube.com/playlist?list=PL2Pb6OtEXTfjeSZ2DI3D6nUFxYdXltacy\\n\\n\\u25cf Apps and Gudgets Review:\\nhttps://www.youtube.com/playlist?list=PL2Pb6OtEXTfiMorjSPc4ZjaJDC-aZ4ZMh\\n_____________________________________________\\n_____________________________________________\\n\\n\\u0906\\u092a \\u0939\\u092e\\u093e\\u0930\\u0947 channel \\u0938\\u0947 \\u0928\\u0940\\u091a\\u0947 \\u0926\\u0940 \\u0917\\u092f\\u0940 \\u0932\\u093f\\u0902\\u0915 \\u0915\\u0947 \\u092e\\u093e\\u0927\\u094d\\u092f\\u092e \\u0938\\u0947 \\u0938\\u0940\\u0927\\u0947 \\u091c\\u0941\\u095c \\u0938\\u0915\\u0924\\u0947 \\u0939\\u0948\\u0902\\u0964\\n\\nS-U-B-S-C-R-I-B-E N-O-W :\\nhttps://www.youtube.com/channel/UCjPIh7H0oiT-q1__iJKlXtQ/www.facebook.com/Sumitmishra8115/\\n\\n\\u0906\\u092a\\u0915\\u0947 \\u0938\\u0941\\u091d\\u093e\\u0935\\u094b\\u0902 \\u090f\\u0935\\u0902 \\u0906\\u0932\\u094b\\u091a\\u0928\\u093e\\u0913 \\u0915\\u093e \\u0924\\u0939\\u0947 \\u0926\\u093f\\u0932 \\u0938\\u0947 \\u0938\\u094d\\u0935\\u093e\\u0917\\u0924 \\u0939\\u0948\\u0964\\n____________________________________________\\n____________________________________________\\n\\n\\u2714\\ufe0fFor business inquiries:\\n#Sumit_Mishra\\n#Mishra_Ji_Technical\\nsumitmishra731@gmail.com\\n\\n+++------++++---+++++-------++++++--------+++++++-----+++-------++++++-------+++++------++++++---+\\n\\n\\u092a\\u094d\\u0930\\u0915\\u093e\\u0936 \\u0938\\u0902\\u0936\\u094d\\u0932\\u0947\\u0937\\u0923, Photosynthesis, \\u091c\\u0940\\u0935 \\u0935\\u093f\\u091c\\u094d\\u091e\\u093e\\u0928, Biology, Science, chlorophyll, photo synthesis process, chemistry, physics, biology question for railway exam, Sumit Mishra, Mishra Ji Technical, plant tissue, crazy gk trick, human disease, blood, bilogy question, physics questions, work power and energy,physics chapter, photo chemical reaction, dark chemical reaction,\",\n          \"Friends is video mein Humne  Chemistry ka ek  important topic oxidation and Reduction ke importanT MCQ  discuss Kiye Hai.\\nJo aap ke exam ke liye bahut jyada helpful sabit Hoga aap iski acche se practice kare aap ko Apne exam mein bahut jyada madat milegi.\\n\\nOxidation and Reduction CHEMISTRY ka ek bahut important topic hai jsse Har exam mein  question banta hai.\\n\\n\\u0907\\u0938 \\u0935\\u0940\\u0921\\u093f\\u092f\\u094b \\u092e\\u0947\\u0902 \\u0939\\u092e\\u0928\\u0947 \\u0930\\u093e\\u0938\\u093e\\u092f\\u0928\\u093f\\u0915 \\u0935\\u093f\\u091c\\u094d\\u091e\\u093e\\u0928 \\u0915\\u093e importent \\u091f\\u0949\\u092a\\u093f\\u0915 \\u0911\\u0915\\u094d\\u0938\\u0940\\u0915\\u0930\\u0923 \\u0914\\u0930 \\u0905\\u0935\\u0915\\u0930\\u0923 \\u0915\\u0947 \\u092e\\u0939\\u0924\\u094d\\u0935\\u092a\\u0942\\u0930\\u094d\\u0923 \\u092a\\u094d\\u0930\\u0936\\u094d\\u0928\\u094b\\u0902 \\u0915\\u094b \\u0938\\u092e\\u091d\\u093e\\u092f\\u093e \\u0939\\u0948 \\u0964\\n\\n\\n\\u2705\\u2705\\u2705\\u2705\\u2705\\u2705\\u2705\\u2705\\u2705\\u2705\\u2705\\u2705\\u2705\\u2705\\u2705\\n\\nFreinds agar aap Unacademy me pe plus course ka subscription lena chahte hain.\\nUse Code- STUDYTRICKS\\n payen 10% discount.\\n\\n\\n\\nhttps://unacademy.com/course/hindi-physics-ssc-exams/K2B132Y2\\n\\n\\n\\n\\n\\ud83d\\udd06\\ud83d\\udd06\\ud83d\\udd06\\ud83d\\udd06\\ud83d\\udd06\\ud83d\\udd06\\ud83d\\udd06\\ud83d\\udd06\\ud83d\\udd06\\ud83d\\udd06\\ud83d\\udd06\\ud83d\\udd06\\ud83d\\udd06\\ud83d\\udd06\\n\\u25c6\\u25c6Subscribe:\\nhttps://m.youtube.com/channel/UC3F-uo83fyocGM07vRPbhuQ\\n\\n\\u25c6\\u25c6Telegram channel Link \\ud83d\\udc47\\ud83d\\udc47\\ud83d\\udc47\\ud83d\\udc47\\nhttps://t.me/studytricks\\n\\n\\n\\u2b06\\ufe0f\\u2b06\\ufe0f\\u2b06\\ufe0f\\u2b06\\ufe0f\\u2b06\\ufe0f\\u2b06\\ufe0f\\u2b06\\ufe0f\\u2b06\\ufe0f\\u2b06\\ufe0f\\u2b06\\ufe0f\\n\\n#NTPC\\n#RAILWAY_GROUP_D\\n#chemistry_mcq\\n#fuel_mcq\\n\\n\\n\\n\\n\\n\\n\\nThank you (:\\n\\n\\n\\n\\n\\nGeneral Science important mcq,\\nRrb je exam analysis, \\nTechnical question paper, \\nRailway exam, \\nRailway exam analysis, \\nRailway group D exam date, \\nRrb exam date, \\nRrb NTPC question paper, \\nPhysics mcq,\\nScience Gk Trick,\\nPhysics mcq,\\nOnline, Chief minister, \\nnational awards movies,\\nnational awards india,\\nnational awards 2019 current affairs,\\nnational awards wifistudy,\\ngk trick in hindi,\\nHow to study science\\ngk tricks science,\\nchemistry mcq for competitive exams,\\nchemistry mcq on solutions,\\nchemistry mcq ans 2019,\\nchemistry mcq in hindi,\\nchemistry mcq with answers pdf\"\n        ],\n        \"semantic_type\": \"\",\n        \"description\": \"\"\n      }\n    },\n    {\n      \"column\": \"months\",\n      \"properties\": {\n        \"dtype\": \"number\",\n        \"std\": 21,\n        \"min\": -1,\n        \"max\": 76,\n        \"num_unique_values\": 77,\n        \"samples\": [\n          72,\n          46,\n          18\n        ],\n        \"semantic_type\": \"\",\n        \"description\": \"\"\n      }\n    },\n    {\n      \"column\": \"video_view_count\",\n      \"properties\": {\n        \"dtype\": \"number\",\n        \"std\": 1.433689799231189,\n        \"min\": 0.0,\n        \"max\": 8.588678744166316,\n        \"num_unique_values\": 19646,\n        \"samples\": [\n          4.271051261492347,\n          4.145600357652248,\n          6.3618297888410895\n        ],\n        \"semantic_type\": \"\",\n        \"description\": \"\"\n      }\n    },\n    {\n      \"column\": \"label\",\n      \"properties\": {\n        \"dtype\": \"number\",\n        \"std\": 0,\n        \"min\": 0,\n        \"max\": 1,\n        \"num_unique_values\": 2,\n        \"samples\": [\n          1,\n          0\n        ],\n        \"semantic_type\": \"\",\n        \"description\": \"\"\n      }\n    }\n  ]\n}"
            }
          },
          "metadata": {},
          "execution_count": 2
        }
      ],
      "source": [
        "import pandas as pd\n",
        "\n",
        "samples = pd.read_csv('https://raw.githubusercontent.com/tommyliphysics/tommyli-ml/main/youtube_predictor/data/train.csv', lineterminator='\\n')\n",
        "samples"
      ]
    },
    {
      "cell_type": "code",
      "source": [
        "samples = samples.fillna('')"
      ],
      "metadata": {
        "id": "Xor5Yo7AuwXE"
      },
      "execution_count": 3,
      "outputs": []
    },
    {
      "cell_type": "code",
      "source": [
        "video_categories = {1: 'Film & Animation',\n",
        "                    2: 'Autos & Vehicles',\n",
        "                    10: 'Music',\n",
        "                    15: 'Pets & Animals',\n",
        "                    17: 'Sports',\n",
        "                    19: 'Travel & Events',\n",
        "                    20: 'Gaming',\n",
        "                    22: 'People & Blogs',\n",
        "                    23: 'Comedy',\n",
        "                    24: 'Entertainment',\n",
        "                    25: 'News & Politics',\n",
        "                    26: 'Howto & Style',\n",
        "                    27: 'Education',\n",
        "                    28: 'Science & Technology',\n",
        "                    29: 'Nonprofits & Activism'}\n",
        "\n",
        "samples['video_category'] = samples['video_category'].apply(lambda category: video_categories[category])"
      ],
      "metadata": {
        "id": "afLF5QYt1zJZ"
      },
      "execution_count": 4,
      "outputs": []
    },
    {
      "cell_type": "code",
      "execution_count": 5,
      "metadata": {
        "execution": {
          "iopub.execute_input": "2024-05-29T05:51:54.079600Z",
          "iopub.status.busy": "2024-05-29T05:51:54.079240Z",
          "iopub.status.idle": "2024-05-29T05:51:54.088444Z",
          "shell.execute_reply": "2024-05-29T05:51:54.087375Z",
          "shell.execute_reply.started": "2024-05-29T05:51:54.079571Z"
        },
        "id": "71qp5Jmkkfn6"
      },
      "outputs": [],
      "source": [
        "val = samples.sample(frac=0.2, random_state=524)\n",
        "train = samples.drop(val.index)"
      ]
    },
    {
      "cell_type": "code",
      "source": [
        "train"
      ],
      "metadata": {
        "colab": {
          "base_uri": "https://localhost:8080/",
          "height": 424
        },
        "id": "oSn-omVHrwJa",
        "outputId": "165c565e-8eaa-4931-a886-ffb11839fced"
      },
      "execution_count": 6,
      "outputs": [
        {
          "output_type": "execute_result",
          "data": {
            "text/plain": [
              "             channel_title        video_category  \\\n",
              "0                   BKTVOK        People & Blogs   \n",
              "1                 Rockit14                Gaming   \n",
              "2        MAD ABOUT SCIENCE        People & Blogs   \n",
              "3                   BKTVOK        People & Blogs   \n",
              "4               HVTraining                Sports   \n",
              "...                    ...                   ...   \n",
              "25323              Khanish        People & Blogs   \n",
              "25324  TungaloyCorporation  Science & Technology   \n",
              "25325            Sansad TV       News & Politics   \n",
              "25326       The Truth Show             Education   \n",
              "25327           GOLDEN OAK             Education   \n",
              "\n",
              "                                             video_title  \\\n",
              "0      BAWAR KHAN  SON MUHAMMAD Khan Short video YouT...   \n",
              "1        Add realistic waves to Minecraft! (Physics Mod)   \n",
              "2                    The Stirling Engine at my Institute   \n",
              "3      Shergarh Bazar video YouTube amazing viralvide...   \n",
              "4      Cycling Tips: The science of electrolytes and ...   \n",
              "...                                                  ...   \n",
              "25323            Friction welding #tools #science #viral   \n",
              "25324  We made a smile with high feed machining!  #cn...   \n",
              "25325                       Science Monitor | 14.08.2021   \n",
              "25326  Trick for Reactivity Series of Metals #shorts ...   \n",
              "25327  How Good to Great Companies Use Technology to ...   \n",
              "\n",
              "                                       video_description  months  \\\n",
              "0      Bawarkhan SON MUHAMMAD khan \\nAmazing Videos\\n...      19   \n",
              "1      Play Minecraft with realistic physics! This mi...      11   \n",
              "2      Very close to Carnot Engine\\n\\n    This one is...      50   \n",
              "3      Shergarh Bazar video YouTube amazing viralvide...      21   \n",
              "4      Looking for a proven training plan? \\nhttps://...      72   \n",
              "...                                                  ...     ...   \n",
              "25323  Friction welding is a solid-state welding proc...      57   \n",
              "25324  Product : AddDoFeed\\nShank : VSSD08L090S05-C\\n...       2   \n",
              "25325  1.HUMAN-BASED MODELS TO STUDY NEURODEVELOPMENT...      32   \n",
              "25326  Join our Telegram Group ATP STAR JEE/NEET 2024...      18   \n",
              "25327                                                          2   \n",
              "\n",
              "       video_view_count  label  \n",
              "0              1.982271      0  \n",
              "1              5.338389      1  \n",
              "2              5.685385      1  \n",
              "3              2.287802      0  \n",
              "4              3.307282      0  \n",
              "...                 ...    ...  \n",
              "25323          3.766115      0  \n",
              "25324          5.627098      1  \n",
              "25325          4.421341      0  \n",
              "25326          6.748217      1  \n",
              "25327          0.000000      0  \n",
              "\n",
              "[20262 rows x 7 columns]"
            ],
            "text/html": [
              "\n",
              "  <div id=\"df-1b0285ae-4f43-4f80-99b1-c74e36fae69b\" class=\"colab-df-container\">\n",
              "    <div>\n",
              "<style scoped>\n",
              "    .dataframe tbody tr th:only-of-type {\n",
              "        vertical-align: middle;\n",
              "    }\n",
              "\n",
              "    .dataframe tbody tr th {\n",
              "        vertical-align: top;\n",
              "    }\n",
              "\n",
              "    .dataframe thead th {\n",
              "        text-align: right;\n",
              "    }\n",
              "</style>\n",
              "<table border=\"1\" class=\"dataframe\">\n",
              "  <thead>\n",
              "    <tr style=\"text-align: right;\">\n",
              "      <th></th>\n",
              "      <th>channel_title</th>\n",
              "      <th>video_category</th>\n",
              "      <th>video_title</th>\n",
              "      <th>video_description</th>\n",
              "      <th>months</th>\n",
              "      <th>video_view_count</th>\n",
              "      <th>label</th>\n",
              "    </tr>\n",
              "  </thead>\n",
              "  <tbody>\n",
              "    <tr>\n",
              "      <th>0</th>\n",
              "      <td>BKTVOK</td>\n",
              "      <td>People &amp; Blogs</td>\n",
              "      <td>BAWAR KHAN  SON MUHAMMAD Khan Short video YouT...</td>\n",
              "      <td>Bawarkhan SON MUHAMMAD khan \\nAmazing Videos\\n...</td>\n",
              "      <td>19</td>\n",
              "      <td>1.982271</td>\n",
              "      <td>0</td>\n",
              "    </tr>\n",
              "    <tr>\n",
              "      <th>1</th>\n",
              "      <td>Rockit14</td>\n",
              "      <td>Gaming</td>\n",
              "      <td>Add realistic waves to Minecraft! (Physics Mod)</td>\n",
              "      <td>Play Minecraft with realistic physics! This mi...</td>\n",
              "      <td>11</td>\n",
              "      <td>5.338389</td>\n",
              "      <td>1</td>\n",
              "    </tr>\n",
              "    <tr>\n",
              "      <th>2</th>\n",
              "      <td>MAD ABOUT SCIENCE</td>\n",
              "      <td>People &amp; Blogs</td>\n",
              "      <td>The Stirling Engine at my Institute</td>\n",
              "      <td>Very close to Carnot Engine\\n\\n    This one is...</td>\n",
              "      <td>50</td>\n",
              "      <td>5.685385</td>\n",
              "      <td>1</td>\n",
              "    </tr>\n",
              "    <tr>\n",
              "      <th>3</th>\n",
              "      <td>BKTVOK</td>\n",
              "      <td>People &amp; Blogs</td>\n",
              "      <td>Shergarh Bazar video YouTube amazing viralvide...</td>\n",
              "      <td>Shergarh Bazar video YouTube amazing viralvide...</td>\n",
              "      <td>21</td>\n",
              "      <td>2.287802</td>\n",
              "      <td>0</td>\n",
              "    </tr>\n",
              "    <tr>\n",
              "      <th>4</th>\n",
              "      <td>HVTraining</td>\n",
              "      <td>Sports</td>\n",
              "      <td>Cycling Tips: The science of electrolytes and ...</td>\n",
              "      <td>Looking for a proven training plan? \\nhttps://...</td>\n",
              "      <td>72</td>\n",
              "      <td>3.307282</td>\n",
              "      <td>0</td>\n",
              "    </tr>\n",
              "    <tr>\n",
              "      <th>...</th>\n",
              "      <td>...</td>\n",
              "      <td>...</td>\n",
              "      <td>...</td>\n",
              "      <td>...</td>\n",
              "      <td>...</td>\n",
              "      <td>...</td>\n",
              "      <td>...</td>\n",
              "    </tr>\n",
              "    <tr>\n",
              "      <th>25323</th>\n",
              "      <td>Khanish</td>\n",
              "      <td>People &amp; Blogs</td>\n",
              "      <td>Friction welding #tools #science #viral</td>\n",
              "      <td>Friction welding is a solid-state welding proc...</td>\n",
              "      <td>57</td>\n",
              "      <td>3.766115</td>\n",
              "      <td>0</td>\n",
              "    </tr>\n",
              "    <tr>\n",
              "      <th>25324</th>\n",
              "      <td>TungaloyCorporation</td>\n",
              "      <td>Science &amp; Technology</td>\n",
              "      <td>We made a smile with high feed machining!  #cn...</td>\n",
              "      <td>Product : AddDoFeed\\nShank : VSSD08L090S05-C\\n...</td>\n",
              "      <td>2</td>\n",
              "      <td>5.627098</td>\n",
              "      <td>1</td>\n",
              "    </tr>\n",
              "    <tr>\n",
              "      <th>25325</th>\n",
              "      <td>Sansad TV</td>\n",
              "      <td>News &amp; Politics</td>\n",
              "      <td>Science Monitor | 14.08.2021</td>\n",
              "      <td>1.HUMAN-BASED MODELS TO STUDY NEURODEVELOPMENT...</td>\n",
              "      <td>32</td>\n",
              "      <td>4.421341</td>\n",
              "      <td>0</td>\n",
              "    </tr>\n",
              "    <tr>\n",
              "      <th>25326</th>\n",
              "      <td>The Truth Show</td>\n",
              "      <td>Education</td>\n",
              "      <td>Trick for Reactivity Series of Metals #shorts ...</td>\n",
              "      <td>Join our Telegram Group ATP STAR JEE/NEET 2024...</td>\n",
              "      <td>18</td>\n",
              "      <td>6.748217</td>\n",
              "      <td>1</td>\n",
              "    </tr>\n",
              "    <tr>\n",
              "      <th>25327</th>\n",
              "      <td>GOLDEN OAK</td>\n",
              "      <td>Education</td>\n",
              "      <td>How Good to Great Companies Use Technology to ...</td>\n",
              "      <td></td>\n",
              "      <td>2</td>\n",
              "      <td>0.000000</td>\n",
              "      <td>0</td>\n",
              "    </tr>\n",
              "  </tbody>\n",
              "</table>\n",
              "<p>20262 rows × 7 columns</p>\n",
              "</div>\n",
              "    <div class=\"colab-df-buttons\">\n",
              "\n",
              "  <div class=\"colab-df-container\">\n",
              "    <button class=\"colab-df-convert\" onclick=\"convertToInteractive('df-1b0285ae-4f43-4f80-99b1-c74e36fae69b')\"\n",
              "            title=\"Convert this dataframe to an interactive table.\"\n",
              "            style=\"display:none;\">\n",
              "\n",
              "  <svg xmlns=\"http://www.w3.org/2000/svg\" height=\"24px\" viewBox=\"0 -960 960 960\">\n",
              "    <path d=\"M120-120v-720h720v720H120Zm60-500h600v-160H180v160Zm220 220h160v-160H400v160Zm0 220h160v-160H400v160ZM180-400h160v-160H180v160Zm440 0h160v-160H620v160ZM180-180h160v-160H180v160Zm440 0h160v-160H620v160Z\"/>\n",
              "  </svg>\n",
              "    </button>\n",
              "\n",
              "  <style>\n",
              "    .colab-df-container {\n",
              "      display:flex;\n",
              "      gap: 12px;\n",
              "    }\n",
              "\n",
              "    .colab-df-convert {\n",
              "      background-color: #E8F0FE;\n",
              "      border: none;\n",
              "      border-radius: 50%;\n",
              "      cursor: pointer;\n",
              "      display: none;\n",
              "      fill: #1967D2;\n",
              "      height: 32px;\n",
              "      padding: 0 0 0 0;\n",
              "      width: 32px;\n",
              "    }\n",
              "\n",
              "    .colab-df-convert:hover {\n",
              "      background-color: #E2EBFA;\n",
              "      box-shadow: 0px 1px 2px rgba(60, 64, 67, 0.3), 0px 1px 3px 1px rgba(60, 64, 67, 0.15);\n",
              "      fill: #174EA6;\n",
              "    }\n",
              "\n",
              "    .colab-df-buttons div {\n",
              "      margin-bottom: 4px;\n",
              "    }\n",
              "\n",
              "    [theme=dark] .colab-df-convert {\n",
              "      background-color: #3B4455;\n",
              "      fill: #D2E3FC;\n",
              "    }\n",
              "\n",
              "    [theme=dark] .colab-df-convert:hover {\n",
              "      background-color: #434B5C;\n",
              "      box-shadow: 0px 1px 3px 1px rgba(0, 0, 0, 0.15);\n",
              "      filter: drop-shadow(0px 1px 2px rgba(0, 0, 0, 0.3));\n",
              "      fill: #FFFFFF;\n",
              "    }\n",
              "  </style>\n",
              "\n",
              "    <script>\n",
              "      const buttonEl =\n",
              "        document.querySelector('#df-1b0285ae-4f43-4f80-99b1-c74e36fae69b button.colab-df-convert');\n",
              "      buttonEl.style.display =\n",
              "        google.colab.kernel.accessAllowed ? 'block' : 'none';\n",
              "\n",
              "      async function convertToInteractive(key) {\n",
              "        const element = document.querySelector('#df-1b0285ae-4f43-4f80-99b1-c74e36fae69b');\n",
              "        const dataTable =\n",
              "          await google.colab.kernel.invokeFunction('convertToInteractive',\n",
              "                                                    [key], {});\n",
              "        if (!dataTable) return;\n",
              "\n",
              "        const docLinkHtml = 'Like what you see? Visit the ' +\n",
              "          '<a target=\"_blank\" href=https://colab.research.google.com/notebooks/data_table.ipynb>data table notebook</a>'\n",
              "          + ' to learn more about interactive tables.';\n",
              "        element.innerHTML = '';\n",
              "        dataTable['output_type'] = 'display_data';\n",
              "        await google.colab.output.renderOutput(dataTable, element);\n",
              "        const docLink = document.createElement('div');\n",
              "        docLink.innerHTML = docLinkHtml;\n",
              "        element.appendChild(docLink);\n",
              "      }\n",
              "    </script>\n",
              "  </div>\n",
              "\n",
              "\n",
              "<div id=\"df-8fd09a70-9951-48a0-b3f4-6e712902624d\">\n",
              "  <button class=\"colab-df-quickchart\" onclick=\"quickchart('df-8fd09a70-9951-48a0-b3f4-6e712902624d')\"\n",
              "            title=\"Suggest charts\"\n",
              "            style=\"display:none;\">\n",
              "\n",
              "<svg xmlns=\"http://www.w3.org/2000/svg\" height=\"24px\"viewBox=\"0 0 24 24\"\n",
              "     width=\"24px\">\n",
              "    <g>\n",
              "        <path d=\"M19 3H5c-1.1 0-2 .9-2 2v14c0 1.1.9 2 2 2h14c1.1 0 2-.9 2-2V5c0-1.1-.9-2-2-2zM9 17H7v-7h2v7zm4 0h-2V7h2v10zm4 0h-2v-4h2v4z\"/>\n",
              "    </g>\n",
              "</svg>\n",
              "  </button>\n",
              "\n",
              "<style>\n",
              "  .colab-df-quickchart {\n",
              "      --bg-color: #E8F0FE;\n",
              "      --fill-color: #1967D2;\n",
              "      --hover-bg-color: #E2EBFA;\n",
              "      --hover-fill-color: #174EA6;\n",
              "      --disabled-fill-color: #AAA;\n",
              "      --disabled-bg-color: #DDD;\n",
              "  }\n",
              "\n",
              "  [theme=dark] .colab-df-quickchart {\n",
              "      --bg-color: #3B4455;\n",
              "      --fill-color: #D2E3FC;\n",
              "      --hover-bg-color: #434B5C;\n",
              "      --hover-fill-color: #FFFFFF;\n",
              "      --disabled-bg-color: #3B4455;\n",
              "      --disabled-fill-color: #666;\n",
              "  }\n",
              "\n",
              "  .colab-df-quickchart {\n",
              "    background-color: var(--bg-color);\n",
              "    border: none;\n",
              "    border-radius: 50%;\n",
              "    cursor: pointer;\n",
              "    display: none;\n",
              "    fill: var(--fill-color);\n",
              "    height: 32px;\n",
              "    padding: 0;\n",
              "    width: 32px;\n",
              "  }\n",
              "\n",
              "  .colab-df-quickchart:hover {\n",
              "    background-color: var(--hover-bg-color);\n",
              "    box-shadow: 0 1px 2px rgba(60, 64, 67, 0.3), 0 1px 3px 1px rgba(60, 64, 67, 0.15);\n",
              "    fill: var(--button-hover-fill-color);\n",
              "  }\n",
              "\n",
              "  .colab-df-quickchart-complete:disabled,\n",
              "  .colab-df-quickchart-complete:disabled:hover {\n",
              "    background-color: var(--disabled-bg-color);\n",
              "    fill: var(--disabled-fill-color);\n",
              "    box-shadow: none;\n",
              "  }\n",
              "\n",
              "  .colab-df-spinner {\n",
              "    border: 2px solid var(--fill-color);\n",
              "    border-color: transparent;\n",
              "    border-bottom-color: var(--fill-color);\n",
              "    animation:\n",
              "      spin 1s steps(1) infinite;\n",
              "  }\n",
              "\n",
              "  @keyframes spin {\n",
              "    0% {\n",
              "      border-color: transparent;\n",
              "      border-bottom-color: var(--fill-color);\n",
              "      border-left-color: var(--fill-color);\n",
              "    }\n",
              "    20% {\n",
              "      border-color: transparent;\n",
              "      border-left-color: var(--fill-color);\n",
              "      border-top-color: var(--fill-color);\n",
              "    }\n",
              "    30% {\n",
              "      border-color: transparent;\n",
              "      border-left-color: var(--fill-color);\n",
              "      border-top-color: var(--fill-color);\n",
              "      border-right-color: var(--fill-color);\n",
              "    }\n",
              "    40% {\n",
              "      border-color: transparent;\n",
              "      border-right-color: var(--fill-color);\n",
              "      border-top-color: var(--fill-color);\n",
              "    }\n",
              "    60% {\n",
              "      border-color: transparent;\n",
              "      border-right-color: var(--fill-color);\n",
              "    }\n",
              "    80% {\n",
              "      border-color: transparent;\n",
              "      border-right-color: var(--fill-color);\n",
              "      border-bottom-color: var(--fill-color);\n",
              "    }\n",
              "    90% {\n",
              "      border-color: transparent;\n",
              "      border-bottom-color: var(--fill-color);\n",
              "    }\n",
              "  }\n",
              "</style>\n",
              "\n",
              "  <script>\n",
              "    async function quickchart(key) {\n",
              "      const quickchartButtonEl =\n",
              "        document.querySelector('#' + key + ' button');\n",
              "      quickchartButtonEl.disabled = true;  // To prevent multiple clicks.\n",
              "      quickchartButtonEl.classList.add('colab-df-spinner');\n",
              "      try {\n",
              "        const charts = await google.colab.kernel.invokeFunction(\n",
              "            'suggestCharts', [key], {});\n",
              "      } catch (error) {\n",
              "        console.error('Error during call to suggestCharts:', error);\n",
              "      }\n",
              "      quickchartButtonEl.classList.remove('colab-df-spinner');\n",
              "      quickchartButtonEl.classList.add('colab-df-quickchart-complete');\n",
              "    }\n",
              "    (() => {\n",
              "      let quickchartButtonEl =\n",
              "        document.querySelector('#df-8fd09a70-9951-48a0-b3f4-6e712902624d button');\n",
              "      quickchartButtonEl.style.display =\n",
              "        google.colab.kernel.accessAllowed ? 'block' : 'none';\n",
              "    })();\n",
              "  </script>\n",
              "</div>\n",
              "\n",
              "  <div id=\"id_38f47eac-e209-48ef-8ab4-725530b34ace\">\n",
              "    <style>\n",
              "      .colab-df-generate {\n",
              "        background-color: #E8F0FE;\n",
              "        border: none;\n",
              "        border-radius: 50%;\n",
              "        cursor: pointer;\n",
              "        display: none;\n",
              "        fill: #1967D2;\n",
              "        height: 32px;\n",
              "        padding: 0 0 0 0;\n",
              "        width: 32px;\n",
              "      }\n",
              "\n",
              "      .colab-df-generate:hover {\n",
              "        background-color: #E2EBFA;\n",
              "        box-shadow: 0px 1px 2px rgba(60, 64, 67, 0.3), 0px 1px 3px 1px rgba(60, 64, 67, 0.15);\n",
              "        fill: #174EA6;\n",
              "      }\n",
              "\n",
              "      [theme=dark] .colab-df-generate {\n",
              "        background-color: #3B4455;\n",
              "        fill: #D2E3FC;\n",
              "      }\n",
              "\n",
              "      [theme=dark] .colab-df-generate:hover {\n",
              "        background-color: #434B5C;\n",
              "        box-shadow: 0px 1px 3px 1px rgba(0, 0, 0, 0.15);\n",
              "        filter: drop-shadow(0px 1px 2px rgba(0, 0, 0, 0.3));\n",
              "        fill: #FFFFFF;\n",
              "      }\n",
              "    </style>\n",
              "    <button class=\"colab-df-generate\" onclick=\"generateWithVariable('train')\"\n",
              "            title=\"Generate code using this dataframe.\"\n",
              "            style=\"display:none;\">\n",
              "\n",
              "  <svg xmlns=\"http://www.w3.org/2000/svg\" height=\"24px\"viewBox=\"0 0 24 24\"\n",
              "       width=\"24px\">\n",
              "    <path d=\"M7,19H8.4L18.45,9,17,7.55,7,17.6ZM5,21V16.75L18.45,3.32a2,2,0,0,1,2.83,0l1.4,1.43a1.91,1.91,0,0,1,.58,1.4,1.91,1.91,0,0,1-.58,1.4L9.25,21ZM18.45,9,17,7.55Zm-12,3A5.31,5.31,0,0,0,4.9,8.1,5.31,5.31,0,0,0,1,6.5,5.31,5.31,0,0,0,4.9,4.9,5.31,5.31,0,0,0,6.5,1,5.31,5.31,0,0,0,8.1,4.9,5.31,5.31,0,0,0,12,6.5,5.46,5.46,0,0,0,6.5,12Z\"/>\n",
              "  </svg>\n",
              "    </button>\n",
              "    <script>\n",
              "      (() => {\n",
              "      const buttonEl =\n",
              "        document.querySelector('#id_38f47eac-e209-48ef-8ab4-725530b34ace button.colab-df-generate');\n",
              "      buttonEl.style.display =\n",
              "        google.colab.kernel.accessAllowed ? 'block' : 'none';\n",
              "\n",
              "      buttonEl.onclick = () => {\n",
              "        google.colab.notebook.generateWithVariable('train');\n",
              "      }\n",
              "      })();\n",
              "    </script>\n",
              "  </div>\n",
              "\n",
              "    </div>\n",
              "  </div>\n"
            ],
            "application/vnd.google.colaboratory.intrinsic+json": {
              "type": "dataframe",
              "variable_name": "train",
              "summary": "{\n  \"name\": \"train\",\n  \"rows\": 20262,\n  \"fields\": [\n    {\n      \"column\": \"channel_title\",\n      \"properties\": {\n        \"dtype\": \"category\",\n        \"num_unique_values\": 9880,\n        \"samples\": [\n          \"Unacademy Live - MPSC\",\n          \"Ankit Sharma IIT Madras\",\n          \"Be Antariksh Yatri\"\n        ],\n        \"semantic_type\": \"\",\n        \"description\": \"\"\n      }\n    },\n    {\n      \"column\": \"video_category\",\n      \"properties\": {\n        \"dtype\": \"category\",\n        \"num_unique_values\": 15,\n        \"samples\": [\n          \"Howto & Style\",\n          \"Travel & Events\",\n          \"People & Blogs\"\n        ],\n        \"semantic_type\": \"\",\n        \"description\": \"\"\n      }\n    },\n    {\n      \"column\": \"video_title\",\n      \"properties\": {\n        \"dtype\": \"string\",\n        \"num_unique_values\": 20061,\n        \"samples\": [\n          \"KTH-studenter producerar skyddsdr\\u00e4kter till v\\u00e5rden\",\n          \"Dumbest Things Blocked on School Computers\",\n          \"Physics is FUN not boring! #shorts #viral\"\n        ],\n        \"semantic_type\": \"\",\n        \"description\": \"\"\n      }\n    },\n    {\n      \"column\": \"video_description\",\n      \"properties\": {\n        \"dtype\": \"string\",\n        \"num_unique_values\": 16263,\n        \"samples\": [\n          \"Assignement download \\u0932\\u093f\\u0902\\u0915 - https://mpbou.edu.in/ss/assignments/assignment2021/bsc3.pdf\\n\\nMP bhoj University Group- https://chat.whatsapp.com/LA3Lv1ZCfuq4ZJA7RHIGOd\\n\\nBA1st History Paper-I https://youtu.be/Fj0dZf8mEh8\\n\\nBA1st History Paper-II \\nhttps://youtu.be/9EAMvALSUtE\\n\\nBA1st Sociel Science Paper-I\\nhttps://youtu.be/z-9Rz4Uvqqg\\n\\nBA1st Sociel Science Paper-II\\nhttps://youtu.be/BBt0KBWo7BY\\n\\nBA1st Hindi Literature Paper-I\\nhttps://youtu.be/k_cOvk1vRB0\\n\\nBA1st Hindi Literature Paper-II \\nhttps://youtu.be/sJubdsjQO78\\n\\nBA1st Political Science Paper-I\\nhttps://youtu.be/fXmtKpn6aBs\\n\\nBA1st Political Science Paper-II\\nhttps://youtu.be/VJol_n2PUIY\\n\\nBA3rd Political Science Paper-I\\nhttps://youtu.be/fXmtKpn6aBs\\n\\nBA3rd Political Science Paper-II \\nhttps://youtu.be/7LXYs3i5Ydw\\n\\nBA3rd Year English Literature Paper-I\\nhttps://youtu.be/EqFKAJf8rnM\\n\\nBA3rd Year English Literature Paper-II\\nhttps://youtu.be/z1cAQYvbb2k\\n\\nBSc 3rd Year Zoology Paper-I\\nhttps://youtu.be/FfGP1koUKe4\\n\\nBSc 3rd Year Zoology Paper-II\\nhttps://youtu.be/2mPYq_8avjE\\n\\nBSc 3rd Year Botany-I Paper-I\\nhttps://youtu.be/N1ndjQ5uAnI\\n\\nBSc 1st Year Math Paper-I\\nhttps://youtu.be/FokOv4N2_Uk\\n\\nBSc 1st Year Chemistry Paper-I\\nhttps://youtu.be/9gpL87fgIX0\",\n          \"Csir net chemical science june 2016 organic chemistry solution in hindi, bayer vileger oxidation\",\n          \"Class 8 Science Chapter 3 Synthetic Fibres and Plastics MCQ | Class 8 Science chapter 3 MCQs\\n\\n\\nCBSE - Grade (Class) 8\\nSubject - Science\\nBook - Science\\nChapter - synthetic fibres and plastics\\nSeries -multiple choice questions\\nLanguage : Hindi / English\\n\\nJoin our Telegram channel\\nFor Daily quizzes \\nhttps://t.me/all_in_one_mix\\n\\nJoin discussion group for solving your doubt\\nhttps://t.me/joinchat/LBu84060zYa0QxBr243EVg\\n\\nSubscribe\\ud83d\\udd14 To My Channel Here\\u2935\\ufe0f \\nhttps://www.youtube.com/channel/UCMc1jt02Tfu1FkPifZI1ZGg/\\n\\nHindi class 7 chapter 1&2 mcq link\\u2935\\ufe0f\\nhttps://youtu.be/7u9QEoPe7f0\\n\\nCLASS 8 PLAYLIST\\u2935\\ufe0f\\nhttps://www.youtube.com/playlist?list=PLdQyP_KMhpkUE0xxOVzaoazpe-41j4Lcl                  https://www.youtube.com/playlist?list=PLdQyP_KMhpkVirkS-RM-0BFxC9iTTThFo                     \\n\\nCLASS 8 ENGLISH PLAYLIST\\u2935\\ufe0f \\nhttps://www.youtube.com/playlist?list=PLdQyP_KMhpkWXe-Qd1fLf1pW9lsuyYLFk\\n\\nCLASS 7 ENGLISH PLAYLIST WITH MCQ AND EXERCISE \\u2935\\ufe0f\\nhttps://www.youtube.com/playlist?list=PLdQyP_KMhpkV0Gt4cbhuvG8YtgBSihi1n\\n\\nCLASS 7 MATH PLAYLIST WITH MCQ \\u2935\\ufe0f\\nhttps://www.youtube.com/playlist?list=PLdQyP_KMhpkUainW4C0J_jpDZObDdRC06\\n\\nCLASS 7 SST PLAYLIST WITH MCQ \\u2935\\ufe0f\\nhttps://www.youtube.com/playlist?list=PLdQyP_KMhpkW0ejDDK_bKz7YbXuFSlf0J\\n\\nALL VIDEO IS HERE\\u2935\\ufe0f\\nhttps://www.youtube.com/playlist?list=PLdQyP_KMhpkU-yVsIQG_-rIhqaC8bglOA\\n\\nCLASS 7 HINDI PLAYLIST MCQ WITH EXERCISE\\u2935\\ufe0f\\nhttps://www.youtube.com/playlist?list=PLdQyP_KMhpkXyhPjm08KjYqypzZ-CupLP\\n\\nCLASS 7 SCIENCE PLAYLIST \\u2935\\ufe0f\\nhttps://www.youtube.com/playlist?list=PLdQyP_KMhpkVfUEMCcS6CEQvmg2VGo1_J\\n\\nCredit go for slides to Slidesgo\\n\\nTopic Covered in this video\\u2611\\ufe0f\\n\\n\\u2714\\ufe0f class 8 science chapter 3 MCQ\\n\\u2714\\ufe0f synthetic fibres and plastics class 8 MCQ\\n\\u2714\\ufe0f chapter 3 MCQ synthetic fibres and plastics\\n\\u2714\\ufe0f synthetic fibres and plastics objective type question\\n\\nYour Queries\\u2935\\ufe0f\\n\\nmcq class 8 synthetic fibres and plastics synthetic fibres and plastics class 8 mcq with answers\\nsynthetic fibres and plastics class 8 mcq questions and answers\\nsynthetic fibres and plastics class 8 questions answers odia\\nsynthetic fibres and plastics class 8 mcq class 8 synthetic fibres and plastics\\nmcq synthetic fibres and plastics\\nmcq of synthetic fibres and plastics class 8 \\nmcq class 8 science \\nmcq ncert\\nmcq class 8 \\nmcq\\nclass 8 \\nmcq class 8 science chapter 3\\nAll In One Mix\\nNCERT\\nCBSE\\n\\n\\n#syntheticfibresandplastic\\n#Ncert\\n#teaching\\n#learning\\n#facts\\n#support\\n#goals\\n#like\\n#nonprofit\\n#career\\n#educationmatters\\n#technology\\n\\n\\nThanks for watching \\n       Like share and subscribe our channel.\\n               Team All In One Mix.....\"\n        ],\n        \"semantic_type\": \"\",\n        \"description\": \"\"\n      }\n    },\n    {\n      \"column\": \"months\",\n      \"properties\": {\n        \"dtype\": \"number\",\n        \"std\": 21,\n        \"min\": -1,\n        \"max\": 76,\n        \"num_unique_values\": 77,\n        \"samples\": [\n          72,\n          7,\n          71\n        ],\n        \"semantic_type\": \"\",\n        \"description\": \"\"\n      }\n    },\n    {\n      \"column\": \"video_view_count\",\n      \"properties\": {\n        \"dtype\": \"number\",\n        \"std\": 1.4343472964046635,\n        \"min\": 0.0,\n        \"max\": 8.588678744166316,\n        \"num_unique_values\": 16095,\n        \"samples\": [\n          6.315789246767354,\n          3.7607993116307177,\n          4.379232978167667\n        ],\n        \"semantic_type\": \"\",\n        \"description\": \"\"\n      }\n    },\n    {\n      \"column\": \"label\",\n      \"properties\": {\n        \"dtype\": \"number\",\n        \"std\": 0,\n        \"min\": 0,\n        \"max\": 1,\n        \"num_unique_values\": 2,\n        \"samples\": [\n          1,\n          0\n        ],\n        \"semantic_type\": \"\",\n        \"description\": \"\"\n      }\n    }\n  ]\n}"
            }
          },
          "metadata": {},
          "execution_count": 6
        }
      ]
    },
    {
      "cell_type": "code",
      "source": [
        "val"
      ],
      "metadata": {
        "colab": {
          "base_uri": "https://localhost:8080/",
          "height": 424
        },
        "id": "EbTiGcUarxTb",
        "outputId": "7372cb47-d7bb-494d-afac-65460880abcc"
      },
      "execution_count": 7,
      "outputs": [
        {
          "output_type": "execute_result",
          "data": {
            "text/plain": [
              "                                channel_title        video_category  \\\n",
              "11683                             CrashCourse             Education   \n",
              "14892                         Padhle Tenthies             Education   \n",
              "21540                       Coding with Lewis  Science & Technology   \n",
              "4075                             Hitesh Gohel        People & Blogs   \n",
              "2171                        MCQ Questions Hub             Education   \n",
              "...                                       ...                   ...   \n",
              "23360                           Espiri Ibarra        People & Blogs   \n",
              "11858                               Happy Day        People & Blogs   \n",
              "12996                             Book Scribe             Education   \n",
              "7290             OBD Việt Nam - Dịch vụ TỪ XA      Autos & Vehicles   \n",
              "20280  New Indian Era (NIE) - Prashant Tiwari             Education   \n",
              "\n",
              "                                             video_title  \\\n",
              "11683  Micro-Biology: Crash Course History of Science...   \n",
              "14892  Chemical Reactions and Equations Class 10 Scie...   \n",
              "21540  What code editor should you use? 👩‍💻 #technolo...   \n",
              "4075          Redox reaction class 11th Science gujarati   \n",
              "2171   Magnetism (चुम्बकत्व) MCQ | Physics MCQ | MCQ ...   \n",
              "...                                                  ...   \n",
              "23360                                    October 9, 2022   \n",
              "11858                                    Kirchhoff's Law   \n",
              "12996  NCERT Science Class 6 தமிழ் | Chapter 13 | Fun...   \n",
              "7290   Introduction SCR (Selective catalytic reductio...   \n",
              "20280  Books came in MARKET for class 12th science | ...   \n",
              "\n",
              "                                       video_description  months  \\\n",
              "11683  It's all about the SUPER TINY in this episode ...      66   \n",
              "14892  Chemical Reactions and Equations Class 10 Scie...      23   \n",
              "21540                                                         21   \n",
              "4075           Balancing Redox reaction in acidic medium      60   \n",
              "2171   Magnetism (चुम्बकत्व) MCQ | Physics MCQ | MCQ ...      35   \n",
              "...                                                  ...     ...   \n",
              "23360                                                         18   \n",
              "11858  Kirchhoff’s Law-Pfis19-2B-Mohammad Nafis Nailu...      46   \n",
              "12996  NCERT Science Class 6 - Chapter 13: Fun with m...      27   \n",
              "7290   #obdvietnam #service \\n-----------------------...       1   \n",
              "20280  contact at instagram for doubts notes:-\\nhttps...      47   \n",
              "\n",
              "       video_view_count  label  \n",
              "11683          5.778978      1  \n",
              "14892          5.384982      1  \n",
              "21540          6.074111      1  \n",
              "4075           4.482845      0  \n",
              "2171           3.995591      0  \n",
              "...                 ...    ...  \n",
              "23360          0.301030      0  \n",
              "11858          2.607455      0  \n",
              "12996          3.859559      0  \n",
              "7290           1.568202      0  \n",
              "20280          4.590017      0  \n",
              "\n",
              "[5066 rows x 7 columns]"
            ],
            "text/html": [
              "\n",
              "  <div id=\"df-0968ecf9-06a7-482f-9fb6-29e0c5122d8e\" class=\"colab-df-container\">\n",
              "    <div>\n",
              "<style scoped>\n",
              "    .dataframe tbody tr th:only-of-type {\n",
              "        vertical-align: middle;\n",
              "    }\n",
              "\n",
              "    .dataframe tbody tr th {\n",
              "        vertical-align: top;\n",
              "    }\n",
              "\n",
              "    .dataframe thead th {\n",
              "        text-align: right;\n",
              "    }\n",
              "</style>\n",
              "<table border=\"1\" class=\"dataframe\">\n",
              "  <thead>\n",
              "    <tr style=\"text-align: right;\">\n",
              "      <th></th>\n",
              "      <th>channel_title</th>\n",
              "      <th>video_category</th>\n",
              "      <th>video_title</th>\n",
              "      <th>video_description</th>\n",
              "      <th>months</th>\n",
              "      <th>video_view_count</th>\n",
              "      <th>label</th>\n",
              "    </tr>\n",
              "  </thead>\n",
              "  <tbody>\n",
              "    <tr>\n",
              "      <th>11683</th>\n",
              "      <td>CrashCourse</td>\n",
              "      <td>Education</td>\n",
              "      <td>Micro-Biology: Crash Course History of Science...</td>\n",
              "      <td>It's all about the SUPER TINY in this episode ...</td>\n",
              "      <td>66</td>\n",
              "      <td>5.778978</td>\n",
              "      <td>1</td>\n",
              "    </tr>\n",
              "    <tr>\n",
              "      <th>14892</th>\n",
              "      <td>Padhle Tenthies</td>\n",
              "      <td>Education</td>\n",
              "      <td>Chemical Reactions and Equations Class 10 Scie...</td>\n",
              "      <td>Chemical Reactions and Equations Class 10 Scie...</td>\n",
              "      <td>23</td>\n",
              "      <td>5.384982</td>\n",
              "      <td>1</td>\n",
              "    </tr>\n",
              "    <tr>\n",
              "      <th>21540</th>\n",
              "      <td>Coding with Lewis</td>\n",
              "      <td>Science &amp; Technology</td>\n",
              "      <td>What code editor should you use? 👩‍💻 #technolo...</td>\n",
              "      <td></td>\n",
              "      <td>21</td>\n",
              "      <td>6.074111</td>\n",
              "      <td>1</td>\n",
              "    </tr>\n",
              "    <tr>\n",
              "      <th>4075</th>\n",
              "      <td>Hitesh Gohel</td>\n",
              "      <td>People &amp; Blogs</td>\n",
              "      <td>Redox reaction class 11th Science gujarati</td>\n",
              "      <td>Balancing Redox reaction in acidic medium</td>\n",
              "      <td>60</td>\n",
              "      <td>4.482845</td>\n",
              "      <td>0</td>\n",
              "    </tr>\n",
              "    <tr>\n",
              "      <th>2171</th>\n",
              "      <td>MCQ Questions Hub</td>\n",
              "      <td>Education</td>\n",
              "      <td>Magnetism (चुम्बकत्व) MCQ | Physics MCQ | MCQ ...</td>\n",
              "      <td>Magnetism (चुम्बकत्व) MCQ | Physics MCQ | MCQ ...</td>\n",
              "      <td>35</td>\n",
              "      <td>3.995591</td>\n",
              "      <td>0</td>\n",
              "    </tr>\n",
              "    <tr>\n",
              "      <th>...</th>\n",
              "      <td>...</td>\n",
              "      <td>...</td>\n",
              "      <td>...</td>\n",
              "      <td>...</td>\n",
              "      <td>...</td>\n",
              "      <td>...</td>\n",
              "      <td>...</td>\n",
              "    </tr>\n",
              "    <tr>\n",
              "      <th>23360</th>\n",
              "      <td>Espiri Ibarra</td>\n",
              "      <td>People &amp; Blogs</td>\n",
              "      <td>October 9, 2022</td>\n",
              "      <td></td>\n",
              "      <td>18</td>\n",
              "      <td>0.301030</td>\n",
              "      <td>0</td>\n",
              "    </tr>\n",
              "    <tr>\n",
              "      <th>11858</th>\n",
              "      <td>Happy Day</td>\n",
              "      <td>People &amp; Blogs</td>\n",
              "      <td>Kirchhoff's Law</td>\n",
              "      <td>Kirchhoff’s Law-Pfis19-2B-Mohammad Nafis Nailu...</td>\n",
              "      <td>46</td>\n",
              "      <td>2.607455</td>\n",
              "      <td>0</td>\n",
              "    </tr>\n",
              "    <tr>\n",
              "      <th>12996</th>\n",
              "      <td>Book Scribe</td>\n",
              "      <td>Education</td>\n",
              "      <td>NCERT Science Class 6 தமிழ் | Chapter 13 | Fun...</td>\n",
              "      <td>NCERT Science Class 6 - Chapter 13: Fun with m...</td>\n",
              "      <td>27</td>\n",
              "      <td>3.859559</td>\n",
              "      <td>0</td>\n",
              "    </tr>\n",
              "    <tr>\n",
              "      <th>7290</th>\n",
              "      <td>OBD Việt Nam - Dịch vụ TỪ XA</td>\n",
              "      <td>Autos &amp; Vehicles</td>\n",
              "      <td>Introduction SCR (Selective catalytic reductio...</td>\n",
              "      <td>#obdvietnam #service \\n-----------------------...</td>\n",
              "      <td>1</td>\n",
              "      <td>1.568202</td>\n",
              "      <td>0</td>\n",
              "    </tr>\n",
              "    <tr>\n",
              "      <th>20280</th>\n",
              "      <td>New Indian Era (NIE) - Prashant Tiwari</td>\n",
              "      <td>Education</td>\n",
              "      <td>Books came in MARKET for class 12th science | ...</td>\n",
              "      <td>contact at instagram for doubts notes:-\\nhttps...</td>\n",
              "      <td>47</td>\n",
              "      <td>4.590017</td>\n",
              "      <td>0</td>\n",
              "    </tr>\n",
              "  </tbody>\n",
              "</table>\n",
              "<p>5066 rows × 7 columns</p>\n",
              "</div>\n",
              "    <div class=\"colab-df-buttons\">\n",
              "\n",
              "  <div class=\"colab-df-container\">\n",
              "    <button class=\"colab-df-convert\" onclick=\"convertToInteractive('df-0968ecf9-06a7-482f-9fb6-29e0c5122d8e')\"\n",
              "            title=\"Convert this dataframe to an interactive table.\"\n",
              "            style=\"display:none;\">\n",
              "\n",
              "  <svg xmlns=\"http://www.w3.org/2000/svg\" height=\"24px\" viewBox=\"0 -960 960 960\">\n",
              "    <path d=\"M120-120v-720h720v720H120Zm60-500h600v-160H180v160Zm220 220h160v-160H400v160Zm0 220h160v-160H400v160ZM180-400h160v-160H180v160Zm440 0h160v-160H620v160ZM180-180h160v-160H180v160Zm440 0h160v-160H620v160Z\"/>\n",
              "  </svg>\n",
              "    </button>\n",
              "\n",
              "  <style>\n",
              "    .colab-df-container {\n",
              "      display:flex;\n",
              "      gap: 12px;\n",
              "    }\n",
              "\n",
              "    .colab-df-convert {\n",
              "      background-color: #E8F0FE;\n",
              "      border: none;\n",
              "      border-radius: 50%;\n",
              "      cursor: pointer;\n",
              "      display: none;\n",
              "      fill: #1967D2;\n",
              "      height: 32px;\n",
              "      padding: 0 0 0 0;\n",
              "      width: 32px;\n",
              "    }\n",
              "\n",
              "    .colab-df-convert:hover {\n",
              "      background-color: #E2EBFA;\n",
              "      box-shadow: 0px 1px 2px rgba(60, 64, 67, 0.3), 0px 1px 3px 1px rgba(60, 64, 67, 0.15);\n",
              "      fill: #174EA6;\n",
              "    }\n",
              "\n",
              "    .colab-df-buttons div {\n",
              "      margin-bottom: 4px;\n",
              "    }\n",
              "\n",
              "    [theme=dark] .colab-df-convert {\n",
              "      background-color: #3B4455;\n",
              "      fill: #D2E3FC;\n",
              "    }\n",
              "\n",
              "    [theme=dark] .colab-df-convert:hover {\n",
              "      background-color: #434B5C;\n",
              "      box-shadow: 0px 1px 3px 1px rgba(0, 0, 0, 0.15);\n",
              "      filter: drop-shadow(0px 1px 2px rgba(0, 0, 0, 0.3));\n",
              "      fill: #FFFFFF;\n",
              "    }\n",
              "  </style>\n",
              "\n",
              "    <script>\n",
              "      const buttonEl =\n",
              "        document.querySelector('#df-0968ecf9-06a7-482f-9fb6-29e0c5122d8e button.colab-df-convert');\n",
              "      buttonEl.style.display =\n",
              "        google.colab.kernel.accessAllowed ? 'block' : 'none';\n",
              "\n",
              "      async function convertToInteractive(key) {\n",
              "        const element = document.querySelector('#df-0968ecf9-06a7-482f-9fb6-29e0c5122d8e');\n",
              "        const dataTable =\n",
              "          await google.colab.kernel.invokeFunction('convertToInteractive',\n",
              "                                                    [key], {});\n",
              "        if (!dataTable) return;\n",
              "\n",
              "        const docLinkHtml = 'Like what you see? Visit the ' +\n",
              "          '<a target=\"_blank\" href=https://colab.research.google.com/notebooks/data_table.ipynb>data table notebook</a>'\n",
              "          + ' to learn more about interactive tables.';\n",
              "        element.innerHTML = '';\n",
              "        dataTable['output_type'] = 'display_data';\n",
              "        await google.colab.output.renderOutput(dataTable, element);\n",
              "        const docLink = document.createElement('div');\n",
              "        docLink.innerHTML = docLinkHtml;\n",
              "        element.appendChild(docLink);\n",
              "      }\n",
              "    </script>\n",
              "  </div>\n",
              "\n",
              "\n",
              "<div id=\"df-db8c9a0b-bd8e-45fa-9c2d-f20f9a2426d6\">\n",
              "  <button class=\"colab-df-quickchart\" onclick=\"quickchart('df-db8c9a0b-bd8e-45fa-9c2d-f20f9a2426d6')\"\n",
              "            title=\"Suggest charts\"\n",
              "            style=\"display:none;\">\n",
              "\n",
              "<svg xmlns=\"http://www.w3.org/2000/svg\" height=\"24px\"viewBox=\"0 0 24 24\"\n",
              "     width=\"24px\">\n",
              "    <g>\n",
              "        <path d=\"M19 3H5c-1.1 0-2 .9-2 2v14c0 1.1.9 2 2 2h14c1.1 0 2-.9 2-2V5c0-1.1-.9-2-2-2zM9 17H7v-7h2v7zm4 0h-2V7h2v10zm4 0h-2v-4h2v4z\"/>\n",
              "    </g>\n",
              "</svg>\n",
              "  </button>\n",
              "\n",
              "<style>\n",
              "  .colab-df-quickchart {\n",
              "      --bg-color: #E8F0FE;\n",
              "      --fill-color: #1967D2;\n",
              "      --hover-bg-color: #E2EBFA;\n",
              "      --hover-fill-color: #174EA6;\n",
              "      --disabled-fill-color: #AAA;\n",
              "      --disabled-bg-color: #DDD;\n",
              "  }\n",
              "\n",
              "  [theme=dark] .colab-df-quickchart {\n",
              "      --bg-color: #3B4455;\n",
              "      --fill-color: #D2E3FC;\n",
              "      --hover-bg-color: #434B5C;\n",
              "      --hover-fill-color: #FFFFFF;\n",
              "      --disabled-bg-color: #3B4455;\n",
              "      --disabled-fill-color: #666;\n",
              "  }\n",
              "\n",
              "  .colab-df-quickchart {\n",
              "    background-color: var(--bg-color);\n",
              "    border: none;\n",
              "    border-radius: 50%;\n",
              "    cursor: pointer;\n",
              "    display: none;\n",
              "    fill: var(--fill-color);\n",
              "    height: 32px;\n",
              "    padding: 0;\n",
              "    width: 32px;\n",
              "  }\n",
              "\n",
              "  .colab-df-quickchart:hover {\n",
              "    background-color: var(--hover-bg-color);\n",
              "    box-shadow: 0 1px 2px rgba(60, 64, 67, 0.3), 0 1px 3px 1px rgba(60, 64, 67, 0.15);\n",
              "    fill: var(--button-hover-fill-color);\n",
              "  }\n",
              "\n",
              "  .colab-df-quickchart-complete:disabled,\n",
              "  .colab-df-quickchart-complete:disabled:hover {\n",
              "    background-color: var(--disabled-bg-color);\n",
              "    fill: var(--disabled-fill-color);\n",
              "    box-shadow: none;\n",
              "  }\n",
              "\n",
              "  .colab-df-spinner {\n",
              "    border: 2px solid var(--fill-color);\n",
              "    border-color: transparent;\n",
              "    border-bottom-color: var(--fill-color);\n",
              "    animation:\n",
              "      spin 1s steps(1) infinite;\n",
              "  }\n",
              "\n",
              "  @keyframes spin {\n",
              "    0% {\n",
              "      border-color: transparent;\n",
              "      border-bottom-color: var(--fill-color);\n",
              "      border-left-color: var(--fill-color);\n",
              "    }\n",
              "    20% {\n",
              "      border-color: transparent;\n",
              "      border-left-color: var(--fill-color);\n",
              "      border-top-color: var(--fill-color);\n",
              "    }\n",
              "    30% {\n",
              "      border-color: transparent;\n",
              "      border-left-color: var(--fill-color);\n",
              "      border-top-color: var(--fill-color);\n",
              "      border-right-color: var(--fill-color);\n",
              "    }\n",
              "    40% {\n",
              "      border-color: transparent;\n",
              "      border-right-color: var(--fill-color);\n",
              "      border-top-color: var(--fill-color);\n",
              "    }\n",
              "    60% {\n",
              "      border-color: transparent;\n",
              "      border-right-color: var(--fill-color);\n",
              "    }\n",
              "    80% {\n",
              "      border-color: transparent;\n",
              "      border-right-color: var(--fill-color);\n",
              "      border-bottom-color: var(--fill-color);\n",
              "    }\n",
              "    90% {\n",
              "      border-color: transparent;\n",
              "      border-bottom-color: var(--fill-color);\n",
              "    }\n",
              "  }\n",
              "</style>\n",
              "\n",
              "  <script>\n",
              "    async function quickchart(key) {\n",
              "      const quickchartButtonEl =\n",
              "        document.querySelector('#' + key + ' button');\n",
              "      quickchartButtonEl.disabled = true;  // To prevent multiple clicks.\n",
              "      quickchartButtonEl.classList.add('colab-df-spinner');\n",
              "      try {\n",
              "        const charts = await google.colab.kernel.invokeFunction(\n",
              "            'suggestCharts', [key], {});\n",
              "      } catch (error) {\n",
              "        console.error('Error during call to suggestCharts:', error);\n",
              "      }\n",
              "      quickchartButtonEl.classList.remove('colab-df-spinner');\n",
              "      quickchartButtonEl.classList.add('colab-df-quickchart-complete');\n",
              "    }\n",
              "    (() => {\n",
              "      let quickchartButtonEl =\n",
              "        document.querySelector('#df-db8c9a0b-bd8e-45fa-9c2d-f20f9a2426d6 button');\n",
              "      quickchartButtonEl.style.display =\n",
              "        google.colab.kernel.accessAllowed ? 'block' : 'none';\n",
              "    })();\n",
              "  </script>\n",
              "</div>\n",
              "\n",
              "  <div id=\"id_6f6e2d4b-4e84-4577-983d-00df8a886f0d\">\n",
              "    <style>\n",
              "      .colab-df-generate {\n",
              "        background-color: #E8F0FE;\n",
              "        border: none;\n",
              "        border-radius: 50%;\n",
              "        cursor: pointer;\n",
              "        display: none;\n",
              "        fill: #1967D2;\n",
              "        height: 32px;\n",
              "        padding: 0 0 0 0;\n",
              "        width: 32px;\n",
              "      }\n",
              "\n",
              "      .colab-df-generate:hover {\n",
              "        background-color: #E2EBFA;\n",
              "        box-shadow: 0px 1px 2px rgba(60, 64, 67, 0.3), 0px 1px 3px 1px rgba(60, 64, 67, 0.15);\n",
              "        fill: #174EA6;\n",
              "      }\n",
              "\n",
              "      [theme=dark] .colab-df-generate {\n",
              "        background-color: #3B4455;\n",
              "        fill: #D2E3FC;\n",
              "      }\n",
              "\n",
              "      [theme=dark] .colab-df-generate:hover {\n",
              "        background-color: #434B5C;\n",
              "        box-shadow: 0px 1px 3px 1px rgba(0, 0, 0, 0.15);\n",
              "        filter: drop-shadow(0px 1px 2px rgba(0, 0, 0, 0.3));\n",
              "        fill: #FFFFFF;\n",
              "      }\n",
              "    </style>\n",
              "    <button class=\"colab-df-generate\" onclick=\"generateWithVariable('val')\"\n",
              "            title=\"Generate code using this dataframe.\"\n",
              "            style=\"display:none;\">\n",
              "\n",
              "  <svg xmlns=\"http://www.w3.org/2000/svg\" height=\"24px\"viewBox=\"0 0 24 24\"\n",
              "       width=\"24px\">\n",
              "    <path d=\"M7,19H8.4L18.45,9,17,7.55,7,17.6ZM5,21V16.75L18.45,3.32a2,2,0,0,1,2.83,0l1.4,1.43a1.91,1.91,0,0,1,.58,1.4,1.91,1.91,0,0,1-.58,1.4L9.25,21ZM18.45,9,17,7.55Zm-12,3A5.31,5.31,0,0,0,4.9,8.1,5.31,5.31,0,0,0,1,6.5,5.31,5.31,0,0,0,4.9,4.9,5.31,5.31,0,0,0,6.5,1,5.31,5.31,0,0,0,8.1,4.9,5.31,5.31,0,0,0,12,6.5,5.46,5.46,0,0,0,6.5,12Z\"/>\n",
              "  </svg>\n",
              "    </button>\n",
              "    <script>\n",
              "      (() => {\n",
              "      const buttonEl =\n",
              "        document.querySelector('#id_6f6e2d4b-4e84-4577-983d-00df8a886f0d button.colab-df-generate');\n",
              "      buttonEl.style.display =\n",
              "        google.colab.kernel.accessAllowed ? 'block' : 'none';\n",
              "\n",
              "      buttonEl.onclick = () => {\n",
              "        google.colab.notebook.generateWithVariable('val');\n",
              "      }\n",
              "      })();\n",
              "    </script>\n",
              "  </div>\n",
              "\n",
              "    </div>\n",
              "  </div>\n"
            ],
            "application/vnd.google.colaboratory.intrinsic+json": {
              "type": "dataframe",
              "variable_name": "val",
              "summary": "{\n  \"name\": \"val\",\n  \"rows\": 5066,\n  \"fields\": [\n    {\n      \"column\": \"channel_title\",\n      \"properties\": {\n        \"dtype\": \"string\",\n        \"num_unique_values\": 3329,\n        \"samples\": [\n          \"DEV HOMEO HEALTH CARE\",\n          \"wifistudy Studios by Unacademy\",\n          \"11th & 12th  Practical Book Answers\"\n        ],\n        \"semantic_type\": \"\",\n        \"description\": \"\"\n      }\n    },\n    {\n      \"column\": \"video_category\",\n      \"properties\": {\n        \"dtype\": \"category\",\n        \"num_unique_values\": 15,\n        \"samples\": [\n          \"Comedy\",\n          \"Music\",\n          \"Education\"\n        ],\n        \"semantic_type\": \"\",\n        \"description\": \"\"\n      }\n    },\n    {\n      \"column\": \"video_title\",\n      \"properties\": {\n        \"dtype\": \"string\",\n        \"num_unique_values\": 5045,\n        \"samples\": [\n          \"Transfer into Medicine With This Degree! (NOT Medical Science) | By a 5th Year Medic\",\n          \"BIG KEY FOR 4140 SHAFT \\ud83d\\udddd\\ufe0f #engineering #diy #machining\",\n          \"Profiles in Science - Barbara McClintock (1902-1992)\"\n        ],\n        \"semantic_type\": \"\",\n        \"description\": \"\"\n      }\n    },\n    {\n      \"column\": \"video_description\",\n      \"properties\": {\n        \"dtype\": \"string\",\n        \"num_unique_values\": 4179,\n        \"samples\": [\n          \"\\u200e\\u25b6 Free One-Minute Workout \\ud83d\\udc49  http://svelte.go2cloud.org/SHV\\n\\n\\u200e\\u25b6 Svelte Merch! \\ud83d\\udc49 https://svelte-training.creator-spring.com/\\n\\n\\u25b6 Svelte's Website \\ud83d\\udc49 http://www.sveltetraining.com/\\n\\nSay hi on social! \\ud83d\\udc47\\nFACEBOOK: https://www.facebook.com/SvelteTraining/\\nINSTAGRAM: https://www.instagram.com/svelte_training/\",\n          \"Online classes# HAPPY Teachers day#fun online#speech\",\n          \"#Einstine #RELATIVITY #gravity #blackhole #Einstine #education #RELATIVITY #gravity #education #science #newton\"\n        ],\n        \"semantic_type\": \"\",\n        \"description\": \"\"\n      }\n    },\n    {\n      \"column\": \"months\",\n      \"properties\": {\n        \"dtype\": \"number\",\n        \"std\": 21,\n        \"min\": 1,\n        \"max\": 76,\n        \"num_unique_values\": 76,\n        \"samples\": [\n          35,\n          46,\n          75\n        ],\n        \"semantic_type\": \"\",\n        \"description\": \"\"\n      }\n    },\n    {\n      \"column\": \"video_view_count\",\n      \"properties\": {\n        \"dtype\": \"number\",\n        \"std\": 1.4311094304197447,\n        \"min\": 0.0,\n        \"max\": 8.494090536426286,\n        \"num_unique_values\": 4532,\n        \"samples\": [\n          4.525109622271933,\n          4.883746582586868,\n          3.584670384464349\n        ],\n        \"semantic_type\": \"\",\n        \"description\": \"\"\n      }\n    },\n    {\n      \"column\": \"label\",\n      \"properties\": {\n        \"dtype\": \"number\",\n        \"std\": 0,\n        \"min\": 0,\n        \"max\": 1,\n        \"num_unique_values\": 2,\n        \"samples\": [\n          0,\n          1\n        ],\n        \"semantic_type\": \"\",\n        \"description\": \"\"\n      }\n    }\n  ]\n}"
            }
          },
          "metadata": {},
          "execution_count": 7
        }
      ]
    },
    {
      "cell_type": "markdown",
      "metadata": {
        "id": "4zhtlq8G-_ly"
      },
      "source": [
        "We will now define functions to import the pre-trained model from the huggingface transformers library."
      ]
    },
    {
      "cell_type": "code",
      "execution_count": 8,
      "metadata": {
        "execution": {
          "iopub.execute_input": "2024-05-29T11:59:20.163175Z",
          "iopub.status.busy": "2024-05-29T11:59:20.162903Z",
          "iopub.status.idle": "2024-05-29T11:59:35.131936Z",
          "shell.execute_reply": "2024-05-29T11:59:35.131089Z",
          "shell.execute_reply.started": "2024-05-29T11:59:20.163139Z"
        },
        "id": "jwaWHfBxB2Zx"
      },
      "outputs": [],
      "source": [
        "from transformers import TFDistilBertForSequenceClassification, DistilBertConfig\n",
        "from transformers import DistilBertTokenizerFast\n",
        "\n",
        "def get_tokenizer_model():\n",
        "    tokenizer = DistilBertTokenizerFast.from_pretrained('distilbert-base-cased')\n",
        "    model = TFDistilBertForSequenceClassification.from_pretrained('distilbert-base-cased', num_labels=2)\n",
        "    return tokenizer,model"
      ]
    },
    {
      "cell_type": "code",
      "execution_count": 9,
      "metadata": {
        "colab": {
          "base_uri": "https://localhost:8080/"
        },
        "execution": {
          "iopub.execute_input": "2024-05-29T11:59:35.133582Z",
          "iopub.status.busy": "2024-05-29T11:59:35.133073Z",
          "iopub.status.idle": "2024-05-29T11:59:39.678127Z",
          "shell.execute_reply": "2024-05-29T11:59:39.677354Z",
          "shell.execute_reply.started": "2024-05-29T11:59:35.133556Z"
        },
        "id": "5X21SmcU_NZi",
        "outputId": "00957ba3-e2bc-4751-863f-851883f4ecff"
      },
      "outputs": [
        {
          "output_type": "stream",
          "name": "stderr",
          "text": [
            "/usr/local/lib/python3.10/dist-packages/huggingface_hub/utils/_token.py:89: UserWarning: \n",
            "The secret `HF_TOKEN` does not exist in your Colab secrets.\n",
            "To authenticate with the Hugging Face Hub, create a token in your settings tab (https://huggingface.co/settings/tokens), set it as secret in your Google Colab and restart your session.\n",
            "You will be able to reuse this secret in all of your notebooks.\n",
            "Please note that authentication is recommended but still optional to access public models or datasets.\n",
            "  warnings.warn(\n",
            "Some weights of the PyTorch model were not used when initializing the TF 2.0 model TFDistilBertForSequenceClassification: ['vocab_layer_norm.bias', 'vocab_projector.bias', 'vocab_transform.bias', 'vocab_layer_norm.weight', 'vocab_transform.weight']\n",
            "- This IS expected if you are initializing TFDistilBertForSequenceClassification from a PyTorch model trained on another task or with another architecture (e.g. initializing a TFBertForSequenceClassification model from a BertForPreTraining model).\n",
            "- This IS NOT expected if you are initializing TFDistilBertForSequenceClassification from a PyTorch model that you expect to be exactly identical (e.g. initializing a TFBertForSequenceClassification model from a BertForSequenceClassification model).\n",
            "Some weights or buffers of the TF 2.0 model TFDistilBertForSequenceClassification were not initialized from the PyTorch model and are newly initialized: ['pre_classifier.weight', 'pre_classifier.bias', 'classifier.weight', 'classifier.bias']\n",
            "You should probably TRAIN this model on a down-stream task to be able to use it for predictions and inference.\n"
          ]
        }
      ],
      "source": [
        "tokenizer,model = get_tokenizer_model()"
      ]
    },
    {
      "cell_type": "markdown",
      "metadata": {
        "id": "7-FlgxmN_cx5"
      },
      "source": [
        "We will use keras to fine-tune the pre-trained models on our human and AI-generated texts. Let's define a function that prepares text samples for training, and then prepare the training and validation data."
      ]
    },
    {
      "cell_type": "code",
      "execution_count": 12,
      "metadata": {
        "execution": {
          "iopub.execute_input": "2024-05-29T11:59:39.680098Z",
          "iopub.status.busy": "2024-05-29T11:59:39.679846Z",
          "iopub.status.idle": "2024-05-29T11:59:39.685738Z",
          "shell.execute_reply": "2024-05-29T11:59:39.684745Z",
          "shell.execute_reply.started": "2024-05-29T11:59:39.680074Z"
        },
        "id": "pXQReDx_BxED"
      },
      "outputs": [],
      "source": [
        "import tensorflow as tf\n",
        "from tensorflow.keras.preprocessing.sequence import pad_sequences\n",
        "\n",
        "sep_token = tokenizer.convert_tokens_to_ids('[SEP]')\n",
        "cls_token = tokenizer.convert_tokens_to_ids('[CLS]')\n",
        "\n",
        "def create_dataset(samples):\n",
        "    encodings = {col: tokenizer(samples[col].tolist(), add_special_tokens=False)['input_ids'] for col in ['channel_title', 'video_title', 'video_description', 'video_category']}\n",
        "    encodings = [[cls_token] + channel_title + [sep_token] + video_title + [sep_token] + video_description + [sep_token] + video_category + [sep_token]\n",
        "                  for channel_title, video_title, video_description, video_category\n",
        "                  in zip(encodings['channel_title'], encodings['video_title'], encodings['video_description'], encodings['video_category'])]\n",
        "    encodings = pad_sequences(encodings, maxlen=tokenizer.model_max_length, padding='post', truncating='post', value=tokenizer.pad_token_id)\n",
        "\n",
        "    return tf.data.Dataset.from_tensor_slices((encodings,samples['label'].tolist())).shuffle(len(samples)).batch(16)"
      ]
    },
    {
      "cell_type": "code",
      "execution_count": 13,
      "metadata": {
        "execution": {
          "iopub.execute_input": "2024-05-29T05:52:02.425967Z",
          "iopub.status.busy": "2024-05-29T05:52:02.425666Z",
          "iopub.status.idle": "2024-05-29T05:53:13.622142Z",
          "shell.execute_reply": "2024-05-29T05:53:13.621070Z",
          "shell.execute_reply.started": "2024-05-29T05:52:02.425930Z"
        },
        "id": "-75bWfZa9S0Y"
      },
      "outputs": [],
      "source": [
        "train_dataset = create_dataset(train)\n",
        "val_dataset = create_dataset(val)"
      ]
    },
    {
      "cell_type": "markdown",
      "metadata": {
        "id": "jPW_3PRHCAnj"
      },
      "source": [
        "Next we can define our functions to compile and train the model. I'll create a custom callback that saves the model to a specified directory."
      ]
    },
    {
      "cell_type": "code",
      "execution_count": 17,
      "metadata": {
        "execution": {
          "iopub.execute_input": "2024-05-29T11:59:57.471788Z",
          "iopub.status.busy": "2024-05-29T11:59:57.470919Z",
          "iopub.status.idle": "2024-05-29T11:59:57.901414Z",
          "shell.execute_reply": "2024-05-29T11:59:57.900592Z",
          "shell.execute_reply.started": "2024-05-29T11:59:57.471755Z"
        },
        "id": "8CzyRDzR8n5D"
      },
      "outputs": [],
      "source": [
        "import numpy as np\n",
        "\n",
        "from tensorflow.keras.optimizers import RMSprop\n",
        "from tensorflow.keras.callbacks import EarlyStopping,ModelCheckpoint,LearningRateScheduler\n",
        "\n",
        "import math\n",
        "\n",
        "import keras\n",
        "from keras.callbacks import Callback\n",
        "\n",
        "last_epoch = 0\n",
        "\n",
        "def compile_model(model):\n",
        "    model.compile(optimizer=RMSprop(learning_rate=learning_rate),\n",
        "                  metrics = ['accuracy'])\n",
        "    model.config.id2label = {0: 'human', 1: 'AI'}\n",
        "\n",
        "def fit_model(model):\n",
        "    history = model.fit(train_dataset,\n",
        "        epochs=epochs,\n",
        "        batch_size=batch_size,\n",
        "        callbacks=[LearningRateScheduler(lr_scheduler),\n",
        "                   EarlyStopping(monitor=\"val_loss\", patience=3)],\n",
        "        validation_data=val_dataset,\n",
        "        verbose=1)\n",
        "\n"
      ]
    },
    {
      "cell_type": "markdown",
      "metadata": {
        "id": "ZI1vGYhDAJI4"
      },
      "source": [
        "We can now compile and fine tune the keras model. I'll start training at a learning rate of 10$^{-5}$ then reduce it by a factor of 10 for 3 more epochs."
      ]
    },
    {
      "cell_type": "code",
      "execution_count": 15,
      "metadata": {
        "execution": {
          "iopub.execute_input": "2024-05-29T05:53:13.782349Z",
          "iopub.status.busy": "2024-05-29T05:53:13.782058Z",
          "iopub.status.idle": "2024-05-29T05:53:13.805160Z",
          "shell.execute_reply": "2024-05-29T05:53:13.804217Z",
          "shell.execute_reply.started": "2024-05-29T05:53:13.782313Z"
        },
        "id": "wMSxnCqlqeZj"
      },
      "outputs": [],
      "source": [
        "learning_rate = 1e-5\n",
        "compile_model(model)"
      ]
    },
    {
      "cell_type": "code",
      "execution_count": 16,
      "metadata": {
        "id": "eKy6dFhGqeZj"
      },
      "outputs": [],
      "source": [
        "def lr_scheduler(epoch, lr):\n",
        "    return learning_rate*(0.5**epoch)"
      ]
    },
    {
      "cell_type": "code",
      "execution_count": 18,
      "metadata": {
        "execution": {
          "iopub.execute_input": "2024-05-29T05:53:13.806500Z",
          "iopub.status.busy": "2024-05-29T05:53:13.806213Z",
          "iopub.status.idle": "2024-05-29T05:53:13.810461Z",
          "shell.execute_reply": "2024-05-29T05:53:13.809605Z",
          "shell.execute_reply.started": "2024-05-29T05:53:13.806475Z"
        },
        "id": "mlU8HhrPqeZj"
      },
      "outputs": [],
      "source": [
        "epochs = 20\n",
        "batch_size=128"
      ]
    },
    {
      "cell_type": "code",
      "execution_count": 19,
      "metadata": {
        "execution": {
          "iopub.execute_input": "2024-05-29T05:53:13.813854Z",
          "iopub.status.busy": "2024-05-29T05:53:13.813542Z",
          "iopub.status.idle": "2024-05-29T06:10:02.859103Z",
          "shell.execute_reply": "2024-05-29T06:10:02.858198Z",
          "shell.execute_reply.started": "2024-05-29T05:53:13.813826Z"
        },
        "colab": {
          "base_uri": "https://localhost:8080/"
        },
        "id": "R3K9ERVWqeZk",
        "outputId": "e9b7884f-aeab-4ec7-fee5-e864d355461b"
      },
      "outputs": [
        {
          "output_type": "stream",
          "name": "stdout",
          "text": [
            "Epoch 1/20\n"
          ]
        },
        {
          "output_type": "stream",
          "name": "stderr",
          "text": [
            "WARNING:tensorflow:AutoGraph could not transform <function infer_framework at 0x7f8481590940> and will run it as-is.\n",
            "Cause: for/else statement not yet supported\n",
            "To silence this warning, decorate the function with @tf.autograph.experimental.do_not_convert\n"
          ]
        },
        {
          "output_type": "stream",
          "name": "stdout",
          "text": [
            "WARNING: AutoGraph could not transform <function infer_framework at 0x7f8481590940> and will run it as-is.\n",
            "Cause: for/else statement not yet supported\n",
            "To silence this warning, decorate the function with @tf.autograph.experimental.do_not_convert\n",
            "1267/1267 [==============================] - 1355s 1s/step - loss: 0.6008 - accuracy: 0.6637 - val_loss: 0.5492 - val_accuracy: 0.7185 - lr: 1.0000e-05\n",
            "Epoch 2/20\n",
            "1267/1267 [==============================] - 1311s 1s/step - loss: 0.5203 - accuracy: 0.7421 - val_loss: 0.5088 - val_accuracy: 0.7574 - lr: 5.0000e-06\n",
            "Epoch 3/20\n",
            "1267/1267 [==============================] - 1308s 1s/step - loss: 0.4788 - accuracy: 0.7728 - val_loss: 0.5005 - val_accuracy: 0.7580 - lr: 2.5000e-06\n",
            "Epoch 4/20\n",
            "1267/1267 [==============================] - 1310s 1s/step - loss: 0.4523 - accuracy: 0.7922 - val_loss: 0.5083 - val_accuracy: 0.7604 - lr: 1.2500e-06\n",
            "Epoch 5/20\n",
            "1267/1267 [==============================] - 1311s 1s/step - loss: 0.4373 - accuracy: 0.7988 - val_loss: 0.4946 - val_accuracy: 0.7623 - lr: 6.2500e-07\n",
            "Epoch 6/20\n",
            "1267/1267 [==============================] - 1306s 1s/step - loss: 0.4321 - accuracy: 0.8038 - val_loss: 0.4922 - val_accuracy: 0.7604 - lr: 3.1250e-07\n",
            "Epoch 7/20\n",
            "1267/1267 [==============================] - 1306s 1s/step - loss: 0.4267 - accuracy: 0.8056 - val_loss: 0.4923 - val_accuracy: 0.7598 - lr: 1.5625e-07\n",
            "Epoch 8/20\n",
            "1267/1267 [==============================] - 1306s 1s/step - loss: 0.4253 - accuracy: 0.8095 - val_loss: 0.4923 - val_accuracy: 0.7606 - lr: 7.8125e-08\n",
            "Epoch 9/20\n",
            "1267/1267 [==============================] - 1308s 1s/step - loss: 0.4231 - accuracy: 0.8086 - val_loss: 0.4924 - val_accuracy: 0.7612 - lr: 3.9062e-08\n"
          ]
        }
      ],
      "source": [
        "fit_model(model)"
      ]
    },
    {
      "cell_type": "code",
      "source": [
        "def lr_scheduler(epoch, lr):\n",
        "    return 1e-7"
      ],
      "metadata": {
        "id": "JWloamBhosDL"
      },
      "execution_count": 20,
      "outputs": []
    },
    {
      "cell_type": "code",
      "source": [
        "fit_model(model)"
      ],
      "metadata": {
        "id": "mSaoxBHqo8gk",
        "outputId": "a54f21b8-c1e8-4e83-c8f6-34ce768cf764",
        "colab": {
          "base_uri": "https://localhost:8080/"
        }
      },
      "execution_count": 21,
      "outputs": [
        {
          "output_type": "stream",
          "name": "stdout",
          "text": [
            "Epoch 1/20\n",
            "1267/1267 [==============================] - 1298s 1s/step - loss: 0.4220 - accuracy: 0.8090 - val_loss: 0.4929 - val_accuracy: 0.7610 - lr: 1.0000e-07\n",
            "Epoch 2/20\n",
            "1267/1267 [==============================] - 1309s 1s/step - loss: 0.4197 - accuracy: 0.8108 - val_loss: 0.4927 - val_accuracy: 0.7606 - lr: 1.0000e-07\n",
            "Epoch 3/20\n",
            "1267/1267 [==============================] - 1311s 1s/step - loss: 0.4217 - accuracy: 0.8101 - val_loss: 0.4926 - val_accuracy: 0.7625 - lr: 1.0000e-07\n",
            "Epoch 4/20\n",
            "1267/1267 [==============================] - 1308s 1s/step - loss: 0.4198 - accuracy: 0.8101 - val_loss: 0.4921 - val_accuracy: 0.7621 - lr: 1.0000e-07\n",
            "Epoch 5/20\n",
            "1267/1267 [==============================] - 1307s 1s/step - loss: 0.4182 - accuracy: 0.8131 - val_loss: 0.4916 - val_accuracy: 0.7623 - lr: 1.0000e-07\n",
            "Epoch 6/20\n",
            "1267/1267 [==============================] - 1309s 1s/step - loss: 0.4180 - accuracy: 0.8140 - val_loss: 0.4913 - val_accuracy: 0.7619 - lr: 1.0000e-07\n",
            "Epoch 7/20\n",
            "1267/1267 [==============================] - 1307s 1s/step - loss: 0.4165 - accuracy: 0.8137 - val_loss: 0.4919 - val_accuracy: 0.7614 - lr: 1.0000e-07\n",
            "Epoch 8/20\n",
            "1267/1267 [==============================] - 1310s 1s/step - loss: 0.4145 - accuracy: 0.8152 - val_loss: 0.4920 - val_accuracy: 0.7635 - lr: 1.0000e-07\n",
            "Epoch 9/20\n",
            "1267/1267 [==============================] - 1306s 1s/step - loss: 0.4158 - accuracy: 0.8141 - val_loss: 0.4911 - val_accuracy: 0.7633 - lr: 1.0000e-07\n",
            "Epoch 10/20\n",
            "1267/1267 [==============================] - 1308s 1s/step - loss: 0.4140 - accuracy: 0.8149 - val_loss: 0.4912 - val_accuracy: 0.7635 - lr: 1.0000e-07\n",
            "Epoch 11/20\n",
            "1267/1267 [==============================] - 1310s 1s/step - loss: 0.4129 - accuracy: 0.8144 - val_loss: 0.4911 - val_accuracy: 0.7637 - lr: 1.0000e-07\n",
            "Epoch 12/20\n",
            "1267/1267 [==============================] - 1307s 1s/step - loss: 0.4104 - accuracy: 0.8167 - val_loss: 0.4912 - val_accuracy: 0.7639 - lr: 1.0000e-07\n",
            "Epoch 13/20\n",
            "1267/1267 [==============================] - 1308s 1s/step - loss: 0.4120 - accuracy: 0.8143 - val_loss: 0.4911 - val_accuracy: 0.7637 - lr: 1.0000e-07\n",
            "Epoch 14/20\n",
            "1267/1267 [==============================] - 1309s 1s/step - loss: 0.4082 - accuracy: 0.8182 - val_loss: 0.4920 - val_accuracy: 0.7647 - lr: 1.0000e-07\n",
            "Epoch 15/20\n",
            "1267/1267 [==============================] - 1313s 1s/step - loss: 0.4049 - accuracy: 0.8200 - val_loss: 0.4916 - val_accuracy: 0.7635 - lr: 1.0000e-07\n",
            "Epoch 16/20\n",
            "1267/1267 [==============================] - 1308s 1s/step - loss: 0.4084 - accuracy: 0.8185 - val_loss: 0.4918 - val_accuracy: 0.7657 - lr: 1.0000e-07\n"
          ]
        }
      ]
    },
    {
      "cell_type": "code",
      "source": [],
      "metadata": {
        "id": "3uX6yjQBBG2F"
      },
      "execution_count": null,
      "outputs": []
    },
    {
      "cell_type": "code",
      "source": [
        "fit_model(model)"
      ],
      "metadata": {
        "colab": {
          "base_uri": "https://localhost:8080/"
        },
        "id": "xsTibtuB2Ukt",
        "outputId": "f101bbc3-3973-40ff-c767-0c2ad3f17d1d"
      },
      "execution_count": 16,
      "outputs": [
        {
          "output_type": "stream",
          "name": "stdout",
          "text": [
            "1267/1267 [==============================] - 1233s 973ms/step - loss: 0.5374 - accuracy: 0.7302 - val_loss: 0.5448 - val_accuracy: 0.7235 - lr: 1.0000e-05\n"
          ]
        }
      ]
    },
    {
      "cell_type": "code",
      "source": [
        "fit_model(model)"
      ],
      "metadata": {
        "colab": {
          "base_uri": "https://localhost:8080/"
        },
        "id": "Up_Ilvfg6OvZ",
        "outputId": "d468718b-653c-454d-edc5-09a890d24669"
      },
      "execution_count": 17,
      "outputs": [
        {
          "output_type": "stream",
          "name": "stdout",
          "text": [
            "1267/1267 [==============================] - 1232s 972ms/step - loss: 0.4880 - accuracy: 0.7669 - val_loss: 0.5207 - val_accuracy: 0.7527 - lr: 1.0000e-05\n"
          ]
        }
      ]
    },
    {
      "cell_type": "code",
      "source": [
        "fit_model(model)"
      ],
      "metadata": {
        "colab": {
          "base_uri": "https://localhost:8080/"
        },
        "id": "6m8sWn7l6PU2",
        "outputId": "ab714f98-4b82-4feb-d98b-c9f1ff8d163e"
      },
      "execution_count": 18,
      "outputs": [
        {
          "output_type": "stream",
          "name": "stdout",
          "text": [
            "1267/1267 [==============================] - 1222s 965ms/step - loss: 0.4377 - accuracy: 0.7967 - val_loss: 0.5551 - val_accuracy: 0.7430 - lr: 1.0000e-05\n"
          ]
        }
      ]
    },
    {
      "cell_type": "code",
      "source": [
        "fit_model(model)"
      ],
      "metadata": {
        "colab": {
          "base_uri": "https://localhost:8080/"
        },
        "id": "teLyERdZ6P0w",
        "outputId": "1f49c7a8-fd9d-4f0e-e27a-27d156fa2001"
      },
      "execution_count": 19,
      "outputs": [
        {
          "output_type": "stream",
          "name": "stdout",
          "text": [
            "1267/1267 [==============================] - 1222s 965ms/step - loss: 0.3812 - accuracy: 0.8254 - val_loss: 0.6175 - val_accuracy: 0.7294 - lr: 1.0000e-05\n"
          ]
        }
      ]
    },
    {
      "cell_type": "code",
      "source": [
        "fit_model(model)"
      ],
      "metadata": {
        "colab": {
          "base_uri": "https://localhost:8080/"
        },
        "id": "djLk7Dwp6Qa3",
        "outputId": "5d57bf17-7c4c-4e63-96ea-9e2efef7a2c3"
      },
      "execution_count": 20,
      "outputs": [
        {
          "output_type": "stream",
          "name": "stdout",
          "text": [
            "1267/1267 [==============================] - 1229s 970ms/step - loss: 0.3266 - accuracy: 0.8548 - val_loss: 0.5972 - val_accuracy: 0.7531 - lr: 1.0000e-05\n"
          ]
        }
      ]
    },
    {
      "cell_type": "code",
      "source": [
        "fit_model(model)"
      ],
      "metadata": {
        "colab": {
          "base_uri": "https://localhost:8080/"
        },
        "id": "dj-HgKgG6u5s",
        "outputId": "b03655f8-6761-4b89-da92-1e6c0b5fbe97"
      },
      "execution_count": 21,
      "outputs": [
        {
          "output_type": "stream",
          "name": "stdout",
          "text": [
            "1267/1267 [==============================] - 1233s 973ms/step - loss: 0.2821 - accuracy: 0.8745 - val_loss: 0.6864 - val_accuracy: 0.7487 - lr: 1.0000e-05\n"
          ]
        }
      ]
    },
    {
      "cell_type": "code",
      "source": [
        "fit_model(model)"
      ],
      "metadata": {
        "colab": {
          "base_uri": "https://localhost:8080/"
        },
        "id": "Y1WoL30C6vXl",
        "outputId": "89e70de4-9e3b-4380-cea1-7a67062f0645"
      },
      "execution_count": 22,
      "outputs": [
        {
          "output_type": "stream",
          "name": "stdout",
          "text": [
            "1267/1267 [==============================] - 1234s 974ms/step - loss: 0.2435 - accuracy: 0.8930 - val_loss: 0.7275 - val_accuracy: 0.7410 - lr: 1.0000e-05\n"
          ]
        }
      ]
    },
    {
      "cell_type": "code",
      "source": [
        "fit_model(model)"
      ],
      "metadata": {
        "colab": {
          "base_uri": "https://localhost:8080/"
        },
        "id": "CDQ2Mn5o6vvR",
        "outputId": "73c582fb-ca98-4a18-db8a-2a7b501f8894"
      },
      "execution_count": 23,
      "outputs": [
        {
          "output_type": "stream",
          "name": "stdout",
          "text": [
            "1267/1267 [==============================] - 1233s 973ms/step - loss: 0.2163 - accuracy: 0.9038 - val_loss: 0.9025 - val_accuracy: 0.7475 - lr: 1.0000e-05\n"
          ]
        }
      ]
    },
    {
      "cell_type": "code",
      "source": [
        "fit_model(model)"
      ],
      "metadata": {
        "colab": {
          "base_uri": "https://localhost:8080/"
        },
        "id": "bNqVEniS6wBQ",
        "outputId": "37345717-4467-49ce-b7cd-ca6fb891b223"
      },
      "execution_count": 24,
      "outputs": [
        {
          "output_type": "stream",
          "name": "stdout",
          "text": [
            "1267/1267 [==============================] - 1233s 973ms/step - loss: 0.2008 - accuracy: 0.9105 - val_loss: 0.9068 - val_accuracy: 0.7444 - lr: 1.0000e-05\n"
          ]
        }
      ]
    },
    {
      "cell_type": "code",
      "source": [
        "fit_model(model)"
      ],
      "metadata": {
        "colab": {
          "base_uri": "https://localhost:8080/"
        },
        "id": "nN4Zhs2x6yhA",
        "outputId": "e031d2f8-3f3b-44b4-94e5-00ebf1b1f90c"
      },
      "execution_count": 25,
      "outputs": [
        {
          "output_type": "stream",
          "name": "stdout",
          "text": [
            "1267/1267 [==============================] - 1234s 974ms/step - loss: 0.1884 - accuracy: 0.9159 - val_loss: 0.9449 - val_accuracy: 0.7477 - lr: 1.0000e-05\n"
          ]
        }
      ]
    },
    {
      "cell_type": "code",
      "source": [
        "fit_model(model)"
      ],
      "metadata": {
        "colab": {
          "base_uri": "https://localhost:8080/",
          "height": 304
        },
        "id": "KQOkLIt36y9p",
        "outputId": "24c2cb2b-b3f9-4b24-ad56-54eb4caecf19"
      },
      "execution_count": 26,
      "outputs": [
        {
          "output_type": "stream",
          "name": "stdout",
          "text": [
            "1267/1267 [==============================] - ETA: 0s - loss: 0.1751 - accuracy: 0.9212"
          ]
        },
        {
          "output_type": "error",
          "ename": "KeyboardInterrupt",
          "evalue": "",
          "traceback": [
            "\u001b[0;31m---------------------------------------------------------------------------\u001b[0m",
            "\u001b[0;31mKeyboardInterrupt\u001b[0m                         Traceback (most recent call last)",
            "\u001b[0;32m<ipython-input-26-c59a81b70a61>\u001b[0m in \u001b[0;36m<cell line: 1>\u001b[0;34m()\u001b[0m\n\u001b[0;32m----> 1\u001b[0;31m \u001b[0mfit_model\u001b[0m\u001b[0;34m(\u001b[0m\u001b[0mmodel\u001b[0m\u001b[0;34m)\u001b[0m\u001b[0;34m\u001b[0m\u001b[0;34m\u001b[0m\u001b[0m\n\u001b[0m",
            "\u001b[0;32m<ipython-input-11-d6edf63ebf51>\u001b[0m in \u001b[0;36mfit_model\u001b[0;34m(model)\u001b[0m\n\u001b[1;32m     17\u001b[0m \u001b[0;34m\u001b[0m\u001b[0m\n\u001b[1;32m     18\u001b[0m \u001b[0;32mdef\u001b[0m \u001b[0mfit_model\u001b[0m\u001b[0;34m(\u001b[0m\u001b[0mmodel\u001b[0m\u001b[0;34m)\u001b[0m\u001b[0;34m:\u001b[0m\u001b[0;34m\u001b[0m\u001b[0;34m\u001b[0m\u001b[0m\n\u001b[0;32m---> 19\u001b[0;31m     history = model.fit(train_dataset,\n\u001b[0m\u001b[1;32m     20\u001b[0m         \u001b[0mepochs\u001b[0m\u001b[0;34m=\u001b[0m\u001b[0mepochs\u001b[0m\u001b[0;34m,\u001b[0m\u001b[0;34m\u001b[0m\u001b[0;34m\u001b[0m\u001b[0m\n\u001b[1;32m     21\u001b[0m         \u001b[0mbatch_size\u001b[0m\u001b[0;34m=\u001b[0m\u001b[0mbatch_size\u001b[0m\u001b[0;34m,\u001b[0m\u001b[0;34m\u001b[0m\u001b[0;34m\u001b[0m\u001b[0m\n",
            "\u001b[0;32m/usr/local/lib/python3.10/dist-packages/transformers/modeling_tf_utils.py\u001b[0m in \u001b[0;36mfit\u001b[0;34m(self, *args, **kwargs)\u001b[0m\n\u001b[1;32m   1227\u001b[0m     \u001b[0;32mdef\u001b[0m \u001b[0mfit\u001b[0m\u001b[0;34m(\u001b[0m\u001b[0mself\u001b[0m\u001b[0;34m,\u001b[0m \u001b[0;34m*\u001b[0m\u001b[0margs\u001b[0m\u001b[0;34m,\u001b[0m \u001b[0;34m**\u001b[0m\u001b[0mkwargs\u001b[0m\u001b[0;34m)\u001b[0m\u001b[0;34m:\u001b[0m\u001b[0;34m\u001b[0m\u001b[0;34m\u001b[0m\u001b[0m\n\u001b[1;32m   1228\u001b[0m         \u001b[0margs\u001b[0m\u001b[0;34m,\u001b[0m \u001b[0mkwargs\u001b[0m \u001b[0;34m=\u001b[0m \u001b[0mconvert_batch_encoding\u001b[0m\u001b[0;34m(\u001b[0m\u001b[0;34m*\u001b[0m\u001b[0margs\u001b[0m\u001b[0;34m,\u001b[0m \u001b[0;34m**\u001b[0m\u001b[0mkwargs\u001b[0m\u001b[0;34m)\u001b[0m\u001b[0;34m\u001b[0m\u001b[0;34m\u001b[0m\u001b[0m\n\u001b[0;32m-> 1229\u001b[0;31m         \u001b[0;32mreturn\u001b[0m \u001b[0msuper\u001b[0m\u001b[0;34m(\u001b[0m\u001b[0;34m)\u001b[0m\u001b[0;34m.\u001b[0m\u001b[0mfit\u001b[0m\u001b[0;34m(\u001b[0m\u001b[0;34m*\u001b[0m\u001b[0margs\u001b[0m\u001b[0;34m,\u001b[0m \u001b[0;34m**\u001b[0m\u001b[0mkwargs\u001b[0m\u001b[0;34m)\u001b[0m\u001b[0;34m\u001b[0m\u001b[0;34m\u001b[0m\u001b[0m\n\u001b[0m\u001b[1;32m   1230\u001b[0m \u001b[0;34m\u001b[0m\u001b[0m\n\u001b[1;32m   1231\u001b[0m     \u001b[0;34m@\u001b[0m\u001b[0mfunctools\u001b[0m\u001b[0;34m.\u001b[0m\u001b[0mwraps\u001b[0m\u001b[0;34m(\u001b[0m\u001b[0mkeras\u001b[0m\u001b[0;34m.\u001b[0m\u001b[0mModel\u001b[0m\u001b[0;34m.\u001b[0m\u001b[0mtrain_on_batch\u001b[0m\u001b[0;34m)\u001b[0m\u001b[0;34m\u001b[0m\u001b[0;34m\u001b[0m\u001b[0m\n",
            "\u001b[0;32m/usr/local/lib/python3.10/dist-packages/tf_keras/src/utils/traceback_utils.py\u001b[0m in \u001b[0;36merror_handler\u001b[0;34m(*args, **kwargs)\u001b[0m\n\u001b[1;32m     63\u001b[0m         \u001b[0mfiltered_tb\u001b[0m \u001b[0;34m=\u001b[0m \u001b[0;32mNone\u001b[0m\u001b[0;34m\u001b[0m\u001b[0;34m\u001b[0m\u001b[0m\n\u001b[1;32m     64\u001b[0m         \u001b[0;32mtry\u001b[0m\u001b[0;34m:\u001b[0m\u001b[0;34m\u001b[0m\u001b[0;34m\u001b[0m\u001b[0m\n\u001b[0;32m---> 65\u001b[0;31m             \u001b[0;32mreturn\u001b[0m \u001b[0mfn\u001b[0m\u001b[0;34m(\u001b[0m\u001b[0;34m*\u001b[0m\u001b[0margs\u001b[0m\u001b[0;34m,\u001b[0m \u001b[0;34m**\u001b[0m\u001b[0mkwargs\u001b[0m\u001b[0;34m)\u001b[0m\u001b[0;34m\u001b[0m\u001b[0;34m\u001b[0m\u001b[0m\n\u001b[0m\u001b[1;32m     66\u001b[0m         \u001b[0;32mexcept\u001b[0m \u001b[0mException\u001b[0m \u001b[0;32mas\u001b[0m \u001b[0me\u001b[0m\u001b[0;34m:\u001b[0m\u001b[0;34m\u001b[0m\u001b[0;34m\u001b[0m\u001b[0m\n\u001b[1;32m     67\u001b[0m             \u001b[0mfiltered_tb\u001b[0m \u001b[0;34m=\u001b[0m \u001b[0m_process_traceback_frames\u001b[0m\u001b[0;34m(\u001b[0m\u001b[0me\u001b[0m\u001b[0;34m.\u001b[0m\u001b[0m__traceback__\u001b[0m\u001b[0;34m)\u001b[0m\u001b[0;34m\u001b[0m\u001b[0;34m\u001b[0m\u001b[0m\n",
            "\u001b[0;32m/usr/local/lib/python3.10/dist-packages/tf_keras/src/engine/training.py\u001b[0m in \u001b[0;36mfit\u001b[0;34m(self, x, y, batch_size, epochs, verbose, callbacks, validation_split, validation_data, shuffle, class_weight, sample_weight, initial_epoch, steps_per_epoch, validation_steps, validation_batch_size, validation_freq, max_queue_size, workers, use_multiprocessing)\u001b[0m\n\u001b[1;32m   1851\u001b[0m                             \u001b[0mpss_evaluation_shards\u001b[0m\u001b[0;34m=\u001b[0m\u001b[0mself\u001b[0m\u001b[0;34m.\u001b[0m\u001b[0m_pss_evaluation_shards\u001b[0m\u001b[0;34m,\u001b[0m\u001b[0;34m\u001b[0m\u001b[0;34m\u001b[0m\u001b[0m\n\u001b[1;32m   1852\u001b[0m                         )\n\u001b[0;32m-> 1853\u001b[0;31m                     val_logs = self.evaluate(\n\u001b[0m\u001b[1;32m   1854\u001b[0m                         \u001b[0mx\u001b[0m\u001b[0;34m=\u001b[0m\u001b[0mval_x\u001b[0m\u001b[0;34m,\u001b[0m\u001b[0;34m\u001b[0m\u001b[0;34m\u001b[0m\u001b[0m\n\u001b[1;32m   1855\u001b[0m                         \u001b[0my\u001b[0m\u001b[0;34m=\u001b[0m\u001b[0mval_y\u001b[0m\u001b[0;34m,\u001b[0m\u001b[0;34m\u001b[0m\u001b[0;34m\u001b[0m\u001b[0m\n",
            "\u001b[0;32m/usr/local/lib/python3.10/dist-packages/transformers/modeling_tf_utils.py\u001b[0m in \u001b[0;36mevaluate\u001b[0;34m(self, *args, **kwargs)\u001b[0m\n\u001b[1;32m   1252\u001b[0m     \u001b[0;32mdef\u001b[0m \u001b[0mevaluate\u001b[0m\u001b[0;34m(\u001b[0m\u001b[0mself\u001b[0m\u001b[0;34m,\u001b[0m \u001b[0;34m*\u001b[0m\u001b[0margs\u001b[0m\u001b[0;34m,\u001b[0m \u001b[0;34m**\u001b[0m\u001b[0mkwargs\u001b[0m\u001b[0;34m)\u001b[0m\u001b[0;34m:\u001b[0m\u001b[0;34m\u001b[0m\u001b[0;34m\u001b[0m\u001b[0m\n\u001b[1;32m   1253\u001b[0m         \u001b[0margs\u001b[0m\u001b[0;34m,\u001b[0m \u001b[0mkwargs\u001b[0m \u001b[0;34m=\u001b[0m \u001b[0mconvert_batch_encoding\u001b[0m\u001b[0;34m(\u001b[0m\u001b[0;34m*\u001b[0m\u001b[0margs\u001b[0m\u001b[0;34m,\u001b[0m \u001b[0;34m**\u001b[0m\u001b[0mkwargs\u001b[0m\u001b[0;34m)\u001b[0m\u001b[0;34m\u001b[0m\u001b[0;34m\u001b[0m\u001b[0m\n\u001b[0;32m-> 1254\u001b[0;31m         \u001b[0;32mreturn\u001b[0m \u001b[0msuper\u001b[0m\u001b[0;34m(\u001b[0m\u001b[0;34m)\u001b[0m\u001b[0;34m.\u001b[0m\u001b[0mevaluate\u001b[0m\u001b[0;34m(\u001b[0m\u001b[0;34m*\u001b[0m\u001b[0margs\u001b[0m\u001b[0;34m,\u001b[0m \u001b[0;34m**\u001b[0m\u001b[0mkwargs\u001b[0m\u001b[0;34m)\u001b[0m\u001b[0;34m\u001b[0m\u001b[0;34m\u001b[0m\u001b[0m\n\u001b[0m\u001b[1;32m   1255\u001b[0m \u001b[0;34m\u001b[0m\u001b[0m\n\u001b[1;32m   1256\u001b[0m     \u001b[0;34m@\u001b[0m\u001b[0mclassmethod\u001b[0m\u001b[0;34m\u001b[0m\u001b[0;34m\u001b[0m\u001b[0m\n",
            "\u001b[0;32m/usr/local/lib/python3.10/dist-packages/tf_keras/src/utils/traceback_utils.py\u001b[0m in \u001b[0;36merror_handler\u001b[0;34m(*args, **kwargs)\u001b[0m\n\u001b[1;32m     63\u001b[0m         \u001b[0mfiltered_tb\u001b[0m \u001b[0;34m=\u001b[0m \u001b[0;32mNone\u001b[0m\u001b[0;34m\u001b[0m\u001b[0;34m\u001b[0m\u001b[0m\n\u001b[1;32m     64\u001b[0m         \u001b[0;32mtry\u001b[0m\u001b[0;34m:\u001b[0m\u001b[0;34m\u001b[0m\u001b[0;34m\u001b[0m\u001b[0m\n\u001b[0;32m---> 65\u001b[0;31m             \u001b[0;32mreturn\u001b[0m \u001b[0mfn\u001b[0m\u001b[0;34m(\u001b[0m\u001b[0;34m*\u001b[0m\u001b[0margs\u001b[0m\u001b[0;34m,\u001b[0m \u001b[0;34m**\u001b[0m\u001b[0mkwargs\u001b[0m\u001b[0;34m)\u001b[0m\u001b[0;34m\u001b[0m\u001b[0;34m\u001b[0m\u001b[0m\n\u001b[0m\u001b[1;32m     66\u001b[0m         \u001b[0;32mexcept\u001b[0m \u001b[0mException\u001b[0m \u001b[0;32mas\u001b[0m \u001b[0me\u001b[0m\u001b[0;34m:\u001b[0m\u001b[0;34m\u001b[0m\u001b[0;34m\u001b[0m\u001b[0m\n\u001b[1;32m     67\u001b[0m             \u001b[0mfiltered_tb\u001b[0m \u001b[0;34m=\u001b[0m \u001b[0m_process_traceback_frames\u001b[0m\u001b[0;34m(\u001b[0m\u001b[0me\u001b[0m\u001b[0;34m.\u001b[0m\u001b[0m__traceback__\u001b[0m\u001b[0;34m)\u001b[0m\u001b[0;34m\u001b[0m\u001b[0;34m\u001b[0m\u001b[0m\n",
            "\u001b[0;32m/usr/local/lib/python3.10/dist-packages/tf_keras/src/engine/training.py\u001b[0m in \u001b[0;36mevaluate\u001b[0;34m(self, x, y, batch_size, verbose, sample_weight, steps, callbacks, max_queue_size, workers, use_multiprocessing, return_dict, **kwargs)\u001b[0m\n\u001b[1;32m   2290\u001b[0m                         ):\n\u001b[1;32m   2291\u001b[0m                             \u001b[0mcallbacks\u001b[0m\u001b[0;34m.\u001b[0m\u001b[0mon_test_batch_begin\u001b[0m\u001b[0;34m(\u001b[0m\u001b[0mstep\u001b[0m\u001b[0;34m)\u001b[0m\u001b[0;34m\u001b[0m\u001b[0;34m\u001b[0m\u001b[0m\n\u001b[0;32m-> 2292\u001b[0;31m                             logs = test_function_runner.run_step(\n\u001b[0m\u001b[1;32m   2293\u001b[0m                                 \u001b[0mdataset_or_iterator\u001b[0m\u001b[0;34m,\u001b[0m\u001b[0;34m\u001b[0m\u001b[0;34m\u001b[0m\u001b[0m\n\u001b[1;32m   2294\u001b[0m                                 \u001b[0mdata_handler\u001b[0m\u001b[0;34m,\u001b[0m\u001b[0;34m\u001b[0m\u001b[0;34m\u001b[0m\u001b[0m\n",
            "\u001b[0;32m/usr/local/lib/python3.10/dist-packages/tf_keras/src/engine/training.py\u001b[0m in \u001b[0;36mrun_step\u001b[0;34m(self, dataset_or_iterator, data_handler, step, unused_shards)\u001b[0m\n\u001b[1;32m   4098\u001b[0m \u001b[0;34m\u001b[0m\u001b[0m\n\u001b[1;32m   4099\u001b[0m     \u001b[0;32mdef\u001b[0m \u001b[0mrun_step\u001b[0m\u001b[0;34m(\u001b[0m\u001b[0mself\u001b[0m\u001b[0;34m,\u001b[0m \u001b[0mdataset_or_iterator\u001b[0m\u001b[0;34m,\u001b[0m \u001b[0mdata_handler\u001b[0m\u001b[0;34m,\u001b[0m \u001b[0mstep\u001b[0m\u001b[0;34m,\u001b[0m \u001b[0munused_shards\u001b[0m\u001b[0;34m)\u001b[0m\u001b[0;34m:\u001b[0m\u001b[0;34m\u001b[0m\u001b[0;34m\u001b[0m\u001b[0m\n\u001b[0;32m-> 4100\u001b[0;31m         \u001b[0mtmp_logs\u001b[0m \u001b[0;34m=\u001b[0m \u001b[0mself\u001b[0m\u001b[0;34m.\u001b[0m\u001b[0m_function\u001b[0m\u001b[0;34m(\u001b[0m\u001b[0mdataset_or_iterator\u001b[0m\u001b[0;34m)\u001b[0m\u001b[0;34m\u001b[0m\u001b[0;34m\u001b[0m\u001b[0m\n\u001b[0m\u001b[1;32m   4101\u001b[0m         \u001b[0;32mif\u001b[0m \u001b[0mdata_handler\u001b[0m\u001b[0;34m.\u001b[0m\u001b[0mshould_sync\u001b[0m\u001b[0;34m:\u001b[0m\u001b[0;34m\u001b[0m\u001b[0;34m\u001b[0m\u001b[0m\n\u001b[1;32m   4102\u001b[0m             \u001b[0mcontext\u001b[0m\u001b[0;34m.\u001b[0m\u001b[0masync_wait\u001b[0m\u001b[0;34m(\u001b[0m\u001b[0;34m)\u001b[0m\u001b[0;34m\u001b[0m\u001b[0;34m\u001b[0m\u001b[0m\n",
            "\u001b[0;32m/usr/local/lib/python3.10/dist-packages/tensorflow/python/util/traceback_utils.py\u001b[0m in \u001b[0;36merror_handler\u001b[0;34m(*args, **kwargs)\u001b[0m\n\u001b[1;32m    148\u001b[0m     \u001b[0mfiltered_tb\u001b[0m \u001b[0;34m=\u001b[0m \u001b[0;32mNone\u001b[0m\u001b[0;34m\u001b[0m\u001b[0;34m\u001b[0m\u001b[0m\n\u001b[1;32m    149\u001b[0m     \u001b[0;32mtry\u001b[0m\u001b[0;34m:\u001b[0m\u001b[0;34m\u001b[0m\u001b[0;34m\u001b[0m\u001b[0m\n\u001b[0;32m--> 150\u001b[0;31m       \u001b[0;32mreturn\u001b[0m \u001b[0mfn\u001b[0m\u001b[0;34m(\u001b[0m\u001b[0;34m*\u001b[0m\u001b[0margs\u001b[0m\u001b[0;34m,\u001b[0m \u001b[0;34m**\u001b[0m\u001b[0mkwargs\u001b[0m\u001b[0;34m)\u001b[0m\u001b[0;34m\u001b[0m\u001b[0;34m\u001b[0m\u001b[0m\n\u001b[0m\u001b[1;32m    151\u001b[0m     \u001b[0;32mexcept\u001b[0m \u001b[0mException\u001b[0m \u001b[0;32mas\u001b[0m \u001b[0me\u001b[0m\u001b[0;34m:\u001b[0m\u001b[0;34m\u001b[0m\u001b[0;34m\u001b[0m\u001b[0m\n\u001b[1;32m    152\u001b[0m       \u001b[0mfiltered_tb\u001b[0m \u001b[0;34m=\u001b[0m \u001b[0m_process_traceback_frames\u001b[0m\u001b[0;34m(\u001b[0m\u001b[0me\u001b[0m\u001b[0;34m.\u001b[0m\u001b[0m__traceback__\u001b[0m\u001b[0;34m)\u001b[0m\u001b[0;34m\u001b[0m\u001b[0;34m\u001b[0m\u001b[0m\n",
            "\u001b[0;32m/usr/local/lib/python3.10/dist-packages/tensorflow/python/eager/polymorphic_function/polymorphic_function.py\u001b[0m in \u001b[0;36m__call__\u001b[0;34m(self, *args, **kwds)\u001b[0m\n\u001b[1;32m    830\u001b[0m \u001b[0;34m\u001b[0m\u001b[0m\n\u001b[1;32m    831\u001b[0m       \u001b[0;32mwith\u001b[0m \u001b[0mOptionalXlaContext\u001b[0m\u001b[0;34m(\u001b[0m\u001b[0mself\u001b[0m\u001b[0;34m.\u001b[0m\u001b[0m_jit_compile\u001b[0m\u001b[0;34m)\u001b[0m\u001b[0;34m:\u001b[0m\u001b[0;34m\u001b[0m\u001b[0;34m\u001b[0m\u001b[0m\n\u001b[0;32m--> 832\u001b[0;31m         \u001b[0mresult\u001b[0m \u001b[0;34m=\u001b[0m \u001b[0mself\u001b[0m\u001b[0;34m.\u001b[0m\u001b[0m_call\u001b[0m\u001b[0;34m(\u001b[0m\u001b[0;34m*\u001b[0m\u001b[0margs\u001b[0m\u001b[0;34m,\u001b[0m \u001b[0;34m**\u001b[0m\u001b[0mkwds\u001b[0m\u001b[0;34m)\u001b[0m\u001b[0;34m\u001b[0m\u001b[0;34m\u001b[0m\u001b[0m\n\u001b[0m\u001b[1;32m    833\u001b[0m \u001b[0;34m\u001b[0m\u001b[0m\n\u001b[1;32m    834\u001b[0m       \u001b[0mnew_tracing_count\u001b[0m \u001b[0;34m=\u001b[0m \u001b[0mself\u001b[0m\u001b[0;34m.\u001b[0m\u001b[0mexperimental_get_tracing_count\u001b[0m\u001b[0;34m(\u001b[0m\u001b[0;34m)\u001b[0m\u001b[0;34m\u001b[0m\u001b[0;34m\u001b[0m\u001b[0m\n",
            "\u001b[0;32m/usr/local/lib/python3.10/dist-packages/tensorflow/python/eager/polymorphic_function/polymorphic_function.py\u001b[0m in \u001b[0;36m_call\u001b[0;34m(self, *args, **kwds)\u001b[0m\n\u001b[1;32m    875\u001b[0m       \u001b[0;31m# In this case we have not created variables on the first call. So we can\u001b[0m\u001b[0;34m\u001b[0m\u001b[0;34m\u001b[0m\u001b[0m\n\u001b[1;32m    876\u001b[0m       \u001b[0;31m# run the first trace but we should fail if variables are created.\u001b[0m\u001b[0;34m\u001b[0m\u001b[0;34m\u001b[0m\u001b[0m\n\u001b[0;32m--> 877\u001b[0;31m       results = tracing_compilation.call_function(\n\u001b[0m\u001b[1;32m    878\u001b[0m           \u001b[0margs\u001b[0m\u001b[0;34m,\u001b[0m \u001b[0mkwds\u001b[0m\u001b[0;34m,\u001b[0m \u001b[0mself\u001b[0m\u001b[0;34m.\u001b[0m\u001b[0m_variable_creation_config\u001b[0m\u001b[0;34m\u001b[0m\u001b[0;34m\u001b[0m\u001b[0m\n\u001b[1;32m    879\u001b[0m       )\n",
            "\u001b[0;32m/usr/local/lib/python3.10/dist-packages/tensorflow/python/eager/polymorphic_function/tracing_compilation.py\u001b[0m in \u001b[0;36mcall_function\u001b[0;34m(args, kwargs, tracing_options)\u001b[0m\n\u001b[1;32m    137\u001b[0m   \u001b[0mbound_args\u001b[0m \u001b[0;34m=\u001b[0m \u001b[0mfunction\u001b[0m\u001b[0;34m.\u001b[0m\u001b[0mfunction_type\u001b[0m\u001b[0;34m.\u001b[0m\u001b[0mbind\u001b[0m\u001b[0;34m(\u001b[0m\u001b[0;34m*\u001b[0m\u001b[0margs\u001b[0m\u001b[0;34m,\u001b[0m \u001b[0;34m**\u001b[0m\u001b[0mkwargs\u001b[0m\u001b[0;34m)\u001b[0m\u001b[0;34m\u001b[0m\u001b[0;34m\u001b[0m\u001b[0m\n\u001b[1;32m    138\u001b[0m   \u001b[0mflat_inputs\u001b[0m \u001b[0;34m=\u001b[0m \u001b[0mfunction\u001b[0m\u001b[0;34m.\u001b[0m\u001b[0mfunction_type\u001b[0m\u001b[0;34m.\u001b[0m\u001b[0munpack_inputs\u001b[0m\u001b[0;34m(\u001b[0m\u001b[0mbound_args\u001b[0m\u001b[0;34m)\u001b[0m\u001b[0;34m\u001b[0m\u001b[0;34m\u001b[0m\u001b[0m\n\u001b[0;32m--> 139\u001b[0;31m   return function._call_flat(  # pylint: disable=protected-access\n\u001b[0m\u001b[1;32m    140\u001b[0m       \u001b[0mflat_inputs\u001b[0m\u001b[0;34m,\u001b[0m \u001b[0mcaptured_inputs\u001b[0m\u001b[0;34m=\u001b[0m\u001b[0mfunction\u001b[0m\u001b[0;34m.\u001b[0m\u001b[0mcaptured_inputs\u001b[0m\u001b[0;34m\u001b[0m\u001b[0;34m\u001b[0m\u001b[0m\n\u001b[1;32m    141\u001b[0m   )\n",
            "\u001b[0;32m/usr/local/lib/python3.10/dist-packages/tensorflow/python/eager/polymorphic_function/concrete_function.py\u001b[0m in \u001b[0;36m_call_flat\u001b[0;34m(self, tensor_inputs, captured_inputs)\u001b[0m\n\u001b[1;32m   1321\u001b[0m         and executing_eagerly):\n\u001b[1;32m   1322\u001b[0m       \u001b[0;31m# No tape is watching; skip to running the function.\u001b[0m\u001b[0;34m\u001b[0m\u001b[0;34m\u001b[0m\u001b[0m\n\u001b[0;32m-> 1323\u001b[0;31m       \u001b[0;32mreturn\u001b[0m \u001b[0mself\u001b[0m\u001b[0;34m.\u001b[0m\u001b[0m_inference_function\u001b[0m\u001b[0;34m.\u001b[0m\u001b[0mcall_preflattened\u001b[0m\u001b[0;34m(\u001b[0m\u001b[0margs\u001b[0m\u001b[0;34m)\u001b[0m\u001b[0;34m\u001b[0m\u001b[0;34m\u001b[0m\u001b[0m\n\u001b[0m\u001b[1;32m   1324\u001b[0m     forward_backward = self._select_forward_and_backward_functions(\n\u001b[1;32m   1325\u001b[0m         \u001b[0margs\u001b[0m\u001b[0;34m,\u001b[0m\u001b[0;34m\u001b[0m\u001b[0;34m\u001b[0m\u001b[0m\n",
            "\u001b[0;32m/usr/local/lib/python3.10/dist-packages/tensorflow/python/eager/polymorphic_function/atomic_function.py\u001b[0m in \u001b[0;36mcall_preflattened\u001b[0;34m(self, args)\u001b[0m\n\u001b[1;32m    214\u001b[0m   \u001b[0;32mdef\u001b[0m \u001b[0mcall_preflattened\u001b[0m\u001b[0;34m(\u001b[0m\u001b[0mself\u001b[0m\u001b[0;34m,\u001b[0m \u001b[0margs\u001b[0m\u001b[0;34m:\u001b[0m \u001b[0mSequence\u001b[0m\u001b[0;34m[\u001b[0m\u001b[0mcore\u001b[0m\u001b[0;34m.\u001b[0m\u001b[0mTensor\u001b[0m\u001b[0;34m]\u001b[0m\u001b[0;34m)\u001b[0m \u001b[0;34m->\u001b[0m \u001b[0mAny\u001b[0m\u001b[0;34m:\u001b[0m\u001b[0;34m\u001b[0m\u001b[0;34m\u001b[0m\u001b[0m\n\u001b[1;32m    215\u001b[0m     \u001b[0;34m\"\"\"Calls with flattened tensor inputs and returns the structured output.\"\"\"\u001b[0m\u001b[0;34m\u001b[0m\u001b[0;34m\u001b[0m\u001b[0m\n\u001b[0;32m--> 216\u001b[0;31m     \u001b[0mflat_outputs\u001b[0m \u001b[0;34m=\u001b[0m \u001b[0mself\u001b[0m\u001b[0;34m.\u001b[0m\u001b[0mcall_flat\u001b[0m\u001b[0;34m(\u001b[0m\u001b[0;34m*\u001b[0m\u001b[0margs\u001b[0m\u001b[0;34m)\u001b[0m\u001b[0;34m\u001b[0m\u001b[0;34m\u001b[0m\u001b[0m\n\u001b[0m\u001b[1;32m    217\u001b[0m     \u001b[0;32mreturn\u001b[0m \u001b[0mself\u001b[0m\u001b[0;34m.\u001b[0m\u001b[0mfunction_type\u001b[0m\u001b[0;34m.\u001b[0m\u001b[0mpack_output\u001b[0m\u001b[0;34m(\u001b[0m\u001b[0mflat_outputs\u001b[0m\u001b[0;34m)\u001b[0m\u001b[0;34m\u001b[0m\u001b[0;34m\u001b[0m\u001b[0m\n\u001b[1;32m    218\u001b[0m \u001b[0;34m\u001b[0m\u001b[0m\n",
            "\u001b[0;32m/usr/local/lib/python3.10/dist-packages/tensorflow/python/eager/polymorphic_function/atomic_function.py\u001b[0m in \u001b[0;36mcall_flat\u001b[0;34m(self, *args)\u001b[0m\n\u001b[1;32m    249\u001b[0m         \u001b[0;32mwith\u001b[0m \u001b[0mrecord\u001b[0m\u001b[0;34m.\u001b[0m\u001b[0mstop_recording\u001b[0m\u001b[0;34m(\u001b[0m\u001b[0;34m)\u001b[0m\u001b[0;34m:\u001b[0m\u001b[0;34m\u001b[0m\u001b[0;34m\u001b[0m\u001b[0m\n\u001b[1;32m    250\u001b[0m           \u001b[0;32mif\u001b[0m \u001b[0mself\u001b[0m\u001b[0;34m.\u001b[0m\u001b[0m_bound_context\u001b[0m\u001b[0;34m.\u001b[0m\u001b[0mexecuting_eagerly\u001b[0m\u001b[0;34m(\u001b[0m\u001b[0;34m)\u001b[0m\u001b[0;34m:\u001b[0m\u001b[0;34m\u001b[0m\u001b[0;34m\u001b[0m\u001b[0m\n\u001b[0;32m--> 251\u001b[0;31m             outputs = self._bound_context.call_function(\n\u001b[0m\u001b[1;32m    252\u001b[0m                 \u001b[0mself\u001b[0m\u001b[0;34m.\u001b[0m\u001b[0mname\u001b[0m\u001b[0;34m,\u001b[0m\u001b[0;34m\u001b[0m\u001b[0;34m\u001b[0m\u001b[0m\n\u001b[1;32m    253\u001b[0m                 \u001b[0mlist\u001b[0m\u001b[0;34m(\u001b[0m\u001b[0margs\u001b[0m\u001b[0;34m)\u001b[0m\u001b[0;34m,\u001b[0m\u001b[0;34m\u001b[0m\u001b[0;34m\u001b[0m\u001b[0m\n",
            "\u001b[0;32m/usr/local/lib/python3.10/dist-packages/tensorflow/python/eager/context.py\u001b[0m in \u001b[0;36mcall_function\u001b[0;34m(self, name, tensor_inputs, num_outputs)\u001b[0m\n\u001b[1;32m   1484\u001b[0m     \u001b[0mcancellation_context\u001b[0m \u001b[0;34m=\u001b[0m \u001b[0mcancellation\u001b[0m\u001b[0;34m.\u001b[0m\u001b[0mcontext\u001b[0m\u001b[0;34m(\u001b[0m\u001b[0;34m)\u001b[0m\u001b[0;34m\u001b[0m\u001b[0;34m\u001b[0m\u001b[0m\n\u001b[1;32m   1485\u001b[0m     \u001b[0;32mif\u001b[0m \u001b[0mcancellation_context\u001b[0m \u001b[0;32mis\u001b[0m \u001b[0;32mNone\u001b[0m\u001b[0;34m:\u001b[0m\u001b[0;34m\u001b[0m\u001b[0;34m\u001b[0m\u001b[0m\n\u001b[0;32m-> 1486\u001b[0;31m       outputs = execute.execute(\n\u001b[0m\u001b[1;32m   1487\u001b[0m           \u001b[0mname\u001b[0m\u001b[0;34m.\u001b[0m\u001b[0mdecode\u001b[0m\u001b[0;34m(\u001b[0m\u001b[0;34m\"utf-8\"\u001b[0m\u001b[0;34m)\u001b[0m\u001b[0;34m,\u001b[0m\u001b[0;34m\u001b[0m\u001b[0;34m\u001b[0m\u001b[0m\n\u001b[1;32m   1488\u001b[0m           \u001b[0mnum_outputs\u001b[0m\u001b[0;34m=\u001b[0m\u001b[0mnum_outputs\u001b[0m\u001b[0;34m,\u001b[0m\u001b[0;34m\u001b[0m\u001b[0;34m\u001b[0m\u001b[0m\n",
            "\u001b[0;32m/usr/local/lib/python3.10/dist-packages/tensorflow/python/eager/execute.py\u001b[0m in \u001b[0;36mquick_execute\u001b[0;34m(op_name, num_outputs, inputs, attrs, ctx, name)\u001b[0m\n\u001b[1;32m     51\u001b[0m   \u001b[0;32mtry\u001b[0m\u001b[0;34m:\u001b[0m\u001b[0;34m\u001b[0m\u001b[0;34m\u001b[0m\u001b[0m\n\u001b[1;32m     52\u001b[0m     \u001b[0mctx\u001b[0m\u001b[0;34m.\u001b[0m\u001b[0mensure_initialized\u001b[0m\u001b[0;34m(\u001b[0m\u001b[0;34m)\u001b[0m\u001b[0;34m\u001b[0m\u001b[0;34m\u001b[0m\u001b[0m\n\u001b[0;32m---> 53\u001b[0;31m     tensors = pywrap_tfe.TFE_Py_Execute(ctx._handle, device_name, op_name,\n\u001b[0m\u001b[1;32m     54\u001b[0m                                         inputs, attrs, num_outputs)\n\u001b[1;32m     55\u001b[0m   \u001b[0;32mexcept\u001b[0m \u001b[0mcore\u001b[0m\u001b[0;34m.\u001b[0m\u001b[0m_NotOkStatusException\u001b[0m \u001b[0;32mas\u001b[0m \u001b[0me\u001b[0m\u001b[0;34m:\u001b[0m\u001b[0;34m\u001b[0m\u001b[0;34m\u001b[0m\u001b[0m\n",
            "\u001b[0;31mKeyboardInterrupt\u001b[0m: "
          ]
        }
      ]
    },
    {
      "cell_type": "code",
      "source": [
        "fit_model(model)"
      ],
      "metadata": {
        "id": "UIJwTB156zQq"
      },
      "execution_count": null,
      "outputs": []
    },
    {
      "cell_type": "code",
      "source": [
        "fit_model(model)"
      ],
      "metadata": {
        "id": "0XQvyyAz6ziw"
      },
      "execution_count": null,
      "outputs": []
    },
    {
      "cell_type": "code",
      "source": [
        "fit_model(model)"
      ],
      "metadata": {
        "id": "04zVDh9o6z0c"
      },
      "execution_count": null,
      "outputs": []
    },
    {
      "cell_type": "code",
      "source": [
        "fit_model(model)"
      ],
      "metadata": {
        "id": "C5m_vY_Y60FL"
      },
      "execution_count": null,
      "outputs": []
    },
    {
      "cell_type": "code",
      "source": [
        "fit_model(model)"
      ],
      "metadata": {
        "id": "OPGcdkb260XH"
      },
      "execution_count": null,
      "outputs": []
    },
    {
      "cell_type": "code",
      "source": [
        "fit_model(model)"
      ],
      "metadata": {
        "id": "p3q_9RC560mF"
      },
      "execution_count": null,
      "outputs": []
    },
    {
      "cell_type": "code",
      "source": [
        "fit_model(model)"
      ],
      "metadata": {
        "id": "IMJtoJNE60_7"
      },
      "execution_count": null,
      "outputs": []
    },
    {
      "cell_type": "code",
      "source": [
        "fit_model(model)"
      ],
      "metadata": {
        "id": "0mCSIgD661SX"
      },
      "execution_count": null,
      "outputs": []
    },
    {
      "cell_type": "code",
      "execution_count": null,
      "metadata": {
        "execution": {
          "iopub.execute_input": "2024-05-29T06:10:02.860749Z",
          "iopub.status.busy": "2024-05-29T06:10:02.860442Z",
          "iopub.status.idle": "2024-05-29T06:10:02.865757Z",
          "shell.execute_reply": "2024-05-29T06:10:02.864595Z",
          "shell.execute_reply.started": "2024-05-29T06:10:02.860720Z"
        },
        "id": "56tPGUKRqeZk"
      },
      "outputs": [],
      "source": [
        "learning_rate = 1e-6"
      ]
    },
    {
      "cell_type": "code",
      "execution_count": null,
      "metadata": {
        "execution": {
          "iopub.execute_input": "2024-05-29T06:10:02.867260Z",
          "iopub.status.busy": "2024-05-29T06:10:02.866889Z",
          "iopub.status.idle": "2024-05-29T06:25:49.288580Z",
          "shell.execute_reply": "2024-05-29T06:25:49.287502Z",
          "shell.execute_reply.started": "2024-05-29T06:10:02.867222Z"
        },
        "id": "n35z6EGDqeZk",
        "outputId": "3180fd2f-d421-4d22-ae66-e1fbd0580c40"
      },
      "outputs": [
        {
          "name": "stdout",
          "output_type": "stream",
          "text": [
            "956/956 [==============================] - 946s 990ms/step - loss: 0.0122 - accuracy: 0.9967 - val_loss: 0.0193 - val_accuracy: 0.9953 - lr: 1.0000e-06\n"
          ]
        }
      ],
      "source": [
        "fit_model(model)"
      ]
    },
    {
      "cell_type": "code",
      "execution_count": null,
      "metadata": {
        "execution": {
          "iopub.execute_input": "2024-05-29T06:25:49.290197Z",
          "iopub.status.busy": "2024-05-29T06:25:49.289880Z",
          "iopub.status.idle": "2024-05-29T06:25:49.294784Z",
          "shell.execute_reply": "2024-05-29T06:25:49.293810Z",
          "shell.execute_reply.started": "2024-05-29T06:25:49.290168Z"
        },
        "id": "YHUhUSSOqeZl"
      },
      "outputs": [],
      "source": [
        "learning_rate = 1e-7"
      ]
    },
    {
      "cell_type": "code",
      "execution_count": null,
      "metadata": {
        "execution": {
          "iopub.execute_input": "2024-05-29T06:25:49.296397Z",
          "iopub.status.busy": "2024-05-29T06:25:49.296037Z",
          "iopub.status.idle": "2024-05-29T06:41:35.256591Z",
          "shell.execute_reply": "2024-05-29T06:41:35.255574Z",
          "shell.execute_reply.started": "2024-05-29T06:25:49.296364Z"
        },
        "id": "GJ7qfTWXqeZl",
        "outputId": "5c1db9ba-f228-41fc-b407-da6cf5586721"
      },
      "outputs": [
        {
          "name": "stdout",
          "output_type": "stream",
          "text": [
            "956/956 [==============================] - 946s 990ms/step - loss: 0.0097 - accuracy: 0.9974 - val_loss: 0.0220 - val_accuracy: 0.9940 - lr: 1.0000e-07\n"
          ]
        }
      ],
      "source": [
        "fit_model(model)"
      ]
    },
    {
      "cell_type": "code",
      "execution_count": null,
      "metadata": {
        "execution": {
          "iopub.execute_input": "2024-05-29T06:41:35.258115Z",
          "iopub.status.busy": "2024-05-29T06:41:35.257826Z",
          "iopub.status.idle": "2024-05-29T06:41:35.262850Z",
          "shell.execute_reply": "2024-05-29T06:41:35.261821Z",
          "shell.execute_reply.started": "2024-05-29T06:41:35.258089Z"
        },
        "id": "5TNItAFwqeZl"
      },
      "outputs": [],
      "source": [
        "learning_rate = 1e-8"
      ]
    },
    {
      "cell_type": "code",
      "execution_count": null,
      "metadata": {
        "execution": {
          "iopub.execute_input": "2024-05-29T06:41:35.264887Z",
          "iopub.status.busy": "2024-05-29T06:41:35.264235Z",
          "iopub.status.idle": "2024-05-29T06:57:20.774309Z",
          "shell.execute_reply": "2024-05-29T06:57:20.773378Z",
          "shell.execute_reply.started": "2024-05-29T06:41:35.264851Z"
        },
        "id": "tZLPMjAHqeZm",
        "outputId": "e8a09baf-e13b-4fbc-a4d7-f3a2a85501f1"
      },
      "outputs": [
        {
          "name": "stdout",
          "output_type": "stream",
          "text": [
            "956/956 [==============================] - 945s 989ms/step - loss: 0.0091 - accuracy: 0.9979 - val_loss: 0.0220 - val_accuracy: 0.9940 - lr: 1.0000e-08\n"
          ]
        }
      ],
      "source": [
        "fit_model(model)"
      ]
    },
    {
      "cell_type": "markdown",
      "metadata": {
        "id": "kDyJlnUmqeZn"
      },
      "source": [
        "In the last epoch, the training loss slightly decreased, but there was no decrease in the validation loss. I'll continue training for an additional epoch at the same learning rate."
      ]
    },
    {
      "cell_type": "code",
      "execution_count": null,
      "metadata": {
        "execution": {
          "iopub.execute_input": "2024-05-29T07:20:32.481194Z",
          "iopub.status.busy": "2024-05-29T07:20:32.480253Z",
          "iopub.status.idle": "2024-05-29T07:36:19.491239Z",
          "shell.execute_reply": "2024-05-29T07:36:19.490296Z",
          "shell.execute_reply.started": "2024-05-29T07:20:32.481156Z"
        },
        "id": "9zea3mDXqeZn",
        "outputId": "ffd9bbfa-8b7a-486c-b973-294a77e15777"
      },
      "outputs": [
        {
          "name": "stdout",
          "output_type": "stream",
          "text": [
            "956/956 [==============================] - 947s 991ms/step - loss: 0.0090 - accuracy: 0.9980 - val_loss: 0.0220 - val_accuracy: 0.9940 - lr: 1.0000e-08\n"
          ]
        }
      ],
      "source": [
        "fit_model(model)"
      ]
    },
    {
      "cell_type": "markdown",
      "metadata": {
        "id": "Gwln1784qeZn"
      },
      "source": [
        "We can see that the training loss has only improved by 1% and the validation loss has not improved at all. I'll slightly increase the learning rate in the next epoch and see if there is an improvement."
      ]
    },
    {
      "cell_type": "code",
      "execution_count": null,
      "metadata": {
        "execution": {
          "iopub.execute_input": "2024-05-29T07:46:24.479540Z",
          "iopub.status.busy": "2024-05-29T07:46:24.479095Z",
          "iopub.status.idle": "2024-05-29T08:02:14.541712Z",
          "shell.execute_reply": "2024-05-29T08:02:14.540769Z",
          "shell.execute_reply.started": "2024-05-29T07:46:24.479503Z"
        },
        "id": "859J_tpfqeZn",
        "outputId": "efecc2a6-73d4-4462-c1cc-db857eda504c"
      },
      "outputs": [
        {
          "name": "stdout",
          "output_type": "stream",
          "text": [
            "956/956 [==============================] - 950s 994ms/step - loss: 0.0090 - accuracy: 0.9978 - val_loss: 0.0220 - val_accuracy: 0.9940 - lr: 2.0000e-08\n"
          ]
        }
      ],
      "source": [
        "learning_rate = 2e-8\n",
        "fit_model(model)"
      ]
    },
    {
      "cell_type": "markdown",
      "metadata": {
        "id": "XAeP1Zy4qeZo"
      },
      "source": [
        "We again see that there is no improvement, so I'll increase the learning rate again:"
      ]
    },
    {
      "cell_type": "code",
      "execution_count": null,
      "metadata": {
        "execution": {
          "iopub.execute_input": "2024-05-29T08:07:31.908355Z",
          "iopub.status.busy": "2024-05-29T08:07:31.907449Z",
          "iopub.status.idle": "2024-05-29T08:23:17.947139Z",
          "shell.execute_reply": "2024-05-29T08:23:17.946252Z",
          "shell.execute_reply.started": "2024-05-29T08:07:31.908296Z"
        },
        "id": "t8dkC5D2qeZp",
        "outputId": "26a77c43-6a04-4f41-9088-b3083d752ae5"
      },
      "outputs": [
        {
          "name": "stdout",
          "output_type": "stream",
          "text": [
            "956/956 [==============================] - 946s 990ms/step - loss: 0.0089 - accuracy: 0.9981 - val_loss: 0.0222 - val_accuracy: 0.9935 - lr: 5.0000e-08\n"
          ]
        }
      ],
      "source": [
        "learning_rate = 5e-8\n",
        "fit_model(model)"
      ]
    },
    {
      "cell_type": "markdown",
      "metadata": {
        "id": "wbFcYUuqqeZq"
      },
      "source": [
        "We see that the training loss has decreased slightly while the validation loss has increased. It appears we are now beginning to overfit. To confirm this, I'll train for another epoch with the same learning rate:"
      ]
    },
    {
      "cell_type": "code",
      "execution_count": null,
      "metadata": {
        "execution": {
          "iopub.execute_input": "2024-05-29T08:29:10.558451Z",
          "iopub.status.busy": "2024-05-29T08:29:10.557381Z",
          "iopub.status.idle": "2024-05-29T08:44:57.341883Z",
          "shell.execute_reply": "2024-05-29T08:44:57.340665Z",
          "shell.execute_reply.started": "2024-05-29T08:29:10.558405Z"
        },
        "id": "1owkMelIqeZq",
        "outputId": "f2d35613-c30d-4e00-ad87-1c7097b1f3e0"
      },
      "outputs": [
        {
          "name": "stdout",
          "output_type": "stream",
          "text": [
            "956/956 [==============================] - 947s 990ms/step - loss: 0.0091 - accuracy: 0.9980 - val_loss: 0.0224 - val_accuracy: 0.9935 - lr: 5.0000e-08\n"
          ]
        }
      ],
      "source": [
        "fit_model(model)"
      ]
    },
    {
      "cell_type": "markdown",
      "metadata": {
        "id": "2LzfB_0aqeZr"
      },
      "source": [
        "It seems that we have found the optimal model, so we will use the learning rate scheduling we found to train a new model on the full training set."
      ]
    },
    {
      "cell_type": "code",
      "execution_count": null,
      "metadata": {
        "execution": {
          "iopub.execute_input": "2024-05-29T12:00:06.099404Z",
          "iopub.status.busy": "2024-05-29T12:00:06.099059Z",
          "iopub.status.idle": "2024-05-29T12:02:40.995018Z",
          "shell.execute_reply": "2024-05-29T12:02:40.994083Z",
          "shell.execute_reply.started": "2024-05-29T12:00:06.099380Z"
        },
        "id": "SUwxuLs2qeZs"
      },
      "outputs": [],
      "source": [
        "train = samples[samples['TTV split'] >= 0]\n",
        "val = samples[samples['TTV split'] == 0]\n",
        "train_dataset = create_dataset(train)\n",
        "\n",
        "train_dataset = create_dataset(train)\n",
        "val_dataset = create_dataset(val)"
      ]
    },
    {
      "cell_type": "code",
      "execution_count": null,
      "metadata": {
        "execution": {
          "iopub.execute_input": "2024-05-29T12:02:40.997101Z",
          "iopub.status.busy": "2024-05-29T12:02:40.996799Z",
          "iopub.status.idle": "2024-05-29T12:02:41.001686Z",
          "shell.execute_reply": "2024-05-29T12:02:41.000849Z",
          "shell.execute_reply.started": "2024-05-29T12:02:40.997076Z"
        },
        "id": "TlJxfSUdqeZs"
      },
      "outputs": [],
      "source": [
        "learning_rates = [1e-5, 1e-6, 1e-7]\n",
        "\n",
        "def lr_scheduler(epoch, lr):\n",
        "    return learning_rates[epoch]"
      ]
    },
    {
      "cell_type": "code",
      "execution_count": null,
      "metadata": {
        "execution": {
          "iopub.execute_input": "2024-05-29T12:02:41.003503Z",
          "iopub.status.busy": "2024-05-29T12:02:41.003177Z",
          "iopub.status.idle": "2024-05-29T12:02:41.028441Z",
          "shell.execute_reply": "2024-05-29T12:02:41.027713Z",
          "shell.execute_reply.started": "2024-05-29T12:02:41.003473Z"
        },
        "id": "Up6we2TIqeZt"
      },
      "outputs": [],
      "source": [
        "learning_rate = 1e-5\n",
        "compile_model(model)"
      ]
    },
    {
      "cell_type": "code",
      "execution_count": null,
      "metadata": {
        "execution": {
          "iopub.execute_input": "2024-05-29T12:02:41.030242Z",
          "iopub.status.busy": "2024-05-29T12:02:41.029982Z",
          "iopub.status.idle": "2024-05-29T13:03:24.675625Z",
          "shell.execute_reply": "2024-05-29T13:03:24.674673Z",
          "shell.execute_reply.started": "2024-05-29T12:02:41.030219Z"
        },
        "id": "INLFgQ3zqeZt",
        "outputId": "10310aab-91e5-42ce-9be8-5ce24199f5ac"
      },
      "outputs": [
        {
          "name": "stdout",
          "output_type": "stream",
          "text": [
            "Epoch 1/3\n",
            "WARNING: AutoGraph could not transform <function infer_framework at 0x7e1bf3534670> and will run it as-is.\n",
            "Cause: for/else statement not yet supported\n",
            "To silence this warning, decorate the function with @tf.autograph.experimental.do_not_convert\n"
          ]
        },
        {
          "name": "stderr",
          "output_type": "stream",
          "text": [
            "WARNING: All log messages before absl::InitializeLog() is called are written to STDERR\n",
            "I0000 00:00:1716984207.814080     116 device_compiler.h:186] Compiled cluster using XLA!  This line is logged at most once for the lifetime of the process.\n"
          ]
        },
        {
          "name": "stdout",
          "output_type": "stream",
          "text": [
            "1195/1195 [==============================] - 1254s 1s/step - loss: 0.0921 - accuracy: 0.9652 - val_loss: 0.0141 - val_accuracy: 0.9963 - lr: 1.0000e-05\n",
            "Epoch 2/3\n",
            "1195/1195 [==============================] - 1196s 1s/step - loss: 0.0098 - accuracy: 0.9974 - val_loss: 0.0178 - val_accuracy: 0.9956 - lr: 1.0000e-06\n",
            "Epoch 3/3\n",
            "1195/1195 [==============================] - 1194s 999ms/step - loss: 0.0079 - accuracy: 0.9983 - val_loss: 0.0156 - val_accuracy: 0.9958 - lr: 1.0000e-07\n"
          ]
        }
      ],
      "source": [
        "epochs = 3\n",
        "batch_size=128\n",
        "fit_model(model)"
      ]
    },
    {
      "cell_type": "markdown",
      "metadata": {
        "id": "v8piYTKsqeZt"
      },
      "source": [
        "We can now push our trained model to the huggingface hub:"
      ]
    },
    {
      "cell_type": "code",
      "execution_count": null,
      "metadata": {
        "execution": {
          "iopub.execute_input": "2024-05-29T13:23:08.472026Z",
          "iopub.status.busy": "2024-05-29T13:23:08.471677Z",
          "iopub.status.idle": "2024-05-29T13:23:08.494081Z",
          "shell.execute_reply": "2024-05-29T13:23:08.493468Z",
          "shell.execute_reply.started": "2024-05-29T13:23:08.471999Z"
        },
        "colab": {
          "referenced_widgets": [
            "005a789b029d4f9cb6d143f3d98e5bde"
          ]
        },
        "id": "o7DbZQVwqeZt",
        "outputId": "38a9a0c7-8d1b-48dd-f282-88f64e4e463f"
      },
      "outputs": [
        {
          "data": {
            "application/vnd.jupyter.widget-view+json": {
              "model_id": "005a789b029d4f9cb6d143f3d98e5bde",
              "version_major": 2,
              "version_minor": 0
            },
            "text/plain": [
              "VBox(children=(HTML(value='<center> <img\\nsrc=https://huggingface.co/front/assets/huggingface_logo-noborder.sv…"
            ]
          },
          "metadata": {},
          "output_type": "display_data"
        }
      ],
      "source": [
        "#from huggingface_hub import notebook_login\n",
        "#notebook_login()\n",
        "#model.push_to_hub('ai-detector-distilbert')\n",
        "#push_to_hub('ai-detector-distilbert')"
      ]
    },
    {
      "cell_type": "markdown",
      "metadata": {
        "id": "i18LlnJnqeZu"
      },
      "source": [
        "The model is now available on the huggingface hub at https://huggingface.co/tommyliphys/ai-detector-distilbert."
      ]
    },
    {
      "cell_type": "code",
      "execution_count": null,
      "metadata": {
        "id": "CdpdKhRBqeZu"
      },
      "outputs": [],
      "source": []
    }
  ],
  "metadata": {
    "accelerator": "GPU",
    "colab": {
      "gpuType": "T4",
      "machine_shape": "hm",
      "provenance": []
    },
    "kaggle": {
      "accelerator": "nvidiaTeslaT4",
      "dataSources": [],
      "dockerImageVersionId": 30699,
      "isGpuEnabled": true,
      "isInternetEnabled": true,
      "language": "python",
      "sourceType": "notebook"
    },
    "kernelspec": {
      "display_name": "Python 3 (ipykernel)",
      "language": "python",
      "name": "python3"
    },
    "language_info": {
      "codemirror_mode": {
        "name": "ipython",
        "version": 3
      },
      "file_extension": ".py",
      "mimetype": "text/x-python",
      "name": "python",
      "nbconvert_exporter": "python",
      "pygments_lexer": "ipython3",
      "version": "3.12.3"
    },
    "widgets": {
      "application/vnd.jupyter.widget-state+json": {}
    }
  },
  "nbformat": 4,
  "nbformat_minor": 0
}